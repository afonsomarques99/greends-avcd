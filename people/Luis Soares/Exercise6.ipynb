{
 "cells": [
  {
   "cell_type": "code",
   "execution_count": null,
   "metadata": {},
   "outputs": [],
   "source": [
    "import pandas as pd\n",
    "import zipfile\n",
    "import seaborn as sns\n",
    "import matplotlib.pyplot as plt\n",
    "import numpy as np\n",
    "import seaborn as sns\n",
    "from scipy import stats\n",
    "import statsmodels.api as sm\n",
    "import statsmodels.formula.api as smf\n",
    "from statsmodels.stats.outliers_influence import variance_inflation_factor\n",
    "\n",
    "df = pd.read_csv('EFIplus_medit.zip',compression='zip', sep=\";\")\n",
    "df = df.dropna()"
   ]
  },
  {
   "cell_type": "code",
   "execution_count": null,
   "metadata": {},
   "outputs": [],
   "source": [
    "pd.options.display.max_seq_items = 200\n",
    "print(df.columns)"
   ]
  },
  {
   "cell_type": "code",
   "execution_count": null,
   "metadata": {},
   "outputs": [],
   "source": [
    "#Find where the columns related to the number of individuals for each species start\n",
    "first_column = df.columns.get_loc(\"Total_sp\")+1\n",
    "print(\"Column nº\", first_column)"
   ]
  },
  {
   "cell_type": "code",
   "execution_count": null,
   "metadata": {},
   "outputs": [],
   "source": [
    "df[\"sp_rich\"]=df[df.iloc[:,first_column:] >= 1].count(axis=1)\n",
    "print(sp_rich)"
   ]
  },
  {
   "cell_type": "code",
   "execution_count": null,
   "metadata": {},
   "outputs": [],
   "source": [
    "columns = [\"sp_rich\", \"Altitude\", \"Actual_river_slope\", \"Elevation_mean_catch\", \"prec_ann_catch\", \"temp_ann\", \"temp_jan\", \"temp_jul\"]\n",
    "df_2 = df[columns]\n",
    "df_2.head()"
   ]
  },
  {
   "cell_type": "code",
   "execution_count": null,
   "metadata": {},
   "outputs": [],
   "source": [
    "fig, axes = plt.subplots(nrows=2, ncols=4, figsize=(16,8))\n",
    "\n",
    "for i, col in enumerate(columns):\n",
    "    sns.histplot(df_2[col], ax=axes[i//4,i%4], kde=True)\n",
    "\n",
    "plt.tight_layout()\n",
    "plt.show()"
   ]
  },
  {
   "cell_type": "code",
   "execution_count": null,
   "metadata": {},
   "outputs": [],
   "source": [
    "df_2['Actual_river_slope'] = np.log10(df_2['Actual_river_slope']+1)\n",
    "df_2.rename(columns={'Actual_river_slope': 'log10_Actual_river_slope'}, inplace = True)\n",
    "columns = list(df_2)\n",
    "\n",
    "fig, axes = plt.subplots(nrows=2, ncols=4, figsize=(16,8))\n",
    "\n",
    "for i, col in enumerate(columns):\n",
    "    sns.histplot(df_2[col], ax=axes[i//4,i%4], kde=True)\n",
    "\n",
    "plt.tight_layout()\n",
    "plt.show()"
   ]
  },
  {
   "cell_type": "code",
   "execution_count": null,
   "metadata": {},
   "outputs": [],
   "source": [
    "fig, axes = plt.subplots(nrows=2, ncols=4, figsize=(16,8))\n",
    "\n",
    "for i, col in enumerate(columns[1:]):\n",
    "    # Formula: response ~ predictor. Fit the model.\n",
    "    model = smf.ols(formula = f'sp_rich ~ {col}', data=df_2)\n",
    "    model = model.fit()\n",
    "\n",
    "    # get the coefficient estimates, R-squared, F-statistics\n",
    "    est_coeffs = model.params\n",
    "    R2 = model.rsquared\n",
    "    F = model.fvalue\n",
    "    p = model.f_pvalue\n",
    "\n",
    "    # Generate the predicted values from the fitted model\n",
    "    predicted = model.predict(df_2[col])\n",
    "\n",
    "    # Plot the original data points and the predicted values\n",
    "    nrow = i // 4\n",
    "    ncol = i % 4\n",
    "    ax = axes[nrow][ncol]\n",
    "    sns.scatterplot(x = df_2[col], y = df_2['sp_rich'], ax = ax)\n",
    "    ax.plot(df_2[col], predicted, color='red')\n",
    "    ax.set_xlabel(f'{col} \\n\\n intercept={est_coeffs[0]:.2f}, slope={est_coeffs[1]:.2f} \\n R^2 = {R2:.2f}, F-stat = {F:.0f}, p = {p:.2f}')\n",
    "    ax.set_ylabel('sp_rich')\n",
    "    ax.set_title(f'~{col}')\n",
    "\n",
    "plt.subplots_adjust(hspace = 0.5)\n",
    "plt.show()"
   ]
  },
  {
   "cell_type": "code",
   "execution_count": null,
   "metadata": {},
   "outputs": [],
   "source": [
    "X = df_2[columns[1:]]\n",
    "y = df_2['sp_rich']\n",
    "\n",
    "X = sm.add_constant(X) \n",
    "model = sm.OLS(y, X).fit()\n",
    "\n",
    "print(f'R^2 = {model.rsquared:.2f}, F-stat = {model.fvalue:}, p = {model.f_pvalue:.2f}')\n",
    "print(model.summary())\n",
    "\n",
    "fig = sm.graphics.plot_partregress_grid(model)\n"
   ]
  },
  {
   "cell_type": "code",
   "execution_count": null,
   "metadata": {},
   "outputs": [],
   "source": [
    "predictor_vars = ['Altitude', 'log10_Actual_river_slope', 'Elevation_mean_catch', 'prec_ann_catch', 'temp_ann', 'temp_jan', 'temp_jul']\n",
    "X = df_2[predictor_vars]\n",
    "y = df_2['sp_rich']\n",
    "\n",
    "vif = pd.DataFrame()\n",
    "vif['Predictor'] = X.columns\n",
    "vif['VIF'] = [variance_inflation_factor(X.values, i) for i in range(X.shape[1])]\n",
    "\n",
    "print(vif)"
   ]
  },
  {
   "cell_type": "code",
   "execution_count": null,
   "metadata": {},
   "outputs": [],
   "source": [
    "X2 = X.drop(['temp_ann', 'temp_jan', 'temp_jul'], axis=1)\n",
    "model2 = sm.OLS(y, sm.add_constant(X2)).fit()\n",
    "\n",
    "coeffs = pd.DataFrame()\n",
    "coeffs['MLR1']= model.params\n",
    "coeffs['MLR2'] = model2.params\n",
    "print(coeffs)"
   ]
  },
  {
   "cell_type": "code",
   "execution_count": null,
   "metadata": {},
   "outputs": [],
   "source": [
    "X3 = X2.drop(['Elevation_mean_catch', 'prec_ann_catch'], axis=1)\n",
    "model3 = sm.OLS(y, sm.add_constant(X3)).fit()\n",
    "\n",
    "coeffs['MLR3'] = model3.params\n",
    "print(coeffs)"
   ]
  }
 ],
 "metadata": {
  "kernelspec": {
   "display_name": "Python 3",
   "language": "python",
   "name": "python3"
  },
  "language_info": {
   "codemirror_mode": {
    "name": "ipython",
    "version": 3
   },
   "file_extension": ".py",
   "mimetype": "text/x-python",
   "name": "python",
   "nbconvert_exporter": "python",
   "pygments_lexer": "ipython3",
   "version": "3.9.12"
  },
  "orig_nbformat": 4,
  "vscode": {
   "interpreter": {
    "hash": "837ebf68dbcfd8ee03dd9cfb841ed45d11b171126d90364b57c077ed2612ad29"
   }
  }
 },
 "nbformat": 4,
 "nbformat_minor": 2
}
