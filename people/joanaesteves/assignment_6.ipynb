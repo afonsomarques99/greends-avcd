{
 "cells": [
  {
   "attachments": {},
   "cell_type": "markdown",
   "metadata": {},
   "source": [
    "# Exercise 6 - Analysis and Visualisation of Complex Agro-Environmental Data"
   ]
  },
  {
   "attachments": {},
   "cell_type": "markdown",
   "metadata": {},
   "source": [
    "The dataset in *EFIplus_medit.zip* will be used in this exercise."
   ]
  },
  {
   "cell_type": "code",
   "execution_count": 1,
   "metadata": {},
   "outputs": [],
   "source": [
    "import numpy as np\n",
    "import pandas as pd\n",
    "import scipy.stats as sts\n",
    "import statsmodels.stats as stm\n",
    "import scikit_posthocs as sp\n",
    "import seaborn as sns\n",
    "import matplotlib.pyplot as plt"
   ]
  },
  {
   "attachments": {},
   "cell_type": "markdown",
   "metadata": {},
   "source": [
    "1. Create a column with the total number of species present (species richness) in each sampling site."
   ]
  },
  {
   "cell_type": "code",
   "execution_count": 2,
   "metadata": {},
   "outputs": [],
   "source": [
    "df = pd.read_csv('EFIplus_medit.zip',compression='zip', sep=\";\")"
   ]
  },
  {
   "cell_type": "code",
   "execution_count": 15,
   "metadata": {},
   "outputs": [
    {
     "name": "stdout",
     "output_type": "stream",
     "text": [
      "0        5\n",
      "1        5\n",
      "2        5\n",
      "3       10\n",
      "4       10\n",
      "        ..\n",
      "5006    25\n",
      "5007    35\n",
      "5008    30\n",
      "5009     5\n",
      "5010    30\n",
      "Name: species_richness, Length: 5011, dtype: int64\n"
     ]
    }
   ],
   "source": [
    "start_column = 56\n",
    "columns_to_sum = df.columns[start_column:]\n",
    "\n",
    "df['species_richness'] = df[columns_to_sum].sum(axis=1)\n",
    "\n",
    "print(df['species_richness'])"
   ]
  },
  {
   "attachments": {},
   "cell_type": "markdown",
   "metadata": {},
   "source": [
    "2. Run a simple linear regression relating the species richness with each one of the continuous \n",
    "environmental variables in the dataset: Altitude, Actual_river_slope, Elevation_mean_catch, \n",
    "prec_ann_catch, temp_ann, temp_jan, temp_jul. Before running the analyses, check if any of the \n",
    "variables requires to be transformed and apply the appropriate transformation. Compute the \n",
    "regression coefficient estimates, the r-square and the F-statistics. You may plot the fitted model."
   ]
  },
  {
   "attachments": {},
   "cell_type": "markdown",
   "metadata": {},
   "source": [
    "3. Now try to run a multiple linear regression with the same data and check the differences between the \n",
    "previous univariate regression coefficients and the new coefficients. Plot the partial dependence plots \n",
    "to compare responses with the previous single effects."
   ]
  },
  {
   "attachments": {},
   "cell_type": "markdown",
   "metadata": {},
   "source": [
    "4. Check the multicolinearity among the predictor variables and run a second more parsimonious \n",
    "regression model. Check how the coefficients have changed."
   ]
  }
 ],
 "metadata": {
  "kernelspec": {
   "display_name": "Python 3",
   "language": "python",
   "name": "python3"
  },
  "language_info": {
   "codemirror_mode": {
    "name": "ipython",
    "version": 3
   },
   "file_extension": ".py",
   "mimetype": "text/x-python",
   "name": "python",
   "nbconvert_exporter": "python",
   "pygments_lexer": "ipython3",
   "version": "3.10.7"
  },
  "orig_nbformat": 4
 },
 "nbformat": 4,
 "nbformat_minor": 2
}
