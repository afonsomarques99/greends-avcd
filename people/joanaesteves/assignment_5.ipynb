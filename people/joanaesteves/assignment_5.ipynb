{
 "cells": [
  {
   "attachments": {},
   "cell_type": "markdown",
   "metadata": {},
   "source": [
    "# Exercise 5 - Analysis and Visualisation of Complex Agro-Environmental Data"
   ]
  },
  {
   "attachments": {},
   "cell_type": "markdown",
   "metadata": {},
   "source": [
    "**In this exercise we will use again the dataset in EFIplus_medit.zip to perform some hypothesis testing.**"
   ]
  },
  {
   "cell_type": "code",
   "execution_count": 1,
   "metadata": {},
   "outputs": [],
   "source": [
    "import numpy as np\n",
    "import pandas as pd\n",
    "import scipy.stats as sts\n",
    "import statsmodels.stats as stm\n",
    "import scikit_posthocs as sp\n",
    "import seaborn as sns\n",
    "import matplotlib.pyplot as plt"
   ]
  },
  {
   "attachments": {},
   "cell_type": "markdown",
   "metadata": {},
   "source": [
    "1. Test if the frequency of sites with presence and absence of Salmo trutta fario (Brown Trout) are \n",
    "independent from the country. Please state which is/are the null hypothesis of your test(s)."
   ]
  },
  {
   "attachments": {},
   "cell_type": "markdown",
   "metadata": {},
   "source": [
    "**We will be using the Chi-Square Test of Independence to determine whether or not there is a significant association between two categorical variables.**"
   ]
  },
  {
   "cell_type": "code",
   "execution_count": 2,
   "metadata": {},
   "outputs": [],
   "source": [
    "df = pd.read_csv('EFIplus_medit.zip',compression='zip', sep=\";\")"
   ]
  },
  {
   "cell_type": "code",
   "execution_count": 6,
   "metadata": {},
   "outputs": [
    {
     "data": {
      "text/html": [
       "<div>\n",
       "<style scoped>\n",
       "    .dataframe tbody tr th:only-of-type {\n",
       "        vertical-align: middle;\n",
       "    }\n",
       "\n",
       "    .dataframe tbody tr th {\n",
       "        vertical-align: top;\n",
       "    }\n",
       "\n",
       "    .dataframe thead th {\n",
       "        text-align: right;\n",
       "    }\n",
       "</style>\n",
       "<table border=\"1\" class=\"dataframe\">\n",
       "  <thead>\n",
       "    <tr style=\"text-align: right;\">\n",
       "      <th>Salmo trutta fario</th>\n",
       "      <th>0</th>\n",
       "      <th>1</th>\n",
       "    </tr>\n",
       "    <tr>\n",
       "      <th>Country</th>\n",
       "      <th></th>\n",
       "      <th></th>\n",
       "    </tr>\n",
       "  </thead>\n",
       "  <tbody>\n",
       "    <tr>\n",
       "      <th>France</th>\n",
       "      <td>13</td>\n",
       "      <td>59</td>\n",
       "    </tr>\n",
       "    <tr>\n",
       "      <th>Italy</th>\n",
       "      <td>109</td>\n",
       "      <td>76</td>\n",
       "    </tr>\n",
       "    <tr>\n",
       "      <th>Portugal</th>\n",
       "      <td>615</td>\n",
       "      <td>252</td>\n",
       "    </tr>\n",
       "    <tr>\n",
       "      <th>Spain</th>\n",
       "      <td>1239</td>\n",
       "      <td>2648</td>\n",
       "    </tr>\n",
       "  </tbody>\n",
       "</table>\n",
       "</div>"
      ],
      "text/plain": [
       "Salmo trutta fario     0     1\n",
       "Country                       \n",
       "France                13    59\n",
       "Italy                109    76\n",
       "Portugal             615   252\n",
       "Spain               1239  2648"
      ]
     },
     "execution_count": 6,
     "metadata": {},
     "output_type": "execute_result"
    }
   ],
   "source": [
    "# Create a contingency table -> counts the number of sites with presence and absence of Brown Trout for each country\n",
    "contingency_table = pd.crosstab(df[\"Country\"], df[\"Salmo trutta fario\"])\n",
    "contingency_table"
   ]
  },
  {
   "attachments": {},
   "cell_type": "markdown",
   "metadata": {},
   "source": [
    "**Null hypothesis**"
   ]
  },
  {
   "attachments": {},
   "cell_type": "markdown",
   "metadata": {},
   "source": [
    "H0: The *Salmo trutta fario* (Brown Trout) and the country are independent."
   ]
  },
  {
   "attachments": {},
   "cell_type": "markdown",
   "metadata": {},
   "source": [
    "**Alpha = 0.05**"
   ]
  },
  {
   "cell_type": "code",
   "execution_count": 26,
   "metadata": {},
   "outputs": [
    {
     "name": "stdout",
     "output_type": "stream",
     "text": [
      "The chi-squared statistic is 496.3723854072799\n",
      "The p-value is 2.9162328651936495e-107\n",
      "The degrees of freedom are 3\n",
      "The expected cell counts are shown in the following array [[  28.39193774   43.60806226]\n",
      " [  72.95150669  112.04849331]\n",
      " [ 341.88625025  525.11374975]\n",
      " [1532.77030533 2354.22969467]]\n"
     ]
    }
   ],
   "source": [
    "stat, p, dof, expected = sts.chi2_contingency(contingency_table)\n",
    "print(\"The chi-squared statistic is \" + str(stat))\n",
    "print(\"The p-value is \" + str(p))\n",
    "print(\"The degrees of freedom are \" + str(dof))\n",
    "print(\"The expected cell counts are shown in the following array \" + str(expected))\n"
   ]
  },
  {
   "attachments": {},
   "cell_type": "markdown",
   "metadata": {},
   "source": [
    "**Conclusion: The *Salmo trutta fario* (Brown Trout) and the country are NOT independent, because p < 0.05 which means the null hypothesis is rejected.**"
   ]
  },
  {
   "attachments": {},
   "cell_type": "markdown",
   "metadata": {},
   "source": [
    "2. Test whether the means (or medians) of “Actual_river_slope” between presence and absence sites of\n",
    "Salmo trutta fario (Brown Trout) are equal using an appropriate test. Please state which is/are the null \n",
    "hypothesis of your test(s)."
   ]
  },
  {
   "cell_type": "code",
   "execution_count": 30,
   "metadata": {},
   "outputs": [],
   "source": [
    "df2 = df.dropna()\n",
    "df3 = df2[['Salmo trutta fario','Actual_river_slope']]\n",
    "sample0 = df2[df2['Salmo trutta fario'] == 0]['Actual_river_slope']\n",
    "sample1 = df2[df2['Salmo trutta fario'] == 1]['Actual_river_slope']"
   ]
  },
  {
   "attachments": {},
   "cell_type": "markdown",
   "metadata": {},
   "source": [
    "**Calculate the means and medians**"
   ]
  },
  {
   "cell_type": "code",
   "execution_count": 31,
   "metadata": {},
   "outputs": [
    {
     "name": "stdout",
     "output_type": "stream",
     "text": [
      "sample means: 8.187, 18.100\n",
      "sample medians: 4.050, 10.700\n"
     ]
    }
   ],
   "source": [
    "print('sample means: %.3f, %.3f' % (sample0.mean(), sample1.mean()))\n",
    "print('sample medians: %.3f, %.3f' % (sample0.median(), sample1.median()))"
   ]
  },
  {
   "cell_type": "code",
   "execution_count": 43,
   "metadata": {},
   "outputs": [
    {
     "data": {
      "text/plain": [
       "<AxesSubplot: xlabel='Salmo trutta fario', ylabel='Actual_river_slope'>"
      ]
     },
     "execution_count": 43,
     "metadata": {},
     "output_type": "execute_result"
    },
    {
     "data": {
      "image/png": "[encoded data removed]",
      "text/plain": [
       "<Figure size 640x480 with 1 Axes>"
      ]
     },
     "metadata": {},
     "output_type": "display_data"
    }
   ],
   "source": [
    "sns.stripplot(df3, x='Salmo trutta fario', y='Actual_river_slope', hue='Salmo trutta fario', jitter=.35, alpha=.5, palette=\"rocket\")"
   ]
  },
  {
   "attachments": {},
   "cell_type": "markdown",
   "metadata": {},
   "source": [
    "**We will be using the Mann-Whitney U Test**"
   ]
  },
  {
   "attachments": {},
   "cell_type": "markdown",
   "metadata": {},
   "source": [
    "**Null hypothesis**"
   ]
  },
  {
   "attachments": {},
   "cell_type": "markdown",
   "metadata": {},
   "source": [
    "H0: The populations have equal medians."
   ]
  },
  {
   "attachments": {},
   "cell_type": "markdown",
   "metadata": {},
   "source": [
    "**Alpha = 0.05**"
   ]
  },
  {
   "cell_type": "code",
   "execution_count": 44,
   "metadata": {},
   "outputs": [
    {
     "name": "stdout",
     "output_type": "stream",
     "text": [
      "t-stat=439968.000, p-value=0.000\n"
     ]
    }
   ],
   "source": [
    "stat, p = sts.mannwhitneyu(sample0, sample1, alternative='two-sided')\n",
    "print('t-stat=%.3f, p-value=%.3f' % (stat, p))"
   ]
  },
  {
   "attachments": {},
   "cell_type": "markdown",
   "metadata": {},
   "source": [
    "**Conclusion: The populations don't have equal medians, because p < 0.05 which means the null hypothesis is rejected.**"
   ]
  }
 ],
 "metadata": {
  "kernelspec": {
   "display_name": "Python 3",
   "language": "python",
   "name": "python3"
  },
  "language_info": {
   "codemirror_mode": {
    "name": "ipython",
    "version": 3
   },
   "file_extension": ".py",
   "mimetype": "text/x-python",
   "name": "python",
   "nbconvert_exporter": "python",
   "pygments_lexer": "ipython3",
   "version": "3.10.7"
  },
  "orig_nbformat": 4
 },
 "nbformat": 4,
 "nbformat_minor": 2
}
