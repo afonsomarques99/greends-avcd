{
 "cells": [
  {
   "attachments": {},
   "cell_type": "markdown",
   "metadata": {},
   "source": [
    "1. Run agglomerative cluster analysis using different linkage methods based on quantitative environmental variables, using sites from the Douro and Tejo basins."
   ]
  },
  {
   "cell_type": "code",
   "execution_count": 2,
   "metadata": {},
   "outputs": [],
   "source": [
    "import numpy as np \n",
    "import pandas as pd \n",
    "import matplotlib.pyplot as plt\n",
    "import seaborn as sns \n",
    "from scipy import stats \n",
    "from scipy.cluster.hierarchy import dendrogram, linkage \n",
    "from sklearn.cluster import AgglomerativeClustering"
   ]
  },
  {
   "cell_type": "code",
   "execution_count": 3,
   "metadata": {},
   "outputs": [],
   "source": [
    "df = pd.read_csv('EFIplus_medit.zip',compression='zip', sep=\";\")\n",
    "df = df.dropna()"
   ]
  },
  {
   "cell_type": "code",
   "execution_count": 4,
   "metadata": {},
   "outputs": [],
   "source": [
    "#enviromental variables\n",
    "# \"Altitude\", \n",
    "# \"Actual_river_slope\"\n",
    "# \"Elevation_mean_catch\" \n",
    "# \"prec_ann_catch\"\n",
    "# \"temp_ann\"\n",
    "# \"temp_jan\"\n",
    "# \"temp_jul\""
   ]
  },
  {
   "cell_type": "code",
   "execution_count": 24,
   "metadata": {},
   "outputs": [
    {
     "data": {
      "text/plain": [
       "(       Site_code   Latitude  Longitude   Country Catchment_name  Galiza  \\\n",
       " 18    ES_03_0001  41.957268  -2.926857     Spain          Douro       0   \n",
       " 19    ES_03_0002  41.850818  -2.591150     Spain          Douro       0   \n",
       " 28    ES_03_0012  41.498026  -5.528753     Spain          Douro       0   \n",
       " 32    ES_03_0016  41.586853  -3.072064     Spain          Douro       0   \n",
       " 43    ES_03_0029  41.830177  -3.782420     Spain          Douro       0   \n",
       " ...          ...        ...        ...       ...            ...     ...   \n",
       " 4382     PTDO268  41.151175  -7.775952  Portugal          Douro       0   \n",
       " 4383     PTDO269  41.160383  -7.660660  Portugal          Douro       0   \n",
       " 4384     PTDO270  41.145588  -7.353348  Portugal          Douro       0   \n",
       " 4385     PTDO271  41.104665  -7.099140  Portugal          Douro       0   \n",
       " 4386     PTDO272  41.046627  -8.440090  Portugal          Douro       0   \n",
       " \n",
       "       Subsample  Calib_EFI_Medit  Calib_connect  Calib_hydrol  ...  \\\n",
       " 18            1                1              1             1  ...   \n",
       " 19            1                0              1             0  ...   \n",
       " 28            1                0              1             0  ...   \n",
       " 32            1                0              1             0  ...   \n",
       " 43            1                0              1             0  ...   \n",
       " ...         ...              ...            ...           ...  ...   \n",
       " 4382          1                0              1             0  ...   \n",
       " 4383          1                0              1             0  ...   \n",
       " 4384          1                0              0             0  ...   \n",
       " 4385          1                0              1             0  ...   \n",
       " 4386          1                0              0             0  ...   \n",
       " \n",
       "       Squalius malacitanus  Squalius pyrenaicus  Squalius torgalensis  \\\n",
       " 18                       0                    0                     0   \n",
       " 19                       0                    0                     0   \n",
       " 28                       0                    0                     0   \n",
       " 32                       0                    0                     0   \n",
       " 43                       0                    0                     0   \n",
       " ...                    ...                  ...                   ...   \n",
       " 4382                     0                    0                     0   \n",
       " 4383                     0                    0                     0   \n",
       " 4384                     0                    0                     0   \n",
       " 4385                     0                    0                     0   \n",
       " 4386                     0                    0                     0   \n",
       " \n",
       "       Thymallus thymallus  Tinca tinca Zingel asper Squalius sp  Barbatula sp  \\\n",
       " 18                      0            0            0           1             0   \n",
       " 19                      0            0            0           1             0   \n",
       " 28                      0            0            0           1             0   \n",
       " 32                      0            0            0           1             0   \n",
       " 43                      0            0            0           1             0   \n",
       " ...                   ...          ...          ...         ...           ...   \n",
       " 4382                    0            0            0           0             0   \n",
       " 4383                    0            0            0           0             0   \n",
       " 4384                    0            0            0           0             0   \n",
       " 4385                    0            0            0           0             0   \n",
       " 4386                    0            0            0           1             0   \n",
       " \n",
       "      Phoxinus sp  Iberochondrostoma_sp  \n",
       " 18             0                     0  \n",
       " 19             0                     0  \n",
       " 28             0                     0  \n",
       " 32             0                     0  \n",
       " 43             0                     0  \n",
       " ...          ...                   ...  \n",
       " 4382           0                     0  \n",
       " 4383           0                     0  \n",
       " 4384           0                     0  \n",
       " 4385           0                     0  \n",
       " 4386           0                     0  \n",
       " \n",
       " [272 rows x 164 columns],\n",
       "        Site_code   Latitude  Longitude   Country Catchment_name  Galiza  \\\n",
       " 169   ES_09_0001  40.313007  -4.208666     Spain           Tejo       0   \n",
       " 179   ES_09_0011  40.865345  -3.434305     Spain           Tejo       0   \n",
       " 180   ES_09_0012  40.842675  -3.472116     Spain           Tejo       0   \n",
       " 181   ES_09_0013  40.774926  -3.515481     Spain           Tejo       0   \n",
       " 182   ES_09_0014  40.916247  -3.840772     Spain           Tejo       0   \n",
       " ...          ...        ...        ...       ...            ...     ...   \n",
       " 4947     PTTA264  39.477852  -8.002427  Portugal           Tejo       0   \n",
       " 4948     PTTA265  39.477021  -8.106303  Portugal           Tejo       0   \n",
       " 4949     PTTA266  39.475082  -8.334351  Portugal           Tejo       0   \n",
       " 4950     PTTA267  39.453694  -8.432669  Portugal           Tejo       0   \n",
       " 4951     PTTA268  39.358698  -8.490446  Portugal           Tejo       0   \n",
       " \n",
       "       Subsample  Calib_EFI_Medit  Calib_connect  Calib_hydrol  ...  \\\n",
       " 169           1                0              0             0  ...   \n",
       " 179           1                0              1             0  ...   \n",
       " 180           1                0              1             0  ...   \n",
       " 181           1                0              1             0  ...   \n",
       " 182           1                1              1             1  ...   \n",
       " ...         ...              ...            ...           ...  ...   \n",
       " 4947          1                0              0             0  ...   \n",
       " 4948          1                0              0             0  ...   \n",
       " 4949          1                0              1             0  ...   \n",
       " 4950          1                0              1             0  ...   \n",
       " 4951          1                0              1             0  ...   \n",
       " \n",
       "       Squalius malacitanus  Squalius pyrenaicus  Squalius torgalensis  \\\n",
       " 169                      0                    1                     0   \n",
       " 179                      0                    1                     0   \n",
       " 180                      0                    1                     0   \n",
       " 181                      0                    1                     0   \n",
       " 182                      0                    1                     0   \n",
       " ...                    ...                  ...                   ...   \n",
       " 4947                     0                    0                     0   \n",
       " 4948                     0                    1                     0   \n",
       " 4949                     0                    0                     0   \n",
       " 4950                     0                    0                     0   \n",
       " 4951                     0                    1                     0   \n",
       " \n",
       "       Thymallus thymallus  Tinca tinca Zingel asper Squalius sp  Barbatula sp  \\\n",
       " 169                     0            0            0           1             0   \n",
       " 179                     0            0            0           1             0   \n",
       " 180                     0            0            0           1             0   \n",
       " 181                     0            0            0           1             0   \n",
       " 182                     0            0            0           1             0   \n",
       " ...                   ...          ...          ...         ...           ...   \n",
       " 4947                    0            0            0           0             0   \n",
       " 4948                    0            0            0           1             0   \n",
       " 4949                    0            0            0           0             0   \n",
       " 4950                    0            0            0           0             0   \n",
       " 4951                    0            0            0           1             0   \n",
       " \n",
       "      Phoxinus sp  Iberochondrostoma_sp  \n",
       " 169            0                     0  \n",
       " 179            0                     0  \n",
       " 180            0                     0  \n",
       " 181            0                     0  \n",
       " 182            0                     0  \n",
       " ...          ...                   ...  \n",
       " 4947           0                     0  \n",
       " 4948           0                     0  \n",
       " 4949           0                     0  \n",
       " 4950           0                     0  \n",
       " 4951           0                     0  \n",
       " \n",
       " [235 rows x 164 columns])"
      ]
     },
     "execution_count": 24,
     "metadata": {},
     "output_type": "execute_result"
    }
   ],
   "source": [
    "df_tejodouro = df[(df['Catchment_name']=='Douro')], df[(df['Catchment_name']=='Tejo')]\n",
    "df_tejodouro"
   ]
  },
  {
   "cell_type": "code",
   "execution_count": 25,
   "metadata": {},
   "outputs": [],
   "source": [
    "df_enviroment= df[[\"Altitude\", \"Actual_river_slope\",\"Elevation_mean_catch\", \"prec_ann_catch\",\"temp_ann\",\"temp_jan\",\"temp_jul\"]]"
   ]
  },
  {
   "cell_type": "code",
   "execution_count": 23,
   "metadata": {},
   "outputs": [
    {
     "name": "stderr",
     "output_type": "stream",
     "text": [
      "C:\\Users\\Miguel Paulo\\AppData\\Roaming\\Python\\Python310\\site-packages\\scipy\\cluster\\hierarchy.py:1046: VisibleDeprecationWarning: Creating an ndarray from ragged nested sequences (which is a list-or-tuple of lists-or-tuples-or ndarrays with different lengths or shapes) is deprecated. If you meant to do this, you must specify 'dtype=object' when creating the ndarray.\n",
      "  y = _convert_to_double(np.asarray(y, order='c'))\n"
     ]
    },
    {
     "ename": "ValueError",
     "evalue": "setting an array element with a sequence.",
     "output_type": "error",
     "traceback": [
      "\u001b[1;31m---------------------------------------------------------------------------\u001b[0m",
      "\u001b[1;31mTypeError\u001b[0m                                 Traceback (most recent call last)",
      "\u001b[1;31mTypeError\u001b[0m: float() argument must be a string or a real number, not 'DataFrame'",
      "\nThe above exception was the direct cause of the following exception:\n",
      "\u001b[1;31mValueError\u001b[0m                                Traceback (most recent call last)",
      "\u001b[1;32mc:\\avcd\\greends-avcd\\people\\Miguel\\Ex7\\Ex7.ipynb Cell 6\u001b[0m in \u001b[0;36m1\n\u001b[1;32m----> <a href='vscode-notebook-cell:/c%3A/avcd/greends-avcd/people/Miguel/Ex7/Ex7.ipynb#X12sZmlsZQ%3D%3D?line=0'>1</a>\u001b[0m dendrogram_plot \u001b[39m=\u001b[39m dendrogram(linkage(df_sub, method\u001b[39m=\u001b[39;49m\u001b[39m'\u001b[39;49m\u001b[39msingle\u001b[39;49m\u001b[39m'\u001b[39;49m))\n\u001b[0;32m      <a href='vscode-notebook-cell:/c%3A/avcd/greends-avcd/people/Miguel/Ex7/Ex7.ipynb#X12sZmlsZQ%3D%3D?line=1'>2</a>\u001b[0m plt\u001b[39m.\u001b[39mtitle(\u001b[39m'\u001b[39m\u001b[39msingle linkage\u001b[39m\u001b[39m'\u001b[39m )\n\u001b[0;32m      <a href='vscode-notebook-cell:/c%3A/avcd/greends-avcd/people/Miguel/Ex7/Ex7.ipynb#X12sZmlsZQ%3D%3D?line=2'>3</a>\u001b[0m plt\u001b[39m.\u001b[39mxlabel(\u001b[39m'\u001b[39m\u001b[39mobjects\u001b[39m\u001b[39m'\u001b[39m)\n",
      "File \u001b[1;32m~\\AppData\\Roaming\\Python\\Python310\\site-packages\\scipy\\cluster\\hierarchy.py:1046\u001b[0m, in \u001b[0;36mlinkage\u001b[1;34m(y, method, metric, optimal_ordering)\u001b[0m\n\u001b[0;32m   1043\u001b[0m \u001b[39mif\u001b[39;00m method \u001b[39mnot\u001b[39;00m \u001b[39min\u001b[39;00m _LINKAGE_METHODS:\n\u001b[0;32m   1044\u001b[0m     \u001b[39mraise\u001b[39;00m \u001b[39mValueError\u001b[39;00m(\u001b[39m\"\u001b[39m\u001b[39mInvalid method: \u001b[39m\u001b[39m{0}\u001b[39;00m\u001b[39m\"\u001b[39m\u001b[39m.\u001b[39mformat(method))\n\u001b[1;32m-> 1046\u001b[0m y \u001b[39m=\u001b[39m _convert_to_double(np\u001b[39m.\u001b[39;49masarray(y, order\u001b[39m=\u001b[39;49m\u001b[39m'\u001b[39;49m\u001b[39mc\u001b[39;49m\u001b[39m'\u001b[39;49m))\n\u001b[0;32m   1048\u001b[0m \u001b[39mif\u001b[39;00m y\u001b[39m.\u001b[39mndim \u001b[39m==\u001b[39m \u001b[39m1\u001b[39m:\n\u001b[0;32m   1049\u001b[0m     distance\u001b[39m.\u001b[39mis_valid_y(y, throw\u001b[39m=\u001b[39m\u001b[39mTrue\u001b[39;00m, name\u001b[39m=\u001b[39m\u001b[39m'\u001b[39m\u001b[39my\u001b[39m\u001b[39m'\u001b[39m)\n",
      "File \u001b[1;32m~\\AppData\\Roaming\\Python\\Python310\\site-packages\\scipy\\cluster\\hierarchy.py:1572\u001b[0m, in \u001b[0;36m_convert_to_double\u001b[1;34m(X)\u001b[0m\n\u001b[0;32m   1570\u001b[0m \u001b[39mdef\u001b[39;00m \u001b[39m_convert_to_double\u001b[39m(X):\n\u001b[0;32m   1571\u001b[0m     \u001b[39mif\u001b[39;00m X\u001b[39m.\u001b[39mdtype \u001b[39m!=\u001b[39m np\u001b[39m.\u001b[39mdouble:\n\u001b[1;32m-> 1572\u001b[0m         X \u001b[39m=\u001b[39m X\u001b[39m.\u001b[39;49mastype(np\u001b[39m.\u001b[39;49mdouble)\n\u001b[0;32m   1573\u001b[0m     \u001b[39mif\u001b[39;00m \u001b[39mnot\u001b[39;00m X\u001b[39m.\u001b[39mflags\u001b[39m.\u001b[39mcontiguous:\n\u001b[0;32m   1574\u001b[0m         X \u001b[39m=\u001b[39m X\u001b[39m.\u001b[39mcopy()\n",
      "\u001b[1;31mValueError\u001b[0m: setting an array element with a sequence."
     ]
    }
   ],
   "source": [
    "dendrogram_plot = dendrogram(linkage(df_sub, method='single'))\n",
    "plt.title('single linkage' )\n",
    "plt.xlabel('objects')\n",
    "plt.ylabel('Distance')"
   ]
  }
 ],
 "metadata": {
  "kernelspec": {
   "display_name": "Python 3",
   "language": "python",
   "name": "python3"
  },
  "language_info": {
   "codemirror_mode": {
    "name": "ipython",
    "version": 3
   },
   "file_extension": ".py",
   "mimetype": "text/x-python",
   "name": "python",
   "nbconvert_exporter": "python",
   "pygments_lexer": "ipython3",
   "version": "3.10.7"
  },
  "orig_nbformat": 4
 },
 "nbformat": 4,
 "nbformat_minor": 2
}
