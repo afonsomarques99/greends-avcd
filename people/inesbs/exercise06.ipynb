{
 "cells": [
  {
   "cell_type": "code",
   "execution_count": 17,
   "metadata": {},
   "outputs": [],
   "source": [
    "import pandas as pd\n",
    "import zipfile\n",
    "import seaborn as sns # For plotting\n",
    "import matplotlib.pyplot as plt # For showing plots\n",
    "import numpy as np # for getting our distribution\n",
    "import seaborn as sns # for plotting\n",
    "from scipy import stats # to compute statistics"
   ]
  },
  {
   "cell_type": "code",
   "execution_count": 4,
   "metadata": {},
   "outputs": [],
   "source": [
    "df = pd.read_csv('EFIplus_medit.zip',compression='zip', sep=\";\")"
   ]
  },
  {
   "cell_type": "code",
   "execution_count": null,
   "metadata": {},
   "outputs": [],
   "source": [
    "df.head(10)"
   ]
  },
  {
   "cell_type": "code",
   "execution_count": null,
   "metadata": {},
   "outputs": [],
   "source": [
    "list(df.columns)"
   ]
  },
  {
   "cell_type": "code",
   "execution_count": 7,
   "metadata": {},
   "outputs": [],
   "source": [
    "#  1. create a column with the total number of species present (species richness) in each sampling site\n",
    "\n",
    "start_column = 56\n",
    "columns_to_sum = df.columns[start_column:]\n",
    "\n",
    "df['species_richness'] = df[columns_to_sum].sum(axis=1)"
   ]
  },
  {
   "cell_type": "code",
   "execution_count": null,
   "metadata": {},
   "outputs": [],
   "source": [
    "print(df['species_richness'])"
   ]
  },
  {
   "cell_type": "code",
   "execution_count": null,
   "metadata": {},
   "outputs": [],
   "source": [
    "# 2. Linear regression relating the species richness with each one of the continuous environmental variables in the dataset\n",
    "# tried the first example with the Actual_river_slope\n",
    "\n",
    "x=df[\"species_richness\"]\n",
    "y=df[\"Actual_river_slope\"]\n",
    "\n",
    "# Execute a method that returns some important key values of Linear Regression:\n",
    "slope, intercept, r, p, std_err = stats.linregress(x, y)\n",
    "\n",
    "# plot data with fitted line\n",
    "def myfunc(x):\n",
    "  return intercept + slope * x # function that returns fitted values\n",
    "\n",
    "mymodel = list(map(myfunc, x)) # apply function to each x value\n",
    "\n",
    "plt.scatter(x, y)\n",
    "plt.plot(x, mymodel)\n",
    "plt.show()"
   ]
  },
  {
   "cell_type": "code",
   "execution_count": null,
   "metadata": {},
   "outputs": [],
   "source": [
    "x = sm.add_constant(x) # adding a constant (Intercept)\n",
    "\n",
    "model = sm.OLS(y, x).fit()\n",
    "predictions = model.predict(x) \n",
    "\n",
    "print_model = model.summary()\n",
    "print(print_model)"
   ]
  },
  {
   "cell_type": "code",
   "execution_count": null,
   "metadata": {},
   "outputs": [],
   "source": [
    "#another way to do it\n",
    "\n",
    "import statsmodels.api as sm\n",
    "\n",
    "dependent_var = 'species_richness'  # Replace with the name of your dependent variable\n",
    "exog_vars = [\"Altitude\", \"Actual_river_slope\",\"Elevation_mean_catch\", \"prec_ann_catch\",\"temp_ann\",\"temp_jan\",\"temp_jul\"]  # Replace with the names of your continuous environmental variables\n",
    "\n",
    "# Loop through each exogenous variable and run a linear regression\n",
    "for exog_var in exog_vars:\n",
    "    # Extract the dependent variable and the exogenous variable\n",
    "    y = df[dependent_var]\n",
    "    X = df[exog_var]\n",
    "    \n",
    "    # Add a constant term to the exogenous variable for the intercept term\n",
    "    X = sm.add_constant(X)\n",
    "    \n",
    "    # Fit the linear regression model\n",
    "    model = sm.OLS(endog=y, exog=X)\n",
    "    results = model.fit()\n",
    "    \n",
    "    # Print the results\n",
    "    print(f\"Linear Regression Results for '{dependent_var}' vs '{exog_var}':\")\n",
    "    print(results.summary())\n"
   ]
  },
  {
   "cell_type": "code",
   "execution_count": null,
   "metadata": {},
   "outputs": [],
   "source": [
    "# Multiple linear regression with the same data and check the differences between the previous univariate regression coefficients and new coefficients\n",
    "\n",
    "df = df.fillna(df.mean())\n",
    "\n",
    "y=df[\"species_richness\"]\n",
    "x=df[[\"Altitude\", \"Actual_river_slope\",\"Elevation_mean_catch\", \"prec_ann_catch\",\"temp_ann\",\"temp_jan\",\"temp_jul\"]]\n",
    "\n",
    "x = sm.add_constant(x) # adding a constant (Intercept)\n",
    "\n",
    "model = sm.OLS(y, x).fit()\n",
    "predictions = model.predict(x) \n",
    "\n",
    "print_model = model.summary()\n",
    "print(print_model)"
   ]
  }
 ],
 "metadata": {
  "kernelspec": {
   "display_name": "Python 3",
   "language": "python",
   "name": "python3"
  },
  "language_info": {
   "codemirror_mode": {
    "name": "ipython",
    "version": 3
   },
   "file_extension": ".py",
   "mimetype": "text/x-python",
   "name": "python",
   "nbconvert_exporter": "python",
   "pygments_lexer": "ipython3",
   "version": "3.11.2"
  },
  "orig_nbformat": 4
 },
 "nbformat": 4,
 "nbformat_minor": 2
}
