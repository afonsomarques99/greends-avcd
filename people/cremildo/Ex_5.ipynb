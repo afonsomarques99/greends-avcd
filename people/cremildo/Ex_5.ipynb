{
 "cells": [
  {
   "attachments": {},
   "cell_type": "markdown",
   "metadata": {},
   "source": [
    "Exercicio nº 5\n",
    "CREMILDO RIBA GOUVEIA DIAS\n",
    "\n",
    "In this exercise you will use again the dataset in EFIplus_medit.zip to perform some hypothesis testing\n",
    "1. Test if the frequency of sites with presence and absence of Salmo trutta fario (Brown Trout) are\n",
    "independent from the country. Please state which is/are the null hypothesis of your test(s).\n",
    "2. Test whether the means (or medians) of “Actual_river_slope” between presence and absence sites of\n",
    "Salmo trutta fario (Brown Trout) are equal using an appropriate test. Please state which is/are the null\n",
    "hypothesis of your test(s).\n",
    "3. Test whether there are diferences in the mean elevation in the upstream catchment (ELEV_MN_du)\n",
    "among the four most sampled catchments. For which pairs of catchments are these diferences\n",
    "significant? Please state which is/are the null hypothesis of your test(s).\n",
    "4. Which potential problems do you think there are in the data that could limit the conclusions derived\n",
    "from the performed tests?"
   ]
  },
  {
   "cell_type": "code",
   "execution_count": 1,
   "metadata": {},
   "outputs": [],
   "source": [
    "# Importar pacotes\n",
    "import numpy as np\n",
    "import pandas as pd\n",
    "import scipy.stats as sts\n",
    "from scipy.stats import normaltest\n",
    "import statsmodels.stats as stm\n",
    "import scikit_posthocs as sp\n",
    "import seaborn as sns\n",
    "import matplotlib.pyplot as plt"
   ]
  },
  {
   "cell_type": "code",
   "execution_count": 2,
   "metadata": {},
   "outputs": [],
   "source": [
    "# Importar ficheiro\n",
    "df1 = pd.read_csv(\"D:\\\\avdac\\greends-avcd\\people\\cremildo\\EFIplus_medit.zip\",compression=\"zip\", sep=\";\")"
   ]
  },
  {
   "cell_type": "code",
   "execution_count": 3,
   "metadata": {},
   "outputs": [
    {
     "name": "stdout",
     "output_type": "stream",
     "text": [
      "       Site_code   Latitude  Longitude   Country Catchment_name  Galiza  \\\n",
      "0     ES_01_0002  38.102003  -4.096070     Spain   Guadalquivir       0   \n",
      "1     ES_02_0001  40.530188  -1.887796     Spain           Tejo       0   \n",
      "2     ES_02_0002  40.595432  -1.928079     Spain           Tejo       0   \n",
      "3     ES_02_0003  40.656184  -1.989831     Spain           Tejo       0   \n",
      "4     ES_02_0004  40.676402  -2.036274     Spain           Tejo       0   \n",
      "...          ...        ...        ...       ...            ...     ...   \n",
      "5006      PTVO60  40.641612  -8.325149  Portugal          Vouga       0   \n",
      "5007      PTVO61  40.729015  -8.098851  Portugal          Vouga       0   \n",
      "5008      PTVO62  40.727959  -8.107344  Portugal          Vouga       0   \n",
      "5009      PTVO63  40.817783  -8.224903  Portugal          Vouga       0   \n",
      "5010      PTVO64  40.794352  -8.255380  Portugal          Vouga       0   \n",
      "\n",
      "      Subsample  Calib_EFI_Medit  Calib_connect  Calib_hydrol  ...  \\\n",
      "0             1                0              1             0  ...   \n",
      "1             1                1              1             1  ...   \n",
      "2             1                1              1             1  ...   \n",
      "3             1                1              1             1  ...   \n",
      "4             1                1              1             1  ...   \n",
      "...         ...              ...            ...           ...  ...   \n",
      "5006          1                0              0             0  ...   \n",
      "5007          1                0              0             0  ...   \n",
      "5008          1                0              0             0  ...   \n",
      "5009          1                0              0             0  ...   \n",
      "5010          1                0              1             0  ...   \n",
      "\n",
      "      Squalius malacitanus  Squalius pyrenaicus  Squalius torgalensis  \\\n",
      "0                        0                    0                     0   \n",
      "1                        0                    0                     0   \n",
      "2                        0                    0                     0   \n",
      "3                        0                    0                     0   \n",
      "4                        0                    0                     0   \n",
      "...                    ...                  ...                   ...   \n",
      "5006                     0                    0                     0   \n",
      "5007                     0                    0                     0   \n",
      "5008                     0                    0                     0   \n",
      "5009                     0                    0                     0   \n",
      "5010                     0                    0                     0   \n",
      "\n",
      "      Thymallus thymallus  Tinca tinca Zingel asper Squalius sp  Barbatula sp  \\\n",
      "0                       0            0            0           0             0   \n",
      "1                       0            0            0           0             0   \n",
      "2                       0            0            0           0             0   \n",
      "3                       0            0            0           0             0   \n",
      "4                       0            0            0           0             0   \n",
      "...                   ...          ...          ...         ...           ...   \n",
      "5006                    0            0            0           1             0   \n",
      "5007                    0            0            0           1             0   \n",
      "5008                    0            0            0           1             0   \n",
      "5009                    0            0            0           0             0   \n",
      "5010                    0            0            0           1             0   \n",
      "\n",
      "     Phoxinus sp  Iberochondrostoma_sp  \n",
      "0              0                     0  \n",
      "1              0                     0  \n",
      "2              0                     0  \n",
      "3              0                     0  \n",
      "4              0                     0  \n",
      "...          ...                   ...  \n",
      "5006           0                     0  \n",
      "5007           0                     0  \n",
      "5008           0                     0  \n",
      "5009           0                     0  \n",
      "5010           0                     0  \n",
      "\n",
      "[5011 rows x 164 columns]\n"
     ]
    }
   ],
   "source": [
    "print(df1)"
   ]
  },
  {
   "cell_type": "code",
   "execution_count": 4,
   "metadata": {},
   "outputs": [
    {
     "data": {
      "text/html": [
       "<div>\n",
       "<style scoped>\n",
       "    .dataframe tbody tr th:only-of-type {\n",
       "        vertical-align: middle;\n",
       "    }\n",
       "\n",
       "    .dataframe tbody tr th {\n",
       "        vertical-align: top;\n",
       "    }\n",
       "\n",
       "    .dataframe thead th {\n",
       "        text-align: right;\n",
       "    }\n",
       "</style>\n",
       "<table border=\"1\" class=\"dataframe\">\n",
       "  <thead>\n",
       "    <tr style=\"text-align: right;\">\n",
       "      <th></th>\n",
       "      <th>Site_code</th>\n",
       "      <th>Latitude</th>\n",
       "      <th>Longitude</th>\n",
       "      <th>Country</th>\n",
       "      <th>Catchment_name</th>\n",
       "      <th>Galiza</th>\n",
       "      <th>Subsample</th>\n",
       "      <th>Calib_EFI_Medit</th>\n",
       "      <th>Calib_connect</th>\n",
       "      <th>Calib_hydrol</th>\n",
       "      <th>...</th>\n",
       "      <th>Squalius malacitanus</th>\n",
       "      <th>Squalius pyrenaicus</th>\n",
       "      <th>Squalius torgalensis</th>\n",
       "      <th>Thymallus thymallus</th>\n",
       "      <th>Tinca tinca</th>\n",
       "      <th>Zingel asper</th>\n",
       "      <th>Squalius sp</th>\n",
       "      <th>Barbatula sp</th>\n",
       "      <th>Phoxinus sp</th>\n",
       "      <th>Iberochondrostoma_sp</th>\n",
       "    </tr>\n",
       "  </thead>\n",
       "  <tbody>\n",
       "    <tr>\n",
       "      <th>0</th>\n",
       "      <td>ES_01_0002</td>\n",
       "      <td>38.102003</td>\n",
       "      <td>-4.096070</td>\n",
       "      <td>Spain</td>\n",
       "      <td>Guadalquivir</td>\n",
       "      <td>0</td>\n",
       "      <td>1</td>\n",
       "      <td>0</td>\n",
       "      <td>1</td>\n",
       "      <td>0</td>\n",
       "      <td>...</td>\n",
       "      <td>0</td>\n",
       "      <td>0</td>\n",
       "      <td>0</td>\n",
       "      <td>0</td>\n",
       "      <td>0</td>\n",
       "      <td>0</td>\n",
       "      <td>0</td>\n",
       "      <td>0</td>\n",
       "      <td>0</td>\n",
       "      <td>0</td>\n",
       "    </tr>\n",
       "    <tr>\n",
       "      <th>1</th>\n",
       "      <td>ES_02_0001</td>\n",
       "      <td>40.530188</td>\n",
       "      <td>-1.887796</td>\n",
       "      <td>Spain</td>\n",
       "      <td>Tejo</td>\n",
       "      <td>0</td>\n",
       "      <td>1</td>\n",
       "      <td>1</td>\n",
       "      <td>1</td>\n",
       "      <td>1</td>\n",
       "      <td>...</td>\n",
       "      <td>0</td>\n",
       "      <td>0</td>\n",
       "      <td>0</td>\n",
       "      <td>0</td>\n",
       "      <td>0</td>\n",
       "      <td>0</td>\n",
       "      <td>0</td>\n",
       "      <td>0</td>\n",
       "      <td>0</td>\n",
       "      <td>0</td>\n",
       "    </tr>\n",
       "    <tr>\n",
       "      <th>2</th>\n",
       "      <td>ES_02_0002</td>\n",
       "      <td>40.595432</td>\n",
       "      <td>-1.928079</td>\n",
       "      <td>Spain</td>\n",
       "      <td>Tejo</td>\n",
       "      <td>0</td>\n",
       "      <td>1</td>\n",
       "      <td>1</td>\n",
       "      <td>1</td>\n",
       "      <td>1</td>\n",
       "      <td>...</td>\n",
       "      <td>0</td>\n",
       "      <td>0</td>\n",
       "      <td>0</td>\n",
       "      <td>0</td>\n",
       "      <td>0</td>\n",
       "      <td>0</td>\n",
       "      <td>0</td>\n",
       "      <td>0</td>\n",
       "      <td>0</td>\n",
       "      <td>0</td>\n",
       "    </tr>\n",
       "    <tr>\n",
       "      <th>3</th>\n",
       "      <td>ES_02_0003</td>\n",
       "      <td>40.656184</td>\n",
       "      <td>-1.989831</td>\n",
       "      <td>Spain</td>\n",
       "      <td>Tejo</td>\n",
       "      <td>0</td>\n",
       "      <td>1</td>\n",
       "      <td>1</td>\n",
       "      <td>1</td>\n",
       "      <td>1</td>\n",
       "      <td>...</td>\n",
       "      <td>0</td>\n",
       "      <td>0</td>\n",
       "      <td>0</td>\n",
       "      <td>0</td>\n",
       "      <td>0</td>\n",
       "      <td>0</td>\n",
       "      <td>0</td>\n",
       "      <td>0</td>\n",
       "      <td>0</td>\n",
       "      <td>0</td>\n",
       "    </tr>\n",
       "    <tr>\n",
       "      <th>4</th>\n",
       "      <td>ES_02_0004</td>\n",
       "      <td>40.676402</td>\n",
       "      <td>-2.036274</td>\n",
       "      <td>Spain</td>\n",
       "      <td>Tejo</td>\n",
       "      <td>0</td>\n",
       "      <td>1</td>\n",
       "      <td>1</td>\n",
       "      <td>1</td>\n",
       "      <td>1</td>\n",
       "      <td>...</td>\n",
       "      <td>0</td>\n",
       "      <td>0</td>\n",
       "      <td>0</td>\n",
       "      <td>0</td>\n",
       "      <td>0</td>\n",
       "      <td>0</td>\n",
       "      <td>0</td>\n",
       "      <td>0</td>\n",
       "      <td>0</td>\n",
       "      <td>0</td>\n",
       "    </tr>\n",
       "  </tbody>\n",
       "</table>\n",
       "<p>5 rows × 164 columns</p>\n",
       "</div>"
      ],
      "text/plain": [
       "    Site_code   Latitude  Longitude Country Catchment_name  Galiza  Subsample  \\\n",
       "0  ES_01_0002  38.102003  -4.096070   Spain   Guadalquivir       0          1   \n",
       "1  ES_02_0001  40.530188  -1.887796   Spain           Tejo       0          1   \n",
       "2  ES_02_0002  40.595432  -1.928079   Spain           Tejo       0          1   \n",
       "3  ES_02_0003  40.656184  -1.989831   Spain           Tejo       0          1   \n",
       "4  ES_02_0004  40.676402  -2.036274   Spain           Tejo       0          1   \n",
       "\n",
       "   Calib_EFI_Medit  Calib_connect  Calib_hydrol  ...  Squalius malacitanus  \\\n",
       "0                0              1             0  ...                     0   \n",
       "1                1              1             1  ...                     0   \n",
       "2                1              1             1  ...                     0   \n",
       "3                1              1             1  ...                     0   \n",
       "4                1              1             1  ...                     0   \n",
       "\n",
       "   Squalius pyrenaicus  Squalius torgalensis  Thymallus thymallus  \\\n",
       "0                    0                     0                    0   \n",
       "1                    0                     0                    0   \n",
       "2                    0                     0                    0   \n",
       "3                    0                     0                    0   \n",
       "4                    0                     0                    0   \n",
       "\n",
       "   Tinca tinca Zingel asper Squalius sp  Barbatula sp Phoxinus sp  \\\n",
       "0            0            0           0             0           0   \n",
       "1            0            0           0             0           0   \n",
       "2            0            0           0             0           0   \n",
       "3            0            0           0             0           0   \n",
       "4            0            0           0             0           0   \n",
       "\n",
       "   Iberochondrostoma_sp  \n",
       "0                     0  \n",
       "1                     0  \n",
       "2                     0  \n",
       "3                     0  \n",
       "4                     0  \n",
       "\n",
       "[5 rows x 164 columns]"
      ]
     },
     "execution_count": 4,
     "metadata": {},
     "output_type": "execute_result"
    }
   ],
   "source": [
    "df1.head(5)"
   ]
  },
  {
   "cell_type": "code",
   "execution_count": 5,
   "metadata": {},
   "outputs": [
    {
     "name": "stdout",
     "output_type": "stream",
     "text": [
      "<class 'pandas.core.frame.DataFrame'>\n",
      "RangeIndex: 5011 entries, 0 to 5010\n",
      "Columns: 164 entries, Site_code to Iberochondrostoma_sp\n",
      "dtypes: float64(38), int64(120), object(6)\n",
      "memory usage: 6.3+ MB\n"
     ]
    }
   ],
   "source": [
    "df1.info()"
   ]
  },
  {
   "cell_type": "code",
   "execution_count": 6,
   "metadata": {},
   "outputs": [
    {
     "data": {
      "text/plain": [
       "['Site_code',\n",
       " 'Latitude',\n",
       " 'Longitude',\n",
       " 'Country',\n",
       " 'Catchment_name',\n",
       " 'Galiza',\n",
       " 'Subsample',\n",
       " 'Calib_EFI_Medit',\n",
       " 'Calib_connect',\n",
       " 'Calib_hydrol',\n",
       " 'Calib_morphol',\n",
       " 'Calib_wqual',\n",
       " 'Geomorph1',\n",
       " 'Geomorph2',\n",
       " 'Geomorph3',\n",
       " 'Water_source_type',\n",
       " 'Flow_regime',\n",
       " 'Altitude',\n",
       " 'Geological_typology',\n",
       " 'Actual_river_slope',\n",
       " 'Natural_sediment',\n",
       " 'Elevation_mean_catch',\n",
       " 'prec_ann_catch',\n",
       " 'temp_ann',\n",
       " 'temp_jan',\n",
       " 'temp_jul',\n",
       " 'Barriers_catchment_down',\n",
       " 'Barriers_river_segment_up',\n",
       " 'Barriers_river_segment_down',\n",
       " 'Barriers_number_river_segment_up',\n",
       " 'Barriers_number_river_segment_down',\n",
       " 'Barriers_distance_river_segment_up',\n",
       " 'Barriers_distance_river_segment_down',\n",
       " 'Impoundment',\n",
       " 'Hydropeaking',\n",
       " 'Water_abstraction',\n",
       " 'Hydro_mod',\n",
       " 'Temperature_impact',\n",
       " 'Velocity_increase',\n",
       " 'Reservoir_flushing',\n",
       " 'Sedimentation',\n",
       " 'Channelisation',\n",
       " 'Cross_sec',\n",
       " 'Instream_habitat',\n",
       " 'Riparian_vegetation',\n",
       " 'Embankment',\n",
       " 'Floodprotection',\n",
       " 'Floodplain',\n",
       " 'Toxic_substances',\n",
       " 'Acidification',\n",
       " 'Water_quality_index',\n",
       " 'Eutrophication',\n",
       " 'Organic_pollution',\n",
       " 'Organic_siltation',\n",
       " 'Sum of Run1_number_all',\n",
       " 'Total_sp',\n",
       " 'Abramis brama',\n",
       " 'Achondrostoma arcasii',\n",
       " 'Achondrostoma occidentale',\n",
       " 'Achondrostoma oligolepis',\n",
       " 'Acipenser naccarii',\n",
       " 'Alburnoides bipunctatus',\n",
       " 'Alburnus albidus',\n",
       " 'Alburnus alburnus',\n",
       " 'Alosa alosa',\n",
       " 'Alosa fallax',\n",
       " 'Ameiurus melas',\n",
       " 'Anaecypris hispanica',\n",
       " 'Anguilla anguilla',\n",
       " 'Atherina boyeri',\n",
       " 'Australoheros facetus',\n",
       " 'Barbatula barbatula',\n",
       " 'Barbatula quignardi',\n",
       " 'Barbus barbus',\n",
       " 'Barbus bocagei',\n",
       " 'Barbus comizo',\n",
       " 'Barbus graellsii',\n",
       " 'Barbus haasi',\n",
       " 'Barbus meridionalis',\n",
       " 'Barbus microcephalus',\n",
       " 'Barbus plebejus',\n",
       " 'Barbus sclateri',\n",
       " 'Barbus tyberinus',\n",
       " 'Blicca bjoerkna',\n",
       " 'Carassius auratus',\n",
       " 'Carassius carassius',\n",
       " 'Chelon labrosus',\n",
       " 'Chondrostoma genei',\n",
       " 'Chondrostoma nasus',\n",
       " 'Chondrostoma soetta',\n",
       " 'Chondrostoma toxostoma',\n",
       " 'Cobitis calderoni',\n",
       " 'Cobitis paludica',\n",
       " 'Cobitis taenia',\n",
       " 'Cottus gobio',\n",
       " 'Cottus hispaniolensis',\n",
       " 'Cyprinus carpio',\n",
       " 'Dicentrarchus labrax',\n",
       " 'Esox lucius',\n",
       " 'Gambusia affinis',\n",
       " 'Gambusia holbrooki',\n",
       " 'Gasterosteus aculeatus',\n",
       " 'Gasterosteus gymnurus',\n",
       " 'Gobio gobio',\n",
       " 'Gobio lozanoi',\n",
       " 'Gymnocephalus cernuus',\n",
       " 'Hypophthalmichthys molitrix',\n",
       " 'Iberochondrostoma almacai',\n",
       " 'Iberochondrostoma lemmingii',\n",
       " 'Iberochondrostoma lusitanicum',\n",
       " 'Lampetra fluviatilis',\n",
       " 'Lampetra planeri',\n",
       " 'Lepomis gibbosus',\n",
       " 'Leuciscus cephalus',\n",
       " 'Leuciscus leuciscus',\n",
       " 'Leuciscus lucumonis',\n",
       " 'Leuciscus souffia',\n",
       " 'Liza aurata',\n",
       " 'Liza ramada',\n",
       " 'Luciobarbus guiraonis',\n",
       " 'Micropterus salmoides',\n",
       " 'Mugil cephalus',\n",
       " 'Oncorhynchus mykiss',\n",
       " 'Pachychilon pictum',\n",
       " 'Padogobius martensii',\n",
       " 'Padogobius nigricans',\n",
       " 'Parachondrostoma arrigonis',\n",
       " 'Parachondrostoma miegii',\n",
       " 'Parachondrostoma turiense',\n",
       " 'Perca fluviatilis',\n",
       " 'Petromyzon marinus',\n",
       " 'Phoxinus bigerri',\n",
       " 'Phoxinus phoxinus',\n",
       " 'Platichthys flesus',\n",
       " 'Pseudochondrostoma duriense',\n",
       " 'Pseudochondrostoma polylepis',\n",
       " 'Pseudochondrostoma willkommii',\n",
       " 'Pseudorasbora parva',\n",
       " 'Rhodeus amarus',\n",
       " 'Rutilus aula',\n",
       " 'Rutilus rubilio',\n",
       " 'Rutilus rutilus',\n",
       " 'Salaria fluviatilis',\n",
       " 'Salmo salar',\n",
       " 'Salmo trutta fario',\n",
       " 'Salmo trutta macrostigma',\n",
       " 'Salvelinus fontinalis',\n",
       " 'Sander lucioperca',\n",
       " 'Scardinius erythrophthalmus',\n",
       " 'Silurus glanis',\n",
       " 'Squalius alburnoides',\n",
       " 'Squalius aradensis',\n",
       " 'Squalius carolitertii',\n",
       " 'Squalius laietanus',\n",
       " 'Squalius malacitanus',\n",
       " 'Squalius pyrenaicus',\n",
       " 'Squalius torgalensis',\n",
       " 'Thymallus thymallus',\n",
       " 'Tinca tinca',\n",
       " 'Zingel asper',\n",
       " 'Squalius sp',\n",
       " 'Barbatula sp',\n",
       " 'Phoxinus sp',\n",
       " 'Iberochondrostoma_sp']"
      ]
     },
     "execution_count": 6,
     "metadata": {},
     "output_type": "execute_result"
    }
   ],
   "source": [
    "list(df1.columns)"
   ]
  },
  {
   "cell_type": "code",
   "execution_count": 15,
   "metadata": {},
   "outputs": [
    {
     "data": {
      "text/plain": [
       "Site_code               0\n",
       "Latitude                0\n",
       "Longitude               0\n",
       "Country                 0\n",
       "Catchment_name          0\n",
       "                       ..\n",
       "Zingel asper            0\n",
       "Squalius sp             0\n",
       "Barbatula sp            0\n",
       "Phoxinus sp             0\n",
       "Iberochondrostoma_sp    0\n",
       "Length: 164, dtype: int64"
      ]
     },
     "execution_count": 15,
     "metadata": {},
     "output_type": "execute_result"
    }
   ],
   "source": [
    "# Number of missing values (NaN) per variable\n",
    "df1.isnull().sum()"
   ]
  },
  {
   "cell_type": "code",
   "execution_count": 7,
   "metadata": {},
   "outputs": [
    {
     "name": "stdout",
     "output_type": "stream",
     "text": [
      "<class 'pandas.core.frame.DataFrame'>\n",
      "RangeIndex: 5011 entries, 0 to 5010\n",
      "Columns: 164 entries, Site_code to Iberochondrostoma_sp\n",
      "dtypes: float64(38), int64(120), object(6)\n",
      "memory usage: 6.3+ MB\n"
     ]
    }
   ],
   "source": [
    "df2 = df1.dropna(how='all') # drops rows when  all elements are missing values\n",
    "df2.info()"
   ]
  },
  {
   "cell_type": "code",
   "execution_count": 8,
   "metadata": {},
   "outputs": [
    {
     "name": "stdout",
     "output_type": "stream",
     "text": [
      "<class 'pandas.core.frame.DataFrame'>\n",
      "RangeIndex: 5011 entries, 0 to 5010\n",
      "Columns: 164 entries, Site_code to Iberochondrostoma_sp\n",
      "dtypes: float64(38), int64(120), object(6)\n",
      "memory usage: 6.3+ MB\n"
     ]
    }
   ],
   "source": [
    "df2 = df1.dropna(how='all', axis=1) # drops columns when at least one element is a missing value\n",
    "df2.info()"
   ]
  },
  {
   "cell_type": "code",
   "execution_count": 9,
   "metadata": {},
   "outputs": [
    {
     "name": "stdout",
     "output_type": "stream",
     "text": [
      "<class 'pandas.core.frame.DataFrame'>\n",
      "Int64Index: 2822 entries, 18 to 5010\n",
      "Columns: 164 entries, Site_code to Iberochondrostoma_sp\n",
      "dtypes: float64(38), int64(120), object(6)\n",
      "memory usage: 3.6+ MB\n"
     ]
    }
   ],
   "source": [
    "df2 = df1.dropna() # drops rows when at least one element is a missing value\n",
    "df2.info()"
   ]
  },
  {
   "cell_type": "code",
   "execution_count": 10,
   "metadata": {},
   "outputs": [
    {
     "data": {
      "text/plain": [
       "Site_code                object\n",
       "Latitude                float64\n",
       "Longitude               float64\n",
       "Country                  object\n",
       "Catchment_name           object\n",
       "                         ...   \n",
       "Zingel asper              int64\n",
       "Squalius sp               int64\n",
       "Barbatula sp              int64\n",
       "Phoxinus sp               int64\n",
       "Iberochondrostoma_sp      int64\n",
       "Length: 164, dtype: object"
      ]
     },
     "execution_count": 10,
     "metadata": {},
     "output_type": "execute_result"
    }
   ],
   "source": [
    "# Check data types\n",
    "pd.options.display.max_rows = 154 # maximum number of rows displayed.\n",
    "df2.dtypes"
   ]
  },
  {
   "attachments": {},
   "cell_type": "markdown",
   "metadata": {},
   "source": [
    "1. Test if the frequency of sites with presence and absence of Salmo trutta fario (Brown Trout) are independent from the country. Please state which is/are the null hypothesis of your test(s).\n"
   ]
  },
  {
   "cell_type": "code",
   "execution_count": 11,
   "metadata": {},
   "outputs": [
    {
     "name": "stdout",
     "output_type": "stream",
     "text": [
      "Statistics=0.559, p=0.000\n",
      "Sample is significantly different from Gaussian (reject H0 with an error probability <0.05)\n"
     ]
    }
   ],
   "source": [
    "#Testando a normalidade da variavel Salmo truta fario\n",
    "# import function\n",
    "from scipy.stats import shapiro\n",
    "stat, p = shapiro(pd.Series(df2[\"Salmo trutta fario\"]))\n",
    "print('Statistics=%.3f, p=%.3f' % (stat, p)) # print outputs\n",
    "# interpret. H0: 'the sample was drawn from a Gaussian distribution'.\n",
    "alpha = 0.05\n",
    "if p > alpha:\n",
    " print('Sample is not significantly different from Gaussian (fail to reject H0. Rejecting H0 has an error probability >0.05)')\n",
    "else:\n",
    " print('Sample is significantly different from Gaussian (reject H0 with an error probability <0.05)')\n",
    "\n",
    " # Os dados não seguem distribuição normal, dado que, há evidencias suficientes para rejeitar a hipotese nula.\n",
    " #assim sendo será usado o teste não parametrico. "
   ]
  },
  {
   "cell_type": "code",
   "execution_count": 12,
   "metadata": {},
   "outputs": [
    {
     "name": "stdout",
     "output_type": "stream",
     "text": [
      "Salmo trutta fario    0     1\n",
      "Country                      \n",
      "Italy                26    25\n",
      "Portugal            614   252\n",
      "Spain               140  1765\n"
     ]
    },
    {
     "data": {
      "text/plain": [
       "3"
      ]
     },
     "execution_count": 12,
     "metadata": {},
     "output_type": "execute_result"
    }
   ],
   "source": [
    "# Creating dataset\n",
    "table_salm = pd.crosstab(df2[\"Country\"],df2[\"Salmo trutta fario\"])\n",
    "print(table_salm)\n",
    "len(table_salm)"
   ]
  },
  {
   "attachments": {},
   "cell_type": "markdown",
   "metadata": {},
   "source": [
    "### Tests for categorical variables\n",
    "#### Chi-Square Test of Independence\n",
    "\n",
    "H0 - não existe relação entre as frequências de locais com presença e ausência de Salmo truta fario com o País; portanto, são\n",
    "estatisticamente independentes\n",
    "HA - existe uma relação significativa entre as frequências de locais com presença e ausência de Salmo truta fario com o País; portanto, são estatisticamente dependentes\n"
   ]
  },
  {
   "cell_type": "code",
   "execution_count": 13,
   "metadata": {},
   "outputs": [
    {
     "name": "stdout",
     "output_type": "stream",
     "text": [
      "14.096385542168674\n",
      "36.903614457831324\n",
      "239.36215450035436\n",
      "626.6378454996457\n",
      "526.541459957477\n",
      "1378.458540042523\n",
      "10.051941097724232\n",
      "1216.3927370383249\n"
     ]
    }
   ],
   "source": [
    "#Calculo de ferquencias esperados\n",
    "import numpy as np\n",
    "\n",
    "f_11 = 780*51/2822  # Italy/absente\n",
    "f_12 = 2042*51/2822 # Italy/presente\n",
    "f_21 = 780*866/2822 # Portugal/absente\n",
    "f_22 = 2042*866/2822 # Portugal/presente\n",
    "f_31 = 780*1905/2822 # Spain/absente\n",
    "f_32 = 2042*1905/2822 #Spain/presente\n",
    "print(f_11)\n",
    "print(f_12)\n",
    "print(f_21)\n",
    "print(f_22)\n",
    "print(f_31)\n",
    "print(f_32)\n",
    "\n",
    "print(np.square(f_11 - 26)/f_11)\n",
    "\n",
    "# valor da estatistica\n",
    "qui_square = np.square(f_11 - 26)/f_11 + np.square(f_12 - 25)/f_12 + np.square(f_21 - 614)/f_21 + np.square(f_22 - 252)/f_22 + np.square(f_31 - 140)/f_31 + np.square(f_32 - 1765)/f_32\n",
    "print(qui_square)"
   ]
  },
  {
   "cell_type": "code",
   "execution_count": 14,
   "metadata": {},
   "outputs": [
    {
     "name": "stdout",
     "output_type": "stream",
     "text": [
      "valor crítico: 5.99\n",
      "p: 0.000000\n"
     ]
    }
   ],
   "source": [
    "# k=(r–1)×(c–1) ; K= quantidade de graus de liberdade; r = quantidade de linhas da tabela; c = quantidade de colunas da tabela\n",
    "from scipy.stats import chi2\n",
    "x = 1216.39 # valor da estatistica\n",
    "k=2\n",
    "print('valor crítico: %.2f' % chi2.ppf(.95,k))\n",
    "print('p: %f' % (1 - chi2.cdf(x,k)))\n",
    "# Dado que o p-value é menor que 0,05 de nivel de significancia, há evidencias suficientes para rejeitar a hipotese nula,\n",
    "#logo conclui-se que existe uma relação significativa entre as frequências de locais com presença e ausência \n",
    "# de Salmo truta fario com o País; portanto, são estatisticamente dependentes\n"
   ]
  },
  {
   "cell_type": "code",
   "execution_count": 15,
   "metadata": {},
   "outputs": [
    {
     "data": {
      "text/plain": [
       "Power_divergenceResult(statistic=1216.393640798267, pvalue=8.259954791165141e-261)"
      ]
     },
     "execution_count": 15,
     "metadata": {},
     "output_type": "execute_result"
    }
   ],
   "source": [
    "from scipy.stats import chisquare\n",
    "chisquare([26, 25, 614, 252, 140, 1765],[14.10, 36.90, 239.36, 626.64, 526.54, 1378.46])"
   ]
  },
  {
   "cell_type": "code",
   "execution_count": 16,
   "metadata": {},
   "outputs": [
    {
     "name": "stdout",
     "output_type": "stream",
     "text": [
      "p value is 8.561538704025032e-128\n",
      "Dependent (reject H0)\n"
     ]
    }
   ],
   "source": [
    "from scipy.stats import chi2_contingency\n",
    "  \n",
    "# defining the table\n",
    "data = [[26, 25, 614, 252, 140, 1765], [14.10, 36.90, 239.36, 626.64, 526.54, 1378.46]]\n",
    "stat, p, dof, expected = chi2_contingency(data)\n",
    "  \n",
    "# interpret p-value\n",
    "alpha = 0.05\n",
    "print(\"p value is \" + str(p))\n",
    "if p <= alpha:\n",
    "    print('Dependent (reject H0)')\n",
    "else:\n",
    "    print('Independent (H0 holds true)')"
   ]
  },
  {
   "attachments": {},
   "cell_type": "markdown",
   "metadata": {},
   "source": [
    "2. Test whether the means (or medians) of “Actual_river_slope” between presence and absence sites of Salmo trutta fario (Brown Trout) are equal using an appropriate test. Please state which is/are the null hypothesis of your test(s)."
   ]
  },
  {
   "cell_type": "code",
   "execution_count": 17,
   "metadata": {},
   "outputs": [
    {
     "name": "stdout",
     "output_type": "stream",
     "text": [
      "Salmo trutta fario   0   1\n",
      "Actual_river_slope        \n",
      "0.000                3   6\n",
      "0.001               12   3\n",
      "0.010               41  15\n",
      "0.066                0   1\n",
      "0.100                7   3\n",
      "...                 ..  ..\n",
      "159.400              0   1\n",
      "164.400              0   1\n",
      "173.400              1   0\n",
      "225.306              0   1\n",
      "774.000              0   1\n",
      "\n",
      "[1511 rows x 2 columns]\n"
     ]
    },
    {
     "data": {
      "text/plain": [
       "1511"
      ]
     },
     "execution_count": 17,
     "metadata": {},
     "output_type": "execute_result"
    }
   ],
   "source": [
    "# Creating dataset\n",
    "table1_salm = pd.crosstab(df2[\"Actual_river_slope\"],df2[\"Salmo trutta fario\"])\n",
    "print(table1_salm)\n",
    "len(table1_salm)"
   ]
  },
  {
   "cell_type": "code",
   "execution_count": 23,
   "metadata": {},
   "outputs": [],
   "source": [
    "dfa = df2[df2['Salmo trutta fario']=='0']\n",
    "dfb = df2[df2['Salmo trutta fario']=='1']\n",
    "df2names={'1': dfa, '2': dfb}\n",
    "farionames = ['0', '1']"
   ]
  },
  {
   "cell_type": "code",
   "execution_count": 24,
   "metadata": {},
   "outputs": [
    {
     "data": {
      "image/png": "[encoded data removed]",
      "text/plain": [
       "<Figure size 400x500 with 1 Axes>"
      ]
     },
     "metadata": {},
     "output_type": "display_data"
    }
   ],
   "source": [
    "sns.set(rc={'figure.figsize':(4,5)}) \n",
    "\n",
    "sns.boxplot(data=df2, x='Salmo trutta fario', y='temp_ann',\n",
    "        notch=True,\n",
    "        palette=['blue', 'green'],\n",
    "        width=0.4,\n",
    "        medianprops=dict(color=\"red\"),\n",
    "        ).set_xticklabels(['Absence', 'Presence'])\n",
    "plt.xlabel('Brown trout occurrence', fontdict={'size': 12, 'weight': 'bold'})\n",
    "plt.ylabel('Mean Annual Temperature', fontdict={'size': 12, 'weight': 'bold'})\n",
    "\n",
    "# restore settings\n",
    "import matplotlib as mpl\n",
    "mpl.rc_file_defaults()"
   ]
  },
  {
   "attachments": {},
   "cell_type": "markdown",
   "metadata": {},
   "source": [
    "3. Test whether there are diferences in the mean elevation in the upstream catchment (ELEV_MN_du) among the four most sampled catchments. For which pairs of catchments are these diferences significant? Please state which is/are the null hypothesis of your test(s)."
   ]
  },
  {
   "cell_type": "code",
   "execution_count": 26,
   "metadata": {},
   "outputs": [
    {
     "name": "stdout",
     "output_type": "stream",
     "text": [
      "Catchment_name        Algarve-Sotavento  Algarve-barlavento  Campania-South  \\\n",
      "Elevation_mean_catch                                                          \n",
      "52.249944                             0                   0               0   \n",
      "69.140372                             0                   0               0   \n",
      "69.625400                             0                   0               0   \n",
      "72.115571                             0                   0               0   \n",
      "72.786452                             0                   0               0   \n",
      "...                                 ...                 ...             ...   \n",
      "1767.105030                           0                   0               0   \n",
      "1806.300967                           0                   0               0   \n",
      "1829.373233                           0                   0               0   \n",
      "1909.344369                           0                   0               0   \n",
      "2003.131476                           0                   0               0   \n",
      "\n",
      "Catchment_name        Cantabrica  Catala  Douro  Ebro  EntreDouroeVouga  \\\n",
      "Elevation_mean_catch                                                      \n",
      "52.249944                      0       0      0     0                 0   \n",
      "69.140372                      0       0      0     0                 0   \n",
      "69.625400                      0       0      0     0                 0   \n",
      "72.115571                      0       0      0     0                 0   \n",
      "72.786452                      1       0      0     0                 0   \n",
      "...                          ...     ...    ...   ...               ...   \n",
      "1767.105030                    0       0      0     0                 0   \n",
      "1806.300967                    0       0      0     1                 0   \n",
      "1829.373233                    0       0      0     1                 0   \n",
      "1909.344369                    0       0      0     1                 0   \n",
      "2003.131476                    0       0      0     1                 0   \n",
      "\n",
      "Catchment_name        Galiza-Norte  Galiza-Sul  ...  Oeste  Sado  \\\n",
      "Elevation_mean_catch                            ...                \n",
      "52.249944                        0           0  ...      0     0   \n",
      "69.140372                        0           0  ...      0     0   \n",
      "69.625400                        0           0  ...      1     0   \n",
      "72.115571                        0           0  ...      1     0   \n",
      "72.786452                        0           0  ...      0     0   \n",
      "...                            ...         ...  ...    ...   ...   \n",
      "1767.105030                      0           0  ...      0     0   \n",
      "1806.300967                      0           0  ...      0     0   \n",
      "1829.373233                      0           0  ...      0     0   \n",
      "1909.344369                      0           0  ...      0     0   \n",
      "2003.131476                      0           0  ...      0     0   \n",
      "\n",
      "Catchment_name        Saline-Pescara-Sangro  Segura  Sur  Tejo  Tejo-Sado  \\\n",
      "Elevation_mean_catch                                                        \n",
      "52.249944                                 0       0    0     1          0   \n",
      "69.140372                                 0       0    0     0          0   \n",
      "69.625400                                 0       0    0     0          0   \n",
      "72.115571                                 0       0    0     0          0   \n",
      "72.786452                                 0       0    0     0          0   \n",
      "...                                     ...     ...  ...   ...        ...   \n",
      "1767.105030                               0       0    0     0          0   \n",
      "1806.300967                               0       0    0     0          0   \n",
      "1829.373233                               0       0    0     0          0   \n",
      "1909.344369                               0       0    0     0          0   \n",
      "2003.131476                               0       0    0     0          0   \n",
      "\n",
      "Catchment_name        Tevere  Vouga  Vouga-Mondego  \n",
      "Elevation_mean_catch                                \n",
      "52.249944                  0      0              0  \n",
      "69.140372                  0      0              1  \n",
      "69.625400                  0      0              0  \n",
      "72.115571                  0      0              0  \n",
      "72.786452                  0      0              0  \n",
      "...                      ...    ...            ...  \n",
      "1767.105030                0      0              0  \n",
      "1806.300967                0      0              0  \n",
      "1829.373233                0      0              0  \n",
      "1909.344369                0      0              0  \n",
      "2003.131476                0      0              0  \n",
      "\n",
      "[2280 rows x 27 columns]\n"
     ]
    },
    {
     "data": {
      "text/plain": [
       "2280"
      ]
     },
     "execution_count": 26,
     "metadata": {},
     "output_type": "execute_result"
    }
   ],
   "source": [
    "table_catch = pd.crosstab(df2[\"Elevation_mean_catch\"],df2[\"Catchment_name\"])\n",
    "print(table_catch)\n",
    "len(table_catch)"
   ]
  },
  {
   "attachments": {},
   "cell_type": "markdown",
   "metadata": {},
   "source": [
    "4. Which potential problems do you think there are in the data that could limit the conclusions derived from the performed tests?"
   ]
  }
 ],
 "metadata": {
  "kernelspec": {
   "display_name": "Python 3",
   "language": "python",
   "name": "python3"
  },
  "language_info": {
   "codemirror_mode": {
    "name": "ipython",
    "version": 3
   },
   "file_extension": ".py",
   "mimetype": "text/x-python",
   "name": "python",
   "nbconvert_exporter": "python",
   "pygments_lexer": "ipython3",
   "version": "3.9.0"
  },
  "orig_nbformat": 4
 },
 "nbformat": 4,
 "nbformat_minor": 2
}
