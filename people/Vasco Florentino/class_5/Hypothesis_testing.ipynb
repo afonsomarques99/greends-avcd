{
 "cells": [
  {
   "attachments": {},
   "cell_type": "markdown",
   "metadata": {},
   "source": [
    "# Analysis and Visualization of Complex Agro-Environmental Data\n",
    "---\n",
    "## Hypothesis testing\n",
    "\n",
    "Most hypothesis testing functions in Python are provided by the stats submodule of SciPy. Other modules such as statsmodels and scikit have some advantages on the provided outputs and have additional relevant functions for hypothesis testing.\n",
    "\n",
    "##### Import modules:"
   ]
  },
  {
   "cell_type": "code",
   "execution_count": 1,
   "metadata": {},
   "outputs": [],
   "source": [
    "import numpy as np\n",
    "import pandas as pd\n",
    "import scipy.stats as sts\n",
    "import statsmodels.stats as stm\n",
    "import scikit_posthocs as sp\n",
    "import seaborn as sns\n",
    "import matplotlib.pyplot as plt"
   ]
  },
  {
   "attachments": {},
   "cell_type": "markdown",
   "metadata": {},
   "source": [
    "##### Simulate populations (N = 100000)"
   ]
  },
  {
   "cell_type": "code",
   "execution_count": 261,
   "metadata": {},
   "outputs": [],
   "source": [
    "# seed the random number generator\n",
    "np.random.seed(24)\n",
    "# generate univariate observations\n",
    "pop1 = np.random.normal(50,20,100000)\n",
    "pop2 = np.random.normal(70,25,100000)\n",
    "pop3 = np.random.exponential(50, 100000)\n",
    "pop4 = np.random.exponential(100, 100000)"
   ]
  },
  {
   "attachments": {},
   "cell_type": "markdown",
   "metadata": {},
   "source": [
    "### Parametric one-sample tests\n",
    "#### One-sample t-test\n",
    "\n",
    "1. Define H0 : The population mean is 40\n",
    "\n",
    "2. Take a sample from population (pop1)"
   ]
  },
  {
   "cell_type": "code",
   "execution_count": null,
   "metadata": {},
   "outputs": [],
   "source": [
    "# Take random samples from data (n=30)\n",
    "import random\n",
    "sample1 = random.sample(list(pop1), 30)\n",
    "sns.histplot(sample1)"
   ]
  },
  {
   "attachments": {},
   "cell_type": "markdown",
   "metadata": {},
   "source": [
    "3. Compute the statistic and check *p-value*"
   ]
  },
  {
   "cell_type": "code",
   "execution_count": null,
   "metadata": {},
   "outputs": [],
   "source": [
    "# perform one sample t-test. \n",
    "# H0: The population mean is 40\n",
    "stat, p = sts.ttest_1samp(a=sample1, popmean=40)\n",
    "print('t-stat=%.3f, p-value=%.3f' % (stat, p))"
   ]
  },
  {
   "attachments": {},
   "cell_type": "markdown",
   "metadata": {},
   "source": [
    "### Parametric two-sample tests\n",
    "#### Two-sample *t* test (two-tailed)\n",
    "\n",
    "1. Define H0 : The samples are drawn from populations with equal means\n",
    "\n",
    "2. Take sample from populations (pop1 and pop2)"
   ]
  },
  {
   "cell_type": "code",
   "execution_count": 277,
   "metadata": {},
   "outputs": [],
   "source": [
    "# Take random samples from data (n=20)\n",
    "import random\n",
    "random.seed(123)\n",
    "sample1 = random.sample(list(pop1), 30)\n",
    "sample2 = random.sample(list(pop2), 30)\n"
   ]
  },
  {
   "attachments": {},
   "cell_type": "markdown",
   "metadata": {},
   "source": [
    "3. Check assumptions: outliers, overal normality, homogeneity of variances"
   ]
  },
  {
   "cell_type": "code",
   "execution_count": null,
   "metadata": {},
   "outputs": [],
   "source": [
    "# outliers\n",
    "sns.stripplot(sample1)\n",
    "sns.stripplot(sample2)"
   ]
  },
  {
   "cell_type": "code",
   "execution_count": null,
   "metadata": {},
   "outputs": [],
   "source": [
    "# normality\n",
    "sns.kdeplot(sample1)\n",
    "sns.kdeplot(sample2)"
   ]
  },
  {
   "cell_type": "code",
   "execution_count": null,
   "metadata": {},
   "outputs": [],
   "source": [
    "# Homogeneity of variances\n",
    "# Leven's test - tests the null hypothesis that the population variances are equal\n",
    "sts.levene(sample1, sample2, center='median')"
   ]
  },
  {
   "attachments": {},
   "cell_type": "markdown",
   "metadata": {},
   "source": [
    "4. Compute the statistic and check *p-value*"
   ]
  },
  {
   "cell_type": "code",
   "execution_count": null,
   "metadata": {},
   "outputs": [],
   "source": [
    "stat, p = sts.ttest_ind(sample1, sample2, )\n",
    "print('t-stat=%.3f, p-value=%.3f' % (stat, p))"
   ]
  },
  {
   "attachments": {},
   "cell_type": "markdown",
   "metadata": {},
   "source": [
    "#### Two-sample *t* test (one-tailed)\n",
    "\n",
    "H0 : Population 1 has a mean > or = to Population 2"
   ]
  },
  {
   "cell_type": "code",
   "execution_count": 236,
   "metadata": {},
   "outputs": [
    {
     "name": "stdout",
     "output_type": "stream",
     "text": [
      "t-stat=-2.352, p-value=0.989\n"
     ]
    }
   ],
   "source": [
    "stat, p = sts.ttest_ind(sample1, sample2, alternative='greater')\n",
    "print('t-stat=%.3f, p-value=%.3f' % (stat, p))"
   ]
  },
  {
   "cell_type": "markdown",
   "metadata": {},
   "source": [
    "##### `Now try to run the last two tests analysis with the same code but now using  big data (the whole population or a big sample)`"
   ]
  },
  {
   "attachments": {},
   "cell_type": "markdown",
   "metadata": {},
   "source": [
    "#### Paired two-sample *t* test (two-tailed)\n",
    "\n",
    "H0 : The samples are drawn from populations with equal means"
   ]
  },
  {
   "cell_type": "code",
   "execution_count": null,
   "metadata": {},
   "outputs": [],
   "source": [
    "stat, p = sts.ttest_rel(sample1, sample2)\n",
    "print('t-stat=%.3f, p-value=%.3f' % (stat, p))"
   ]
  },
  {
   "attachments": {},
   "cell_type": "markdown",
   "metadata": {},
   "source": [
    "### Non-parametric two-sample tests\n",
    "#### Kolmogorov-smirnov test\n",
    "\n",
    "1. Define H0 : The two samples are drawn from populations with equal distributions\n",
    "2. Take sample from populations pop1 and pop2 - use the same as previous example\n",
    "3. Check assumptions (see test for homeogeneity of variances above)\n",
    "3. Compute the statistic and check *p-value*"
   ]
  },
  {
   "cell_type": "code",
   "execution_count": null,
   "metadata": {},
   "outputs": [],
   "source": [
    "stat, p = sts.ks_2samp(sample1, sample2)\n",
    "print('stat=%.3f, p-value=%.3f' % (stat, p))"
   ]
  },
  {
   "attachments": {},
   "cell_type": "markdown",
   "metadata": {},
   "source": [
    "#### Mann-Whitney U Test (or Wilcoxon rank sum test) - two-tailed test\n",
    "\n",
    "H0 : The two samples are drawn from populations with equal medians"
   ]
  },
  {
   "cell_type": "code",
   "execution_count": null,
   "metadata": {},
   "outputs": [],
   "source": [
    "stat, p = sts.mannwhitneyu(sample1, sample2, alternative='two-sided')\n",
    "print('stat=%.3f, p-value=%.3f' % (stat, p))"
   ]
  },
  {
   "attachments": {},
   "cell_type": "markdown",
   "metadata": {},
   "source": [
    "#### Mann-Whitney U Test (or Wilcoxon rank sum test) - one-tailed test\n",
    "\n",
    "H0 : Population 1 has a median > or = to Population 2"
   ]
  },
  {
   "cell_type": "code",
   "execution_count": null,
   "metadata": {},
   "outputs": [],
   "source": [
    "stat, p = sts.mannwhitneyu(sample1, sample2, alternative='greater')\n",
    "print('stat=%.3f, p-value=%.3f' % (stat, p))"
   ]
  },
  {
   "attachments": {},
   "cell_type": "markdown",
   "metadata": {},
   "source": [
    "#### Wilcoxon signed rank test (paired)\n",
    "\n",
    "H0 : The two samples are drawn from populations with equal medians"
   ]
  },
  {
   "cell_type": "code",
   "execution_count": null,
   "metadata": {},
   "outputs": [],
   "source": [
    "stat, p = sts.wilcoxon(sample1, sample2)\n",
    "print('stat=%.3f, p-value=%.3f' % (stat, p))"
   ]
  },
  {
   "attachments": {},
   "cell_type": "markdown",
   "metadata": {},
   "source": [
    "### Parametric multiple sample tests\n",
    "#### One-way ANOVA\n",
    "1. Define H0 : The samples are drawn from populations with equal means\n",
    "2. Take sample from populations pop1 - pop4"
   ]
  },
  {
   "cell_type": "code",
   "execution_count": null,
   "metadata": {},
   "outputs": [],
   "source": [
    "# Take random samples from data (n=20)\n",
    "import random\n",
    "sample1 = random.sample(list(pop1), 50)\n",
    "sample2 = random.sample(list(pop2), 50)\n",
    "sample3 = random.sample(list(pop3), 50)\n",
    "sample4 = random.sample(list(pop4), 50)\n",
    "sns.kdeplot(sample1, label='Pop1')\n",
    "sns.kdeplot(sample2, label='Pop2')\n",
    "sns.kdeplot(sample3, label='Pop3')\n",
    "sns.kdeplot(sample4, label='Pop4')\n",
    "plt.legend(frameon=False, loc='upper right')"
   ]
  },
  {
   "attachments": {},
   "cell_type": "markdown",
   "metadata": {},
   "source": [
    "3. Compute the statistic and check the *p-value*"
   ]
  },
  {
   "cell_type": "code",
   "execution_count": null,
   "metadata": {},
   "outputs": [],
   "source": [
    "stat, p = sts.f_oneway(sample1, sample2, sample3, sample4)\n",
    "print('F-statistics=%.3f, p=%.6f' % (stat, p))"
   ]
  },
  {
   "attachments": {},
   "cell_type": "markdown",
   "metadata": {},
   "source": [
    "The SciPy does not provide the usual ANOVA table. An alternative is to use the statsmodel api that includes a more complete output:"
   ]
  },
  {
   "cell_type": "code",
   "execution_count": null,
   "metadata": {},
   "outputs": [],
   "source": [
    "import statsmodels.api as sm\n",
    "from statsmodels.formula.api import ols\n",
    "\n",
    "# the statsmodels ANOVA needs to \n",
    "list_sample = [sample1, sample2, sample2, sample4]\n",
    "df = pd.DataFrame(list_sample)\n",
    "df = df.T\n",
    "df.columns = [\"sample1\", \"sample2\", \"sample3\", \"sample4\"]\n",
    "df = df.stack()\n",
    "df=df.reset_index()\n",
    "df.rename(columns = {'level_1':'group', 0:'value'}, inplace = True)\n",
    "df.drop('level_0', inplace=True, axis=1)\n",
    "df"
   ]
  },
  {
   "cell_type": "code",
   "execution_count": null,
   "metadata": {},
   "outputs": [],
   "source": [
    "mod = ols('value ~ group',\n",
    "                data=df).fit()\n",
    "                \n",
    "aov_table = sm.stats.anova_lm(mod, typ=2) # typ is the of anova type to perform ('I','II' or 'III' = 1,2,3)\n",
    "print(aov_table) # provides the usual ANOVA table"
   ]
  },
  {
   "attachments": {},
   "cell_type": "markdown",
   "metadata": {},
   "source": [
    "#### Two-way ANOVA\n",
    "\n",
    "Tests whether two factors affect the mean of three or more groups. It also tests whether there is an interaction between the two factors (if one factor changes the effect of the other factor).\n",
    "\n",
    "Possible H0: \n",
    "1. There is no difference in the means of factor A.\n",
    "2. There is no difference in means of factor B.\n",
    "3. There is no interaction between factors A and B."
   ]
  },
  {
   "cell_type": "code",
   "execution_count": null,
   "metadata": {},
   "outputs": [],
   "source": [
    "# create data (example taken from https://www.statology.org/two-way-anova-python/) - influence of plant growth by sunlight exposure and watering frequency\n",
    "df2 = pd.DataFrame({'water': np.repeat(['daily', 'weekly'], 15),\n",
    "                   'sun': np.tile(np.repeat(['low', 'med', 'high'], 5), 2),\n",
    "                   'height': [6, 6, 6, 5, 6, 5, 5, 6, 4, 5,\n",
    "                              6, 6, 7, 8, 7, 3, 4, 4, 4, 5,\n",
    "                              4, 4, 4, 4, 4, 5, 6, 6, 7, 8]})\n",
    "print(df2)"
   ]
  },
  {
   "cell_type": "code",
   "execution_count": null,
   "metadata": {},
   "outputs": [],
   "source": [
    "#perform two-way ANOVA\n",
    "model = ols('height ~ C(water) + C(sun) + C(water):C(sun)', data=df).fit()\n",
    "sm.stats.anova_lm(model, typ=2)"
   ]
  },
  {
   "attachments": {},
   "cell_type": "markdown",
   "metadata": {},
   "source": [
    "#### Repeated measures ANOVA\n",
    "\n",
    "Used when the responses from the same subjects (experimental units) are measured repeatedly over a period of time or under different experimental conditions.\n",
    "\n",
    "H0: Treatment or time groups means are equal"
   ]
  },
  {
   "cell_type": "code",
   "execution_count": null,
   "metadata": {},
   "outputs": [],
   "source": [
    "#create data - Ex: Measurements (time of response to stressor) taken over time for the same fish individuals\n",
    "df3 = pd.DataFrame({'fish': np.repeat([1, 2, 3, 4, 5], 4),\n",
    "                   'time': np.tile([1, 2, 3, 4], 5),\n",
    "                   'time of response': [30, 28, 16, 34,\n",
    "                                14, 18, 10, 22,\n",
    "                                24, 20, 18, 30,\n",
    "                                38, 34, 20, 44, \n",
    "                                26, 28, 14, 30]})\n",
    "df3"
   ]
  },
  {
   "cell_type": "code",
   "execution_count": 305,
   "metadata": {},
   "outputs": [
    {
     "name": "stdout",
     "output_type": "stream",
     "text": [
      "              Anova\n",
      "==================================\n",
      "     F Value Num DF  Den DF Pr > F\n",
      "----------------------------------\n",
      "time 24.7589 3.0000 12.0000 0.0000\n",
      "==================================\n",
      "\n"
     ]
    }
   ],
   "source": [
    "rmanova = stm.anova.AnovaRM(data=df3, depvar='time of response', subject='fish', within=['time']).fit()\n",
    "print(rmanova)"
   ]
  },
  {
   "attachments": {},
   "cell_type": "markdown",
   "metadata": {},
   "source": [
    "### Post-hoc or multiple comparison tests\n",
    "\n",
    "#### Tukey's test\n",
    "\n",
    "To check which pairs of groups differ in their mean values. Can be used also as a stand alone test.\n",
    "Implemented in statsmodels.stats.multicomp"
   ]
  },
  {
   "cell_type": "code",
   "execution_count": null,
   "metadata": {},
   "outputs": [],
   "source": [
    "# perform Tukey's test using the df dataframe defined above)\n",
    "tukey = stm.multicomp.pairwise_tukeyhsd(endog=df['value'],\n",
    "                          groups=df['group'],\n",
    "                          alpha=0.05)\n",
    "#display results\n",
    "print(tukey)"
   ]
  },
  {
   "attachments": {},
   "cell_type": "markdown",
   "metadata": {},
   "source": [
    "### Non-parametric multiple sample tests\n",
    "#### Kruskal-Wallis test\n",
    "1. Define H0 : The samples are drawn from populations with equal medians\n",
    "2. Take sample from populations (pop1 and pop2) - use the same as previous examples\n",
    "3. Compute the statistic and check the *p-value*"
   ]
  },
  {
   "cell_type": "code",
   "execution_count": null,
   "metadata": {},
   "outputs": [],
   "source": [
    "stat, p = sts.kruskal(sample1, sample2, sample3, sample4)\n",
    "print('F-statistics=%.3f, p=%.6f' % (stat, p))"
   ]
  },
  {
   "attachments": {},
   "cell_type": "markdown",
   "metadata": {},
   "source": [
    "#### Dunn's test (multiple comparisons)\n",
    "\n",
    "The Dunn's test is a non-parametric multiple comparison test to check which pairs of groups differ when a Kruskal-wallis test (or Friedman test) rejects the null hypothesis. It is implemented in the scikit-posthocs module (you may need to install: run `pip install scikit-posthocs` in the CLI terminal).\n",
    "\n",
    "H0 : The samples are drawn from populations with equal medians"
   ]
  },
  {
   "cell_type": "code",
   "execution_count": null,
   "metadata": {},
   "outputs": [],
   "source": [
    "# need to a list with samples (can be the list_sample produced above)\n",
    "sp.posthoc_dunn(list_sample, p_adjust = 'bonferroni') # the correction for multiple comparisons is based on the bonferroni's correction.\n",
    "# the output is a matrix of p-values for each pair of groups."
   ]
  },
  {
   "attachments": {},
   "cell_type": "markdown",
   "metadata": {},
   "source": [
    "#### Friedman test\n",
    "\n",
    "This is the non-parametric equivalent of a repeated measures ANOVA. It is implemented in statsmodels. \n",
    "\n",
    "H0 : The samples are drawn from populations with equal medians"
   ]
  },
  {
   "cell_type": "code",
   "execution_count": null,
   "metadata": {},
   "outputs": [],
   "source": [
    "# use same data as for the repeated measures ANOVA\n",
    "stat, p = sts.friedmanchisquare(df3['time of response'][0:4], \n",
    "                                df3['time of response'][5:9], \n",
    "                                df3['time of response'][10:14], \n",
    "                                df3['time of response'][15:19])\n",
    "print('Statistic=%.3f, p=%.6f' % (stat, p))"
   ]
  },
  {
   "attachments": {},
   "cell_type": "markdown",
   "metadata": {},
   "source": [
    "### Tests for categorical variables\n",
    "\n",
    "#### Chi-Square Test of Independence\n",
    "\n",
    "A Chi-Square Test of Independence is used to determine whether or not there is a significant association between two categorical variables.\n",
    "\n",
    "H0: The two variables are independent."
   ]
  },
  {
   "cell_type": "code",
   "execution_count": 325,
   "metadata": {},
   "outputs": [],
   "source": [
    "# Create data contingency table (counts for each class combination of two categorical variables, for ex. treatment in columns (3 treatments) vs. success of treatment (yes/no) in rows)\n",
    "data = [[120, 90, 40],\n",
    "        [110, 95, 45]]\n",
    "\n",
    "# run test\n",
    "sts.chi2_contingency(data)"
   ]
  }
 ],
 "metadata": {
  "kernelspec": {
   "display_name": "Python 3",
   "language": "python",
   "name": "python3"
  },
  "language_info": {
   "codemirror_mode": {
    "name": "ipython",
    "version": 3
   },
   "file_extension": ".py",
   "mimetype": "text/x-python",
   "name": "python",
   "nbconvert_exporter": "python",
   "pygments_lexer": "ipython3",
   "version": "3.10.7"
  },
  "orig_nbformat": 4
 },
 "nbformat": 4,
 "nbformat_minor": 2
}
