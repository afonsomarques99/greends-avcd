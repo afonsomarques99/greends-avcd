{
 "cells": [
  {
   "cell_type": "code",
   "execution_count": 24,
   "metadata": {},
   "outputs": [],
   "source": [
    "import pandas as pd\n",
    "import zipfile\n",
    "import random\n",
    "import seaborn as sns # For plotting\n",
    "import matplotlib.pyplot as plt # For showing plots\n",
    "import numpy as np\n",
    "import scipy.stats as sts\n",
    "import statsmodels.stats as stm\n",
    "import scikit_posthocs as sp\n",
    "import matplotlib.pyplot as plt\n",
    "\n",
    "df = pd.read_csv('EFIplus_medit.zip',compression='zip', sep=\";\")"
   ]
  },
  {
   "attachments": {},
   "cell_type": "markdown",
   "metadata": {},
   "source": [
    "## 5.1\n"
   ]
  },
  {
   "cell_type": "code",
   "execution_count": 25,
   "metadata": {},
   "outputs": [
    {
     "name": "stdout",
     "output_type": "stream",
     "text": [
      "Test statistic: 496.3723854072799, pvalue: 2.9162328651936495e-107, df: 3\n",
      "--> Reject H_0. The two variables are NOT independent.\n",
      "(496.3723854072799, 2.9162328651936495e-107, 3, array([[  28.39193774,   43.60806226],\n",
      "       [  72.95150669,  112.04849331],\n",
      "       [ 341.88625025,  525.11374975],\n",
      "       [1532.77030533, 2354.22969467]]))\n",
      "Salmo trutta fario     0     1\n",
      "Country                       \n",
      "France                13    59\n",
      "Italy                109    76\n",
      "Portugal             615   252\n",
      "Spain               1239  2648\n"
     ]
    }
   ],
   "source": [
    "alpha = .05\n",
    "\n",
    "freqtable = pd.crosstab(df.Country, df['Salmo trutta fario']) \n",
    "\n",
    "res = sts.chi2_contingency(freqtable)\n",
    "# styling\n",
    "print(f'Test statistic: {res[0]}, pvalue: {res[1]}, df: {res[2]}')\n",
    "if res[1] < alpha: print('--> Reject H_0. The two variables are NOT independent.')\n",
    "else: print('Do NOT reject H_0. The frequency of presence of salmo trutta fario is independent of the country.')\n",
    "print(res)\n",
    "print(freqtable)"
   ]
  },
  {
   "attachments": {},
   "cell_type": "markdown",
   "metadata": {},
   "source": [
    "## 5.2"
   ]
  },
  {
   "cell_type": "code",
   "execution_count": 26,
   "metadata": {},
   "outputs": [
    {
     "name": "stdout",
     "output_type": "stream",
     "text": [
      "t-stat=439968.000, p-value=0.000\n",
      "--> Reject H_0. The median of the statistical populations (actual_river_slope in presence vs. actual_river_slope non-presence) are NOT equal(0=not present)\n"
     ]
    }
   ],
   "source": [
    "df2=df.dropna()\n",
    "data = df2[['Salmo trutta fario', 'Actual_river_slope']]\n",
    "sample0 = df2[df2['Salmo trutta fario']==0]['Actual_river_slope']\n",
    "sample1 = df2[df2['Salmo trutta fario']==1]['Actual_river_slope']\n",
    "\n",
    "stats, p = sts.mannwhitneyu(sample0,sample1,alternative='two-sided')\n",
    "print('t-stat=%.3f, p-value=%.3f' % (stats,p))\n",
    "\n",
    "if p < alpha: print('--> Reject H_0. The median of the statistical populations (actual_river_slope in presence vs. actual_river_slope non-presence) are NOT equal(0=not present)')\n",
    "else: print('Do NOT reject H_0. The frequency of presence of salmo trutta fario is independent of the river_slope.')\n",
    "\n",
    "\n"
   ]
  },
  {
   "attachments": {},
   "cell_type": "markdown",
   "metadata": {},
   "source": [
    "## 5.3"
   ]
  },
  {
   "cell_type": "code",
   "execution_count": 27,
   "metadata": {},
   "outputs": [
    {
     "ename": "NameError",
     "evalue": "name 'Elevation_mean_catch' is not defined",
     "output_type": "error",
     "traceback": [
      "\u001b[1;31m---------------------------------------------------------------------------\u001b[0m",
      "\u001b[1;31mNameError\u001b[0m                                 Traceback (most recent call last)",
      "\u001b[1;32mc:\\Users\\alfor\\greends-avcd-2\\people\\Vasco Florentino\\class_5\\exercis5.ipynb Cell 7\u001b[0m in \u001b[0;36m1\n\u001b[1;32m----> <a href='vscode-notebook-cell:/c%3A/Users/alfor/greends-avcd-2/people/Vasco%20Florentino/class_5/exercis5.ipynb#X10sZmlsZQ%3D%3D?line=0'>1</a>\u001b[0m Elevation_mean_catch\n",
      "\u001b[1;31mNameError\u001b[0m: name 'Elevation_mean_catch' is not defined"
     ]
    }
   ],
   "source": [
    "Elevation_mean_catch"
   ]
  }
 ],
 "metadata": {
  "kernelspec": {
   "display_name": "Python 3",
   "language": "python",
   "name": "python3"
  },
  "language_info": {
   "codemirror_mode": {
    "name": "ipython",
    "version": 3
   },
   "file_extension": ".py",
   "mimetype": "text/x-python",
   "name": "python",
   "nbconvert_exporter": "python",
   "pygments_lexer": "ipython3",
   "version": "3.10.7"
  },
  "orig_nbformat": 4
 },
 "nbformat": 4,
 "nbformat_minor": 2
}
