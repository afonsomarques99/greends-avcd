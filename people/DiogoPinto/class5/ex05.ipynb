{
 "cells": [
  {
   "cell_type": "code",
   "execution_count": 2,
   "metadata": {},
   "outputs": [],
   "source": [
    "import pandas as pd\n",
    "import random\n",
    "import seaborn as sns \n",
    "import matplotlib.pyplot as plt \n",
    "import numpy as np\n",
    "import scipy.stats as sts\n",
    "import statsmodels.stats as stm\n",
    "import scikit_posthocs as sp\n",
    "import matplotlib.pyplot as plt\n",
    "\n",
    "df = pd.read_csv('EFIplus_medit.zip',compression='zip', sep=\";\")\n",
    "#df=pd.read_csv(os.getcwd() + '\\..\\..Examples\\EFIplus_mdeit.zip', compression='zip',sep=\";\" ) para ficheiros em pastas diferentes"
   ]
  },
  {
   "cell_type": "markdown",
   "metadata": {},
   "source": [
    "Ex 5.1"
   ]
  },
  {
   "cell_type": "code",
   "execution_count": 3,
   "metadata": {},
   "outputs": [
    {
     "name": "stdout",
     "output_type": "stream",
     "text": [
      "Test statistic: 496.3723854072799, pvalue: 2.9162328651936495e-107, df: 3\n",
      "--> Reject H_0. The two variables are NOT independent.\n",
      "(496.3723854072799, 2.9162328651936495e-107, 3, array([[  28.39193774,   43.60806226],\n",
      "       [  72.95150669,  112.04849331],\n",
      "       [ 341.88625025,  525.11374975],\n",
      "       [1532.77030533, 2354.22969467]]))\n",
      "Salmo trutta fario     0     1\n",
      "Country                       \n",
      "France                13    59\n",
      "Italy                109    76\n",
      "Portugal             615   252\n",
      "Spain               1239  2648\n"
     ]
    }
   ],
   "source": [
    "alpha = .05\n",
    "\n",
    "freqtable = pd.crosstab(df.Country, df['Salmo trutta fario']) \n",
    "\n",
    "res = sts.chi2_contingency(freqtable)\n",
    "# styling\n",
    "print(f'Test statistic: {res[0]}, pvalue: {res[1]}, df: {res[2]}')\n",
    "if res[1] < alpha: print('--> Reject H_0. The two variables are NOT independent.')\n",
    "else: print('Do NOT reject H_0. The frequency of presence of salmo trutta fario is independent of the country.')\n",
    "print(res)\n",
    "print(freqtable)"
   ]
  },
  {
   "cell_type": "markdown",
   "metadata": {},
   "source": [
    "Ex 5.2"
   ]
  },
  {
   "cell_type": "code",
   "execution_count": 4,
   "metadata": {},
   "outputs": [
    {
     "name": "stdout",
     "output_type": "stream",
     "text": [
      "t-stat=439968.000, p-value=0.000\n",
      "--> Reject H_0. The median of the statistical populations (actual_river_slope in presence vs. actual_river_slope non-presence) are NOT equal(0=not present)\n"
     ]
    }
   ],
   "source": [
    "df2=df.dropna()\n",
    "data = df2[['Salmo trutta fario', 'Actual_river_slope']]\n",
    "sample0 = df2[df2['Salmo trutta fario']==0]['Actual_river_slope']\n",
    "sample1 = df2[df2['Salmo trutta fario']==1]['Actual_river_slope']\n",
    "\n",
    "stats, p = sts.mannwhitneyu(sample0,sample1,alternative='two-sided')\n",
    "print('t-stat=%.3f, p-value=%.3f' % (stats,p))\n",
    "\n",
    "if p < alpha: print('--> Reject H_0. The median of the statistical populations (actual_river_slope in presence vs. actual_river_slope non-presence) are NOT equal(0=not present)')\n",
    "else: print('Do NOT reject H_0. The frequency of presence of salmo trutta fario is independent of the river_slope.')"
   ]
  },
  {
   "cell_type": "markdown",
   "metadata": {},
   "source": [
    "5.3"
   ]
  },
  {
   "cell_type": "code",
   "execution_count": 5,
   "metadata": {},
   "outputs": [
    {
     "data": {
      "text/html": [
       "<div>\n",
       "<style scoped>\n",
       "    .dataframe tbody tr th:only-of-type {\n",
       "        vertical-align: middle;\n",
       "    }\n",
       "\n",
       "    .dataframe tbody tr th {\n",
       "        vertical-align: top;\n",
       "    }\n",
       "\n",
       "    .dataframe thead th {\n",
       "        text-align: right;\n",
       "    }\n",
       "</style>\n",
       "<table border=\"1\" class=\"dataframe\">\n",
       "  <thead>\n",
       "    <tr style=\"text-align: right;\">\n",
       "      <th>col_0</th>\n",
       "      <th>count</th>\n",
       "    </tr>\n",
       "    <tr>\n",
       "      <th>Catchment_name</th>\n",
       "      <th></th>\n",
       "    </tr>\n",
       "  </thead>\n",
       "  <tbody>\n",
       "    <tr>\n",
       "      <th>Ebro</th>\n",
       "      <td>736</td>\n",
       "    </tr>\n",
       "    <tr>\n",
       "      <th>Galiza-Norte</th>\n",
       "      <td>709</td>\n",
       "    </tr>\n",
       "    <tr>\n",
       "      <th>Minho</th>\n",
       "      <td>707</td>\n",
       "    </tr>\n",
       "    <tr>\n",
       "      <th>Tejo</th>\n",
       "      <td>509</td>\n",
       "    </tr>\n",
       "    <tr>\n",
       "      <th>Cantabrica</th>\n",
       "      <td>502</td>\n",
       "    </tr>\n",
       "    <tr>\n",
       "      <th>Douro</th>\n",
       "      <td>401</td>\n",
       "    </tr>\n",
       "    <tr>\n",
       "      <th>Guadia</th>\n",
       "      <td>313</td>\n",
       "    </tr>\n",
       "    <tr>\n",
       "      <th>Catala</th>\n",
       "      <td>242</td>\n",
       "    </tr>\n",
       "    <tr>\n",
       "      <th>Tevere</th>\n",
       "      <td>106</td>\n",
       "    </tr>\n",
       "    <tr>\n",
       "      <th>Jucar</th>\n",
       "      <td>103</td>\n",
       "    </tr>\n",
       "    <tr>\n",
       "      <th>Galiza-Sul</th>\n",
       "      <td>95</td>\n",
       "    </tr>\n",
       "    <tr>\n",
       "      <th>Mondego</th>\n",
       "      <td>86</td>\n",
       "    </tr>\n",
       "    <tr>\n",
       "      <th>Guadalquivir</th>\n",
       "      <td>63</td>\n",
       "    </tr>\n",
       "    <tr>\n",
       "      <th>Vouga</th>\n",
       "      <td>56</td>\n",
       "    </tr>\n",
       "    <tr>\n",
       "      <th>Jucar-Ebro</th>\n",
       "      <td>52</td>\n",
       "    </tr>\n",
       "    <tr>\n",
       "      <th>Segura</th>\n",
       "      <td>42</td>\n",
       "    </tr>\n",
       "    <tr>\n",
       "      <th>Odelouca</th>\n",
       "      <td>40</td>\n",
       "    </tr>\n",
       "    <tr>\n",
       "      <th>Oeste</th>\n",
       "      <td>33</td>\n",
       "    </tr>\n",
       "    <tr>\n",
       "      <th>Saline-Pescara-Sangro</th>\n",
       "      <td>29</td>\n",
       "    </tr>\n",
       "    <tr>\n",
       "      <th>South_France_W</th>\n",
       "      <td>25</td>\n",
       "    </tr>\n",
       "    <tr>\n",
       "      <th>Sur</th>\n",
       "      <td>24</td>\n",
       "    </tr>\n",
       "    <tr>\n",
       "      <th>South_France_E</th>\n",
       "      <td>23</td>\n",
       "    </tr>\n",
       "    <tr>\n",
       "      <th>Campania-South</th>\n",
       "      <td>19</td>\n",
       "    </tr>\n",
       "    <tr>\n",
       "      <th>Sardinia</th>\n",
       "      <td>17</td>\n",
       "    </tr>\n",
       "    <tr>\n",
       "      <th>Rhone</th>\n",
       "      <td>16</td>\n",
       "    </tr>\n",
       "    <tr>\n",
       "      <th>Algarve-barlavento</th>\n",
       "      <td>10</td>\n",
       "    </tr>\n",
       "    <tr>\n",
       "      <th>Sado</th>\n",
       "      <td>9</td>\n",
       "    </tr>\n",
       "    <tr>\n",
       "      <th>Segura-Jucar</th>\n",
       "      <td>7</td>\n",
       "    </tr>\n",
       "    <tr>\n",
       "      <th>Ombrone-Tevere</th>\n",
       "      <td>6</td>\n",
       "    </tr>\n",
       "    <tr>\n",
       "      <th>Algarve-Sotavento</th>\n",
       "      <td>6</td>\n",
       "    </tr>\n",
       "    <tr>\n",
       "      <th>Mira</th>\n",
       "      <td>5</td>\n",
       "    </tr>\n",
       "    <tr>\n",
       "      <th>Ombrone</th>\n",
       "      <td>5</td>\n",
       "    </tr>\n",
       "    <tr>\n",
       "      <th>Corse</th>\n",
       "      <td>5</td>\n",
       "    </tr>\n",
       "    <tr>\n",
       "      <th>Garonne</th>\n",
       "      <td>3</td>\n",
       "    </tr>\n",
       "    <tr>\n",
       "      <th>EntreDouroeVouga</th>\n",
       "      <td>2</td>\n",
       "    </tr>\n",
       "    <tr>\n",
       "      <th>Arno-Ombrone</th>\n",
       "      <td>2</td>\n",
       "    </tr>\n",
       "    <tr>\n",
       "      <th>Italia-Veneto</th>\n",
       "      <td>1</td>\n",
       "    </tr>\n",
       "    <tr>\n",
       "      <th>Tejo-Sado</th>\n",
       "      <td>1</td>\n",
       "    </tr>\n",
       "    <tr>\n",
       "      <th>Vouga-Mondego</th>\n",
       "      <td>1</td>\n",
       "    </tr>\n",
       "  </tbody>\n",
       "</table>\n",
       "</div>"
      ],
      "text/plain": [
       "col_0                  count\n",
       "Catchment_name              \n",
       "Ebro                     736\n",
       "Galiza-Norte             709\n",
       "Minho                    707\n",
       "Tejo                     509\n",
       "Cantabrica               502\n",
       "Douro                    401\n",
       "Guadia                   313\n",
       "Catala                   242\n",
       "Tevere                   106\n",
       "Jucar                    103\n",
       "Galiza-Sul                95\n",
       "Mondego                   86\n",
       "Guadalquivir              63\n",
       "Vouga                     56\n",
       "Jucar-Ebro                52\n",
       "Segura                    42\n",
       "Odelouca                  40\n",
       "Oeste                     33\n",
       "Saline-Pescara-Sangro     29\n",
       "South_France_W            25\n",
       "Sur                       24\n",
       "South_France_E            23\n",
       "Campania-South            19\n",
       "Sardinia                  17\n",
       "Rhone                     16\n",
       "Algarve-barlavento        10\n",
       "Sado                       9\n",
       "Segura-Jucar               7\n",
       "Ombrone-Tevere             6\n",
       "Algarve-Sotavento          6\n",
       "Mira                       5\n",
       "Ombrone                    5\n",
       "Corse                      5\n",
       "Garonne                    3\n",
       "EntreDouroeVouga           2\n",
       "Arno-Ombrone               2\n",
       "Italia-Veneto              1\n",
       "Tejo-Sado                  1\n",
       "Vouga-Mondego              1"
      ]
     },
     "execution_count": 5,
     "metadata": {},
     "output_type": "execute_result"
    }
   ],
   "source": [
    "catchment_count = pd.crosstab(index = df['Catchment_name'], columns='count')\n",
    "catchment_count.sort_values(by=['count'], ascending=False)"
   ]
  },
  {
   "cell_type": "code",
   "execution_count": 7,
   "metadata": {},
   "outputs": [
    {
     "data": {
      "text/plain": [
       "<AxesSubplot: xlabel='Actual_river_slope', ylabel='Count'>"
      ]
     },
     "execution_count": 7,
     "metadata": {},
     "output_type": "execute_result"
    },
    {
     "data": {
      "image/png": "[encoded data removed]",
      "text/plain": [
       "<Figure size 640x480 with 1 Axes>"
      ]
     },
     "metadata": {},
     "output_type": "display_data"
    }
   ],
   "source": [
    "import statsmodels.api as sm\n",
    "from statsmodels.formula.api import ols\n",
    "\n",
    "dfsub = df2[(df2['Catchment_name']=='Ebro') | \n",
    "    (df2['Catchment_name']=='Galiza-Norte') |\n",
    "    (df2['Catchment_name']=='Minho') |\n",
    "    (df2['Catchment_name']=='Tejo')\n",
    "    ]\n",
    "\n",
    "sns.histplot(df['Actual_river_slope'])"
   ]
  },
  {
   "cell_type": "code",
   "execution_count": 9,
   "metadata": {},
   "outputs": [
    {
     "name": "stdout",
     "output_type": "stream",
     "text": [
      "         Multiple Comparison of Means - Tukey HSD, FWER=0.05         \n",
      "=====================================================================\n",
      "   group1       group2     meandiff p-adj    lower     upper   reject\n",
      "---------------------------------------------------------------------\n",
      "        Ebro Galiza-Norte -518.8618    0.0  -624.422 -413.3017   True\n",
      "        Ebro        Minho  -41.8011 0.7388 -147.3794   63.7771  False\n",
      "        Ebro         Tejo -501.9569    0.0 -615.5935 -388.3203   True\n",
      "Galiza-Norte        Minho  477.0607    0.0  434.8052  519.3162   True\n",
      "Galiza-Norte         Tejo   16.9049 0.8853   -42.694   76.5038  False\n",
      "       Minho         Tejo -460.1558    0.0 -519.7868 -400.5248   True\n",
      "---------------------------------------------------------------------\n"
     ]
    }
   ],
   "source": [
    "# Multiple comparisons - perform Tukey's test \n",
    "tukey = stm.multicomp.pairwise_tukeyhsd(endog=dfsub['Elevation_mean_catch'],\n",
    "                          groups=dfsub['Catchment_name'],\n",
    "                          alpha=0.05)\n",
    "#results\n",
    "print(tukey)"
   ]
  },
  {
   "cell_type": "markdown",
   "metadata": {},
   "source": [
    "Ex 5.4"
   ]
  },
  {
   "cell_type": "code",
   "execution_count": 10,
   "metadata": {},
   "outputs": [
    {
     "name": "stdout",
     "output_type": "stream",
     "text": [
      "Galiza-Norte    702\n",
      "Minho           699\n",
      "Tejo            235\n",
      "Ebro             61\n",
      "Name: Catchment_name, dtype: int64\n",
      "1    3035\n",
      "0    1976\n",
      "Name: Salmo trutta fario, dtype: int64\n"
     ]
    }
   ],
   "source": [
    "print(dfsub['Catchment_name'].value_counts())\n",
    "print(df['Salmo trutta fario'].value_counts())"
   ]
  }
 ],
 "metadata": {
  "kernelspec": {
   "display_name": "Python 3.10.7 64-bit",
   "language": "python",
   "name": "python3"
  },
  "language_info": {
   "codemirror_mode": {
    "name": "ipython",
    "version": 3
   },
   "file_extension": ".py",
   "mimetype": "text/x-python",
   "name": "python",
   "nbconvert_exporter": "python",
   "pygments_lexer": "ipython3",
   "version": "3.10.7"
  },
  "orig_nbformat": 4,
  "vscode": {
   "interpreter": {
    "hash": "aee8b7b246df8f9039afb4144a1f6fd8d2ca17a180786b69acc140d282b71a49"
   }
  }
 },
 "nbformat": 4,
 "nbformat_minor": 2
}
