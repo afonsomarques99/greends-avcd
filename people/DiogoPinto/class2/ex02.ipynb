{
 "cells": [
  {
   "cell_type": "code",
   "execution_count": 2,
   "metadata": {},
   "outputs": [],
   "source": [
    "import pandas as pd\n",
    "import numpy as np\n",
    "import random"
   ]
  },
  {
   "cell_type": "code",
   "execution_count": 3,
   "metadata": {},
   "outputs": [],
   "source": [
    "# Simulate var1\n",
    "var1 = []\n",
    "random.seed(24) # optional: used to fix the seed of the pseudo-random number generator (use any number of your choice)\n",
    "levels = [\"Permanent crops\", \"Irrigated crops\", \"Managed Forest\", \"Natural Forest\", \"Agro-Forestry system\", \"Urban\", \"Pasture\", \"Shrubland\" ]\n",
    "for _ in range(100): # why is a loop needed?\n",
    "    var1 += random.sample(levels, 1) # var1.append(random.sample(levels, 1)) would also work"
   ]
  },
  {
   "cell_type": "code",
   "execution_count": 6,
   "metadata": {},
   "outputs": [],
   "source": [
    "# Simulate var2\n",
    "np.random.seed(24) # optional: used to fix the seed of the pseudo-random number generator (use any number of your choice)\n",
    "var2 = np.random.uniform(0, 100, 100)"
   ]
  },
  {
   "cell_type": "code",
   "execution_count": 4,
   "metadata": {},
   "outputs": [
    {
     "name": "stdout",
     "output_type": "stream",
     "text": [
      "                landuse  Frequency\n",
      "0  Agro-Forestry system         16\n",
      "1             Shrubland         14\n",
      "2                 Urban         14\n",
      "3        Managed Forest         13\n",
      "4       Irrigated crops         12\n",
      "5        Natural Forest         12\n",
      "6               Pasture         11\n",
      "7       Permanent crops          8\n"
     ]
    }
   ],
   "source": [
    "# Simulate table1\n",
    "table1 = pd.DataFrame(var1).value_counts(sort=True)\n",
    "table1 = table1.rename_axis(\"landuse\")\n",
    "table1 = table1.reset_index(name=\"Frequency\")"
   ]
  },
  {
   "cell_type": "code",
   "execution_count": 7,
   "metadata": {},
   "outputs": [
    {
     "name": "stdout",
     "output_type": "stream",
     "text": [
      "                 landuse      cover\n",
      "0                Pasture  96.001730\n",
      "1         Managed Forest  69.951205\n",
      "2         Natural Forest  99.986729\n",
      "3         Managed Forest  22.006730\n",
      "4         Natural Forest  36.105635\n",
      "..                   ...        ...\n",
      "95  Agro-Forestry system  27.560264\n",
      "96       Permanent crops  60.397982\n",
      "97               Pasture  54.597285\n",
      "98               Pasture  20.978981\n",
      "99               Pasture  13.612275\n",
      "\n",
      "[100 rows x 2 columns]\n"
     ]
    }
   ],
   "source": [
    "# Simulate table2\n",
    "table2 = pd.DataFrame(list(zip(var1, var2)), columns = [\"landuse\", \"cover\"])\n",
    "print(table2)"
   ]
  },
  {
   "cell_type": "code",
   "execution_count": 8,
   "metadata": {},
   "outputs": [
    {
     "name": "stdout",
     "output_type": "stream",
     "text": [
      "    Year  Temperature\n",
      "0   1970    19.658424\n",
      "1   1971    15.459933\n",
      "2   1972    16.367439\n",
      "3   1973    15.018379\n",
      "4   1974    14.858367\n",
      "5   1975    14.122573\n",
      "6   1976    18.128834\n",
      "7   1977    17.591444\n",
      "8   1978    13.747192\n",
      "9   1979    17.439130\n",
      "10  1980    18.357610\n",
      "11  1981    20.778545\n",
      "12  1982    18.923077\n",
      "13  1983    17.208022\n",
      "14  1984    16.037669\n",
      "15  1985    18.700457\n",
      "16  1986    19.906849\n",
      "17  1987    19.115475\n",
      "18  1988    17.331123\n",
      "19  1989    18.030037\n",
      "20  1990    14.326129\n",
      "21  1991    18.125722\n",
      "22  1992    19.785710\n",
      "23  1993    16.873344\n",
      "24  1994    17.243337\n",
      "25  1995    19.415205\n",
      "26  1996    16.995920\n",
      "27  1997    20.255591\n",
      "28  1998    17.708986\n",
      "29  1999    19.075055\n",
      "30  2000    16.228633\n",
      "31  2001    18.039636\n",
      "32  2002    20.373166\n",
      "33  2003    14.348074\n",
      "34  2004    19.857967\n",
      "35  2005    12.821291\n",
      "36  2006    16.740360\n",
      "37  2007    18.263046\n",
      "38  2008    15.826924\n",
      "39  2009    17.581440\n",
      "40  2010    19.528207\n",
      "41  2011    17.580070\n",
      "42  2012    13.059423\n",
      "43  2013    18.607812\n",
      "44  2014    19.061101\n",
      "45  2015    17.236196\n",
      "46  2016    16.956293\n",
      "47  2017    17.093681\n",
      "48  2018    13.742494\n",
      "49  2019    16.215279\n",
      "50  2020    20.401945\n"
     ]
    }
   ],
   "source": [
    "# Simulate table3\n",
    "np.random.seed(24) # optional: used to fix the seed of the pseudo-random number generator (use any number of your choice)\n",
    "year = list(range(1970,2021))\n",
    "temp = np.random.normal(17,2,51)\n",
    "table3 = pd.DataFrame(list(zip(year, temp)), columns = [\"Year\", \"Temperature\"])\n",
    "print(table3)"
   ]
  },
  {
   "cell_type": "code",
   "execution_count": 9,
   "metadata": {},
   "outputs": [
    {
     "name": "stdout",
     "output_type": "stream",
     "text": [
      "    Mean Anual Temperature  Total Precipitation\n",
      "0                18.294961           909.201074\n",
      "1                18.556194           684.600944\n",
      "2                18.213491           840.320436\n",
      "3                18.157810           755.513792\n",
      "4                17.785119           824.875035\n",
      "..                     ...                  ...\n",
      "95               18.941036           608.551015\n",
      "96               18.339957           645.584342\n",
      "97               18.835738           610.889186\n",
      "98               18.311114           787.298732\n",
      "99               18.915846           691.382160\n",
      "\n",
      "[100 rows x 2 columns]\n"
     ]
    }
   ],
   "source": [
    "# Simulate table4\n",
    "xx = np.array([16,21])\n",
    "yy = np.array([300, 1200])\n",
    "means = [xx.mean(), yy.mean()]  \n",
    "stds = [xx.std() / 3, yy.std() / 3]\n",
    "corr = -0.7 # correlation\n",
    "covs = [[stds[0]**2          , stds[0]*stds[1]*corr], \n",
    "        [stds[0]*stds[1]*corr,           stds[1]**2]] # covariance matrix\n",
    "table4 = pd.DataFrame(np.random.multivariate_normal(means, covs, 100), columns = [\"Mean Anual Temperature\", \"Total Precipitation\"])\n",
    "print(table4)"
   ]
  },
  {
   "cell_type": "code",
   "execution_count": 11,
   "metadata": {},
   "outputs": [],
   "source": [
    "# Simulate table5\n",
    "col1 = pd.Series(list(range(1900,2010,10))).repeat(8)\n",
    "col2 = [\"Permanent crops\", \"Irrigated crops\", \"Managed Forest\", \"Natural Forest\", \"Agro-Forestry system\", \"Urban\", \"Pasture\", \"Shrubland\" ]*11\n",
    "col3 = np.random.uniform(0, 100, 90)\n",
    "table5 = pd.DataFrame(list(zip(col1, col2, col3)), columns = [\"Year\", \"Landuse\", \"Cover\"])"
   ]
  },
  {
   "cell_type": "code",
   "execution_count": 12,
   "metadata": {},
   "outputs": [
    {
     "name": "stdout",
     "output_type": "stream",
     "text": [
      "    Year               Landuse      Cover\n",
      "0   1900       Permanent crops  77.543675\n",
      "1   1900       Irrigated crops  38.634305\n",
      "2   1900        Managed Forest  36.945386\n",
      "3   1900        Natural Forest  69.217019\n",
      "4   1900  Agro-Forestry system   4.370542\n",
      "..   ...                   ...        ...\n",
      "83  2000        Natural Forest  32.942488\n",
      "84  2000  Agro-Forestry system  68.643865\n",
      "85  2000                 Urban  34.579609\n",
      "86  2000               Pasture  45.485347\n",
      "87  2000             Shrubland  53.094214\n",
      "\n",
      "[88 rows x 3 columns]\n"
     ]
    }
   ],
   "source": [
    "print(table5)"
   ]
  }
 ],
 "metadata": {
  "kernelspec": {
   "display_name": "Python 3.10.7 64-bit",
   "language": "python",
   "name": "python3"
  },
  "language_info": {
   "codemirror_mode": {
    "name": "ipython",
    "version": 3
   },
   "file_extension": ".py",
   "mimetype": "text/x-python",
   "name": "python",
   "nbconvert_exporter": "python",
   "pygments_lexer": "ipython3",
   "version": "3.10.7"
  },
  "orig_nbformat": 4,
  "vscode": {
   "interpreter": {
    "hash": "aee8b7b246df8f9039afb4144a1f6fd8d2ca17a180786b69acc140d282b71a49"
   }
  }
 },
 "nbformat": 4,
 "nbformat_minor": 2
}
