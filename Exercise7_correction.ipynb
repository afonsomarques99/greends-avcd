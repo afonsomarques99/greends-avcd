{
 "cells": [
  {
   "attachments": {},
   "cell_type": "markdown",
   "metadata": {},
   "source": [
    "# Analysis and Visualization of Complex Agro-Environmental Data\n",
    "---\n",
    "### Exercise #7 - correction"
   ]
  },
  {
   "cell_type": "code",
   "execution_count": 10,
   "metadata": {},
   "outputs": [],
   "source": [
    "import numpy as np # for getting our distribution\n",
    "import pandas as pd # to handle data frames\n",
    "import matplotlib.pyplot as plt # for plotting\n",
    "import seaborn as sns # for plotting\n",
    "from scipy import stats # to compute statistics\n",
    "from scipy.cluster.hierarchy import dendrogram, linkage # to run the linkage method and create dendrograms\n",
    "from sklearn.cluster import AgglomerativeClustering # to perform agglomerative clustering"
   ]
  },
  {
   "attachments": {},
   "cell_type": "markdown",
   "metadata": {},
   "source": [
    "#### Exercise 7.1"
   ]
  },
  {
   "cell_type": "code",
   "execution_count": 11,
   "metadata": {},
   "outputs": [],
   "source": [
    "df = pd.read_csv('EFIplus_medit.zip',compression='zip', sep=\";\")\n",
    "df = df.dropna() # remove all rows with missing data"
   ]
  },
  {
   "cell_type": "code",
   "execution_count": null,
   "metadata": {},
   "outputs": [],
   "source": [
    "# Subset the df by selecting the environmental variables and the species richness columns\n",
    "dfsub = df[(df['Catchment_name']=='Douro') | (df['Catchment_name']=='Tejo')]\n",
    "df_env = dfsub[[\"Altitude\", \"Actual_river_slope\",\"Elevation_mean_catch\", \"prec_ann_catch\",\"temp_ann\",\"temp_jan\",\"temp_jul\"]]\n",
    "df_env"
   ]
  },
  {
   "cell_type": "code",
   "execution_count": null,
   "metadata": {},
   "outputs": [],
   "source": [
    "dendrogram_plot = dendrogram(linkage(df_env, method='ward'))\n",
    "plt.xlabel('objects')\n",
    "plt.ylabel('Distance')"
   ]
  },
  {
   "cell_type": "code",
   "execution_count": null,
   "metadata": {},
   "outputs": [],
   "source": [
    "# run linkage\n",
    "clust_link = linkage(df_env, \n",
    "                   metric = 'euclidean', # cityblock or Manhattan dissimilarity for the dissimilarity matrix\n",
    "                   method='average')\n",
    "\n",
    "# run dendrogram\n",
    "plt.figure(figsize=(10, 60))\n",
    "dendrogram_plot = dendrogram(clust_link, \n",
    "                            truncate_mode='lastp',  # show only the last p merged clusters - important when there are too many objects\n",
    "                            \n",
    "                            p=400,  # p merged clusters to show \n",
    "                            leaf_font_size=8.,\n",
    "                            show_contracted=True,  # to get a distribution impression in truncated branches\n",
    "                            orientation='right') # orientation 90º right\n",
    "plt.title('Average' )\n",
    "plt.xlabel('Distance')\n",
    "plt.ylabel('Objects')\n",
    "\n",
    "# set the number and cluster composition by considering a maximum distance of 8 by drawing a vertical line (x=8)\n",
    "plt.axvline(x=800, color='r', linestyle='--')"
   ]
  },
  {
   "cell_type": "code",
   "execution_count": null,
   "metadata": {},
   "outputs": [],
   "source": [
    "# run cluster analysis and define 3 clusters\n",
    "cluster3 = AgglomerativeClustering(n_clusters=3, \n",
    "                                    metric='euclidean',\n",
    "                                    linkage='average')\n",
    "cluster3.fit_predict(df_env)\n",
    "group3_labels = cluster3.labels_\n",
    "group3_labels # labels of each group of objects (each line in df)"
   ]
  },
  {
   "cell_type": "code",
   "execution_count": null,
   "metadata": {},
   "outputs": [],
   "source": [
    "# Let's now check if the clusters that were defined have anything to do with the river basins (Tejo and Douro)\n",
    "mydict2 = {'Catch_name': dfsub['Catchment_name'], 'label': group3_labels}\n",
    "mydf = pd.DataFrame(mydict2)\n",
    "\n",
    "cross_df = pd.crosstab(index=mydict2['Catch_name'], columns=mydict2['label'])\n",
    "print(cross_df)\n",
    "\n"
   ]
  },
  {
   "attachments": {},
   "cell_type": "markdown",
   "metadata": {},
   "source": [
    "#### Exercise 7.2"
   ]
  },
  {
   "cell_type": "code",
   "execution_count": null,
   "metadata": {},
   "outputs": [],
   "source": [
    "# Plot the heatmap + dendrogram\n",
    "sns.clustermap(df_env, col_cluster=False, row_cluster=True, method='average')"
   ]
  },
  {
   "cell_type": "code",
   "execution_count": 20,
   "metadata": {},
   "outputs": [],
   "source": [
    "# need to standardize the data (variables with different units)\n",
    "from sklearn.preprocessing import StandardScaler\n",
    "\n",
    "df_env_scaled = StandardScaler().fit_transform(df_env)"
   ]
  },
  {
   "cell_type": "code",
   "execution_count": null,
   "metadata": {},
   "outputs": [],
   "source": [
    "sns.clustermap(df_env_scaled, col_cluster=False, row_cluster=True, method='average')"
   ]
  },
  {
   "attachments": {},
   "cell_type": "markdown",
   "metadata": {},
   "source": [
    "Compare dendrograms obtained with non-scaled and with scaled variables:"
   ]
  },
  {
   "cell_type": "code",
   "execution_count": null,
   "metadata": {},
   "outputs": [],
   "source": [
    "# dendrogram with non-scaled variables\n",
    "dendrogram_plot = dendrogram(linkage(df_env, method='ward'))\n",
    "plt.xlabel('objects')\n",
    "plt.ylabel('Distance')"
   ]
  },
  {
   "cell_type": "code",
   "execution_count": null,
   "metadata": {},
   "outputs": [],
   "source": [
    "# dendrogram with scaled variables\n",
    "dendrogram_plot = dendrogram(linkage(df_env_scaled, method='ward'))\n",
    "plt.xlabel('objects')\n",
    "plt.ylabel('Distance')"
   ]
  }
 ],
 "metadata": {
  "kernelspec": {
   "display_name": "Python 3",
   "language": "python",
   "name": "python3"
  },
  "language_info": {
   "codemirror_mode": {
    "name": "ipython",
    "version": 3
   },
   "file_extension": ".py",
   "mimetype": "text/x-python",
   "name": "python",
   "nbconvert_exporter": "python",
   "pygments_lexer": "ipython3",
   "version": "3.11.2"
  },
  "orig_nbformat": 4
 },
 "nbformat": 4,
 "nbformat_minor": 2
}
