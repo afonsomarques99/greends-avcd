{
 "cells": [
  {
   "attachments": {},
   "cell_type": "markdown",
   "metadata": {},
   "source": [
    "### Exercise #4 - correction"
   ]
  },
  {
   "cell_type": "code",
   "execution_count": 1,
   "metadata": {},
   "outputs": [],
   "source": [
    "import pandas as pd\n",
    "import numpy as np\n",
    "import zipfile\n",
    "import seaborn as sns # For plotting\n",
    "import matplotlib.pyplot as plt # For showing plots\n",
    "from statsmodels.graphics.gofplots import qqplot"
   ]
  },
  {
   "attachments": {},
   "cell_type": "markdown",
   "metadata": {},
   "source": [
    "#### Exercise 4.1\n",
    "\n",
    "Take 1000 random samples with replacement of increasing sample sizes (e.g. 10, 50, 100, 150, 200, 250, 300, 500 and 1000 observations), compute the mean Temp_ann of each sample and use an appropriate visualization to show how many samples will we need to have a good estimate of the population mean (this is a corrected version of the last challenge of the previous exercise).\n"
   ]
  },
  {
   "cell_type": "code",
   "execution_count": 2,
   "metadata": {},
   "outputs": [
    {
     "ename": "NameError",
     "evalue": "name 'df' is not defined",
     "output_type": "error",
     "traceback": [
      "\u001b[1;31m---------------------------------------------------------------------------\u001b[0m",
      "\u001b[1;31mNameError\u001b[0m                                 Traceback (most recent call last)",
      "\u001b[1;32mc:\\Users\\alfor\\greends-avcd-2\\Exercise4_correction.ipynb Cell 4\u001b[0m in \u001b[0;36m5\n\u001b[0;32m      <a href='vscode-notebook-cell:/c%3A/Users/alfor/greends-avcd-2/Exercise4_correction.ipynb#W3sZmlsZQ%3D%3D?line=0'>1</a>\u001b[0m \u001b[39mimport\u001b[39;00m \u001b[39mrandom\u001b[39;00m\n\u001b[0;32m      <a href='vscode-notebook-cell:/c%3A/Users/alfor/greends-avcd-2/Exercise4_correction.ipynb#W3sZmlsZQ%3D%3D?line=2'>3</a>\u001b[0m num \u001b[39m=\u001b[39m [\u001b[39m10\u001b[39m, \u001b[39m50\u001b[39m, \u001b[39m100\u001b[39m, \u001b[39m150\u001b[39m, \u001b[39m200\u001b[39m, \u001b[39m250\u001b[39m, \u001b[39m300\u001b[39m, \u001b[39m500\u001b[39m, \u001b[39m1000\u001b[39m] \n\u001b[1;32m----> <a href='vscode-notebook-cell:/c%3A/Users/alfor/greends-avcd-2/Exercise4_correction.ipynb#W3sZmlsZQ%3D%3D?line=4'>5</a>\u001b[0m temp \u001b[39m=\u001b[39m df[\u001b[39m'\u001b[39m\u001b[39mtemp_ann\u001b[39m\u001b[39m'\u001b[39m]\n\u001b[0;32m      <a href='vscode-notebook-cell:/c%3A/Users/alfor/greends-avcd-2/Exercise4_correction.ipynb#W3sZmlsZQ%3D%3D?line=5'>6</a>\u001b[0m means \u001b[39m=\u001b[39m []\n\u001b[0;32m      <a href='vscode-notebook-cell:/c%3A/Users/alfor/greends-avcd-2/Exercise4_correction.ipynb#W3sZmlsZQ%3D%3D?line=7'>8</a>\u001b[0m \u001b[39mfor\u001b[39;00m i \u001b[39min\u001b[39;00m num:\n\u001b[0;32m      <a href='vscode-notebook-cell:/c%3A/Users/alfor/greends-avcd-2/Exercise4_correction.ipynb#W3sZmlsZQ%3D%3D?line=8'>9</a>\u001b[0m     \u001b[39m# Generating seed so that we can get same result every time the loop is run...\u001b[39;00m\n",
      "\u001b[1;31mNameError\u001b[0m: name 'df' is not defined"
     ]
    }
   ],
   "source": [
    "import random\n",
    "\n",
    "num = [10, 50, 100, 150, 200, 250, 300, 500, 1000] \n",
    "\n",
    "temp = df['temp_ann']\n",
    "means = []\n",
    "\n",
    "for i in num:\n",
    "    # Generating seed so that we can get same result every time the loop is run...\n",
    "    np.random.seed(24)\n",
    "    # a loop that takes a random sample with i observations from temp and computes the mean, ...\n",
    "    # ... and repeat the process 1000 times\n",
    "    x = [np.mean( # compute mean\n",
    "        temp.take( # from temp ...\n",
    "        np.random.randint(0, len(temp), i)) # ... take a random sample of i observations ...\n",
    "        ) for _ in range(1000)] # ... 1000 times.\n",
    "    means.append(x)\n",
    "\n",
    "print(means) # means is a list of 9 lists with 1000 observations (means) each.\n",
    "type(means)\n",
    "\n",
    "# Produce boxplots\n",
    "ax = sns.boxplot(data= means)\n",
    "ax.set_xticklabels(num) # change x-axis tick labels\n",
    "ax.set_xlabel('Number of observations')\n",
    "ax.set_ylabel('Mean Annual Temperature') \n",
    "plt.axhline(y=np.mean(df['temp_ann']), color='r', linestyle='-') # plot line of mean Temp_ann using all data"
   ]
  },
  {
   "cell_type": "code",
   "execution_count": null,
   "metadata": {},
   "outputs": [],
   "source": [
    "ax = sns.violinplot(data= means)\n",
    "ax.set_xticklabels(num) # change x-axis tick labels\n",
    "ax.set_xlabel('Number of observations')\n",
    "ax.set_ylabel('Mean Annual Temperature') \n",
    "plt.axhline(y=np.mean(df['temp_ann']), color='r', linestyle='-') # plot line of mean Temp_ann using all data"
   ]
  },
  {
   "cell_type": "code",
   "execution_count": null,
   "metadata": {},
   "outputs": [],
   "source": [
    "# convert means to a DataFrame\n",
    "\n",
    "meansdf = pd.DataFrame(means).transpose()\n",
    "meansdf.columns = num\n",
    "meanstack = pd.DataFrame(meansdf.stack(), columns=['Mean_Temp_ann'])\n",
    "meanstack.reset_index(inplace=True)\n",
    "meanstack = meanstack.rename(columns = {'level_1':'N_obs'})\n",
    "meanstack = meanstack.drop('level_0', axis=1)\n",
    "meanstack['N_obs'] = meanstack['N_obs'].astype(str) # change integer to string\n",
    "meanstack"
   ]
  },
  {
   "cell_type": "code",
   "execution_count": null,
   "metadata": {},
   "outputs": [],
   "source": [
    "meanstack.dtypes"
   ]
  },
  {
   "cell_type": "code",
   "execution_count": null,
   "metadata": {},
   "outputs": [],
   "source": [
    "ax = sns.stripplot(data= meanstack, x='N_obs', y='Mean_Temp_ann')"
   ]
  },
  {
   "cell_type": "code",
   "execution_count": null,
   "metadata": {},
   "outputs": [],
   "source": [
    "temp = df['temp_ann']\n",
    "means = []\n",
    "\n",
    "for i in range(10, 1050, 50):\n",
    "    # Generating seed so that we can get same result\n",
    "    # every time the loop is run...\n",
    "    x = [np.mean(\n",
    "        temp.take(\n",
    "        np.random.randint(0, len(temp), i))\n",
    "        ) for _ in range(1000)]\n",
    "    means.append(x)\n",
    "\n",
    "print(means) # means is a list of lists\n",
    "type(means)\n",
    "\n",
    "# Produce boxplots\n",
    "plt.xticks(rotation=90)\n",
    "ax = sns.boxplot(data= means)\n",
    "ax.set_xticklabels(range(0, 1050, 50))\n",
    "ax.set_xlabel('Number of observations')\n",
    "ax.set_ylabel('mean')\n",
    "plt.xticks(rotation=90)\n"
   ]
  },
  {
   "attachments": {},
   "cell_type": "markdown",
   "metadata": {},
   "source": [
    "#### Exercise 4.2\n",
    "\n",
    "Using an appropriate visualization, check the effect of Mean Annual Temperature (Temp_ann) on the presence of Salmo trutta fario (Brown Trout).\n",
    "\n",
    "Import and clean data"
   ]
  },
  {
   "cell_type": "code",
   "execution_count": null,
   "metadata": {},
   "outputs": [],
   "source": [
    "df = pd.read_csv('EFIplus_medit.zip',compression='zip', sep=\";\")"
   ]
  },
  {
   "cell_type": "code",
   "execution_count": null,
   "metadata": {},
   "outputs": [],
   "source": [
    "# clean up the dataset to remove unnecessary columns (eg. REG) \n",
    "df.drop(df.iloc[:,5:15], axis=1, inplace=True)\n",
    "\n",
    "# let's rename some columns so that they make sense\n",
    "df.rename(columns={'Sum of Run1_number_all':'Total_fish_individuals'}, inplace=True) # inplace=\"True\" means that df will be updated\n",
    "\n",
    "# for sake of consistency, let's also make all column labels of type string\n",
    "df.columns = list(map(str, df.columns))"
   ]
  },
  {
   "cell_type": "code",
   "execution_count": null,
   "metadata": {},
   "outputs": [],
   "source": [
    "df2 = df.dropna()"
   ]
  },
  {
   "attachments": {},
   "cell_type": "markdown",
   "metadata": {},
   "source": [
    "Some possible visualization settings"
   ]
  },
  {
   "cell_type": "code",
   "execution_count": null,
   "metadata": {},
   "outputs": [],
   "source": [
    "# Resize figure\n",
    "# sns.set(rc={'figure.figsize':(8,3)}) # will change the setting for the whole graphs when applied\n",
    "\n",
    "# Alternative\n",
    "# from matplotlib import rcParams\n",
    "# figure size in inches\n",
    "# rcParams['figure.figsize'] = 8,3\n",
    "\n",
    "# To restore settings run:\n",
    "# import matplotlib as mpl\n",
    "# mpl.rc_file_defaults()"
   ]
  },
  {
   "cell_type": "code",
   "execution_count": null,
   "metadata": {},
   "outputs": [],
   "source": [
    "# Resize figure\n",
    "sns.set(rc={'figure.figsize':(4,5)}) \n",
    "\n",
    "sns.boxplot(data=df, x='Salmo trutta fario', y='temp_ann',\n",
    "        notch=True,\n",
    "        palette=['lightgray', 'skyblue'],\n",
    "        width=0.4,\n",
    "        medianprops=dict(color=\"red\"),\n",
    "        ).set_xticklabels(['Absence', 'Presence'])\n",
    "plt.xlabel('Brown trout occurrence', fontdict={'size': 12, 'weight': 'bold'})\n",
    "plt.ylabel('Mean Annual Temperature', fontdict={'size': 12, 'weight': 'bold'})\n",
    "\n",
    "# restore settings\n",
    "import matplotlib as mpl\n",
    "mpl.rc_file_defaults()"
   ]
  },
  {
   "cell_type": "code",
   "execution_count": null,
   "metadata": {},
   "outputs": [],
   "source": [
    "sns.boxplot(data=df, y='Salmo trutta fario', x='temp_ann', orient='h',\n",
    "        notch=True,\n",
    "        palette=['lightgray', 'skyblue'],\n",
    "        width=0.4,\n",
    "        medianprops=dict(color=\"red\"),\n",
    "        )\n",
    "\n",
    "sns.stripplot(data=df, y='Salmo trutta fario', x='temp_ann', orient='h',\n",
    "    jitter=0.1, # the ammount of jitter (i.e. random point dispersion along the x-axis).\n",
    "    linewidth=0, # no line around the poits\n",
    "    color='#9e2a2b', # HEX color picked from here: https://coolors.co/palettes/trending - don't forget to start by \"#\"\n",
    "    alpha=.3,\n",
    "    s=3, # point size\n",
    "    )\n",
    "plt.xlabel('Mean Annual Temperature')"
   ]
  },
  {
   "cell_type": "code",
   "execution_count": null,
   "metadata": {},
   "outputs": [],
   "source": [
    "sns.histplot(data=df[df['Salmo trutta fario']==0], x='temp_ann', color='gray', alpha=0.5, edgecolor=None, label=\"Absence of Brown trout\")\n",
    "sns.histplot(data=df[df['Salmo trutta fario']==1], x='temp_ann', alpha=0.4, edgecolor=None, label=\"Presence of Brown trout\")\n",
    "plt.legend(frameon=False)\n",
    "plt.xlabel('Mean Annual Temperature')\n"
   ]
  },
  {
   "cell_type": "code",
   "execution_count": null,
   "metadata": {},
   "outputs": [],
   "source": [
    "sns.kdeplot(data=df[df['Salmo trutta fario']==0], x='temp_ann', color='gray', fill=True, label=\"Absence of Brown trout\")\n",
    "sns.kdeplot(data=df[df['Salmo trutta fario']==1], x='temp_ann', fill=True, label=\"Presence of Brown trout\")\n",
    "plt.legend(frameon=False, loc='upper left')\n",
    "plt.xlabel('Mean Annual Temperature')"
   ]
  },
  {
   "cell_type": "code",
   "execution_count": null,
   "metadata": {},
   "outputs": [],
   "source": [
    "sns.violinplot(data=df, x='Salmo trutta fario', y='temp_ann')\n",
    "plt.ylim(0, 20)"
   ]
  },
  {
   "cell_type": "code",
   "execution_count": null,
   "metadata": {},
   "outputs": [],
   "source": [
    "sns.scatterplot(data=df, x='Salmo trutta fario', y='temp_ann')\n",
    "plt.ylim(0, 20)"
   ]
  },
  {
   "cell_type": "code",
   "execution_count": null,
   "metadata": {},
   "outputs": [],
   "source": [
    "sns.histplot(df2['Actual_river_slope'])\n",
    "\n"
   ]
  },
  {
   "cell_type": "code",
   "execution_count": null,
   "metadata": {},
   "outputs": [],
   "source": [
    "from statsmodels.graphics.gofplots import qqplot\n",
    "\n",
    "\n",
    "qqplot(pd.Series(df2['Actual_river_slope']), line='s')\n",
    "plt.show()"
   ]
  },
  {
   "attachments": {},
   "cell_type": "markdown",
   "metadata": {},
   "source": [
    "#### Exercise 4.3\n",
    "Test, using both visualization and hypothesis testing methods, if the actual_river_slope is drawn from a normal distribution."
   ]
  },
  {
   "cell_type": "code",
   "execution_count": null,
   "metadata": {},
   "outputs": [],
   "source": [
    "# import function\n",
    "from scipy.stats import shapiro\n",
    "\n",
    "df2 = df.dropna() # drops rows when at least one element is a missing value\n",
    "df2.info()\n",
    "\n",
    "# normality test\n",
    "stat, p = shapiro(pd.Series(df2['Actual_river_slope']))\n",
    "print('Statistics=%.3f, p=%.3f' % (stat, p)) # print outputs\n",
    "# interpret. H0: 'the sample was drawn from a Gaussian distribution'.\n",
    "alpha = 0.05\n",
    "if p > alpha:\n",
    " print('Sample is not significantly different from Gaussian (fail to reject H0. Rejecting H0 has an error probability >0.05)')\n",
    "else:\n",
    " print('Sample is significantly different from Gaussian (reject H0 with an error probability <0.05)')"
   ]
  },
  {
   "attachments": {},
   "cell_type": "markdown",
   "metadata": {},
   "source": [
    "#### Exercise 4.4\n",
    "\n",
    "Take 100 samples of 2000 observations with replacement, compute the mean for each sample and plot the resulting histogram of means. Test if these 100 mean values are drawn from a normal distribution.\n"
   ]
  },
  {
   "cell_type": "code",
   "execution_count": null,
   "metadata": {},
   "outputs": [],
   "source": [
    "\n",
    "\n",
    "mean = []\n",
    "for i in range(0,100):\n",
    "    temp = df['Actual_river_slope']\n",
    "    sampler = np.random.randint(0, len(temp), 2000) # generate 2000 random integer numbers to be used as random indices\n",
    "    sample = temp.take(sampler) # take 2000 random observations from temp\n",
    "    mean.append(sample.mean())\n",
    "\n",
    "sns.histplot(mean)"
   ]
  },
  {
   "cell_type": "code",
   "execution_count": null,
   "metadata": {},
   "outputs": [],
   "source": [
    "qqplot(pd.Series(mean), line='s')\n",
    "plt.show()"
   ]
  },
  {
   "cell_type": "code",
   "execution_count": null,
   "metadata": {},
   "outputs": [],
   "source": [
    "# import function\n",
    "from scipy.stats import shapiro\n",
    "\n",
    "# normality test\n",
    "stat, p = shapiro(mean)\n",
    "print('Statistics=%.3f, p=%.3f' % (stat, p)) # print outputs\n",
    "# interpret. H0: 'the sample was drawn from a Gaussian distribution'.\n",
    "alpha = 0.05\n",
    "if p > alpha:\n",
    " print('Sample is not significantly different from Gaussian (fail to reject H0. Rejecting H0 has an error probability >0.05)')\n",
    "else:\n",
    " print('Sample is significantly different from Gaussian (reject H0 with an error probability <0.05)')"
   ]
  }
 ],
 "metadata": {
  "kernelspec": {
   "display_name": "Python 3",
   "language": "python",
   "name": "python3"
  },
  "language_info": {
   "codemirror_mode": {
    "name": "ipython",
    "version": 3
   },
   "file_extension": ".py",
   "mimetype": "text/x-python",
   "name": "python",
   "nbconvert_exporter": "python",
   "pygments_lexer": "ipython3",
   "version": "3.10.7"
  },
  "orig_nbformat": 4
 },
 "nbformat": 4,
 "nbformat_minor": 2
}
