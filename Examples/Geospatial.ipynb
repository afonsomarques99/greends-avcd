{
 "cells": [
  {
   "attachments": {},
   "cell_type": "markdown",
   "metadata": {},
   "source": [
    "# Analysis and Visualization of Complex Agro-Environmental Data\n",
    "---\n",
    "## Visualization of Geospatial Data \n",
    "\n"
   ]
  },
  {
   "attachments": {},
   "cell_type": "markdown",
   "metadata": {},
   "source": [
    "### 1. The `Geopandas` module\n",
    "\n",
    "The `Geopandas` introduces some GIS functionalities into `python`. It extends the datatypes used by pandas to allow spatial operations on geometric types. Geometric operations are performed by the `shapely` module. It further depends on the `fiona` module for file access and `matplotlib` for plotting.\n",
    "\n",
    "We will show how to import shapefiles and merge tables, using as an example a visualization of human population density in portuguese municipalities."
   ]
  },
  {
   "cell_type": "code",
   "execution_count": 323,
   "metadata": {},
   "outputs": [],
   "source": [
    "import numpy as np\n",
    "import pandas as pd\n",
    "import matplotlib.pyplot as plt\n",
    "import plotly.express as px\n",
    "\n",
    "%matplotlib inline"
   ]
  },
  {
   "attachments": {},
   "cell_type": "markdown",
   "metadata": {},
   "source": [
    "Importing shapefiles (you may need to install `geopandas` and `mapclassify`)"
   ]
  },
  {
   "cell_type": "code",
   "execution_count": null,
   "metadata": {},
   "outputs": [],
   "source": [
    "import geopandas as gpd\n",
    "# import geoplot as gplt # I WAS UNABLE TO INSTALL GEOPLOT (AND CARTOPY)!!!\n",
    "\n",
    "# Import shapefile of portuguese civil parishes ('freguesias')\n",
    "port_regions = gpd.read_file(\"Shapes/DGT/CAOP_2020.shp\")\n",
    "port_regions.head()"
   ]
  },
  {
   "attachments": {},
   "cell_type": "markdown",
   "metadata": {},
   "source": [
    "Plot map"
   ]
  },
  {
   "cell_type": "code",
   "execution_count": null,
   "metadata": {},
   "outputs": [],
   "source": [
    "port_regions.plot(figsize = (15,15), color=\"darkgreen\", edgecolor=\"black\")"
   ]
  },
  {
   "attachments": {},
   "cell_type": "markdown",
   "metadata": {},
   "source": [
    "Change colors"
   ]
  },
  {
   "cell_type": "code",
   "execution_count": null,
   "metadata": {},
   "outputs": [],
   "source": [
    "port_regions.plot(figsize = (15,15), color=\"darkgreen\", edgecolor=\"black\")"
   ]
  },
  {
   "attachments": {},
   "cell_type": "markdown",
   "metadata": {},
   "source": [
    "Import shapefile of portuguese municipalities (polygon vector layer)"
   ]
  },
  {
   "cell_type": "code",
   "execution_count": null,
   "metadata": {},
   "outputs": [],
   "source": [
    "port_munic = gpd.read_file(\"Shapes/DGT/Concelhos_dd.shp\") # change path accordingly!!\n",
    "port_munic.head()"
   ]
  },
  {
   "attachments": {},
   "cell_type": "markdown",
   "metadata": {},
   "source": [
    "Convert polygon vector layer to point vector layer (using the centroid)"
   ]
  },
  {
   "cell_type": "code",
   "execution_count": null,
   "metadata": {},
   "outputs": [],
   "source": [
    "port_munic_cent = port_munic.copy() # copy poly to new GeoDataFrame\n",
    "# change the geometry\n",
    "port_munic_cent.geometry = port_munic_cent['geometry'].centroid\n",
    "# same crs\n",
    "port_munic_cent.crs = port_munic.crs\n",
    "port_munic_cent.head()"
   ]
  },
  {
   "attachments": {},
   "cell_type": "markdown",
   "metadata": {},
   "source": [
    "Plot the map"
   ]
  },
  {
   "cell_type": "code",
   "execution_count": null,
   "metadata": {},
   "outputs": [],
   "source": [
    "port_munic.plot(figsize = (15,15))"
   ]
  },
  {
   "attachments": {},
   "cell_type": "markdown",
   "metadata": {},
   "source": [
    "Plot map and centroids"
   ]
  },
  {
   "cell_type": "code",
   "execution_count": null,
   "metadata": {},
   "outputs": [],
   "source": [
    "ax = port_munic.plot(figsize = (15,15))\n",
    "port_munic_cent.plot(color=\"white\", alpha = 0.7, ax=ax)"
   ]
  },
  {
   "attachments": {},
   "cell_type": "markdown",
   "metadata": {},
   "source": [
    "Import csv table with population density per municipality in Portugal"
   ]
  },
  {
   "cell_type": "code",
   "execution_count": null,
   "metadata": {},
   "outputs": [],
   "source": [
    "dens_pop = pd.read_csv(\"Shapes/Dens_pop_municipal.csv\", sep=\";\", encoding=\"CP1252\")\n",
    "dens_pop.head()"
   ]
  },
  {
   "attachments": {},
   "cell_type": "markdown",
   "metadata": {},
   "source": [
    "Join the table with the imported shapefiles (polygons and centroids)"
   ]
  },
  {
   "cell_type": "code",
   "execution_count": null,
   "metadata": {},
   "outputs": [],
   "source": [
    "port_munic_denspop = port_munic.merge(dens_pop, left_on=\"Concelho\", right_on=\"Nome\")\n",
    "port_munic_denspop_cent = port_munic_cent.merge(dens_pop, left_on=\"Concelho\", right_on=\"Nome\")\n",
    "port_munic_denspop.head()"
   ]
  },
  {
   "attachments": {},
   "cell_type": "markdown",
   "metadata": {},
   "source": [
    "Create a cloropleth map"
   ]
  },
  {
   "cell_type": "code",
   "execution_count": null,
   "metadata": {},
   "outputs": [],
   "source": [
    "port_munic_denspop.plot(figsize = (10,10), \n",
    "                        column=\"2021\", \n",
    "                        legend=True\n",
    "                        )"
   ]
  },
  {
   "cell_type": "code",
   "execution_count": null,
   "metadata": {},
   "outputs": [],
   "source": [
    "# Same, but classified using quantiles\n",
    "port_munic_denspop.plot(figsize = (10,10), \n",
    "                        column=\"2021\",\n",
    "                        legend=True,\n",
    "                        scheme='quantiles' # use quantiles instead you need to install mapclassify (the type of legend also changes)\n",
    "                        )"
   ]
  },
  {
   "cell_type": "code",
   "execution_count": null,
   "metadata": {},
   "outputs": [],
   "source": [
    "# Same, with another color palette\n",
    "port_munic_denspop.plot(figsize = (10,10), \n",
    "                        column=\"2021\", \n",
    "                        legend=True, cmap='OrRd', \n",
    "                        scheme='quantiles'\n",
    "                        )"
   ]
  },
  {
   "attachments": {},
   "cell_type": "markdown",
   "metadata": {},
   "source": [
    "Create a scatter plot map"
   ]
  },
  {
   "cell_type": "code",
   "execution_count": null,
   "metadata": {},
   "outputs": [],
   "source": [
    "ax = port_munic.plot(figsize = (15,15))\n",
    "port_munic_denspop_cent.plot(column=\"2021\", \n",
    "                    legend=True,\n",
    "                    scheme='quantiles',\n",
    "                    ax=ax\n",
    "                    )"
   ]
  },
  {
   "attachments": {},
   "cell_type": "markdown",
   "metadata": {},
   "source": [
    "Create a bubble plot map"
   ]
  },
  {
   "cell_type": "code",
   "execution_count": null,
   "metadata": {},
   "outputs": [],
   "source": [
    "ax = port_munic.plot(figsize = (15,15))\n",
    "port_munic_denspop_cent.plot(markersize=\"2021\", \n",
    "                    color=\"pink\",\n",
    "                    alpha=0.4,\n",
    "                    legend=True, # does not work\n",
    "                    scheme='quantiles', # does not work\n",
    "                    ax=ax\n",
    "                    )"
   ]
  },
  {
   "attachments": {},
   "cell_type": "markdown",
   "metadata": {},
   "source": [
    "### 2. The `Folium` module\n",
    "\n",
    "`Folium` makes it easy to visualize data that has been manipulated in Python on an interactive `leaflet` map. It enables both the binding of data to a map for choropleth visualizations as well as passing rich vector/raster/HTML visualizations as markers on the map.\n",
    "\n",
    "The library has a number of built-in tilesets from OpenStreetMap, Mapbox, and Stamen, and supports custom tilesets with Mapbox or Cloudmade API keys. folium supports both Image, Video, GeoJSON and TopoJSON overlays.\n",
    "\n",
    "A useful feature of Folium is that it provides easy functionality to export an interactive map to HTML, making it a useful tool in web development."
   ]
  },
  {
   "cell_type": "code",
   "execution_count": null,
   "metadata": {},
   "outputs": [],
   "source": [
    "import folium"
   ]
  },
  {
   "attachments": {},
   "cell_type": "markdown",
   "metadata": {},
   "source": [
    "We first need to add lat and long to the 'port_munic_denspop_cent' attribute table"
   ]
  },
  {
   "cell_type": "code",
   "execution_count": null,
   "metadata": {},
   "outputs": [],
   "source": [
    "# Add lat and long to the 'port_munic_denspop_cent' attribute table\n",
    "port_munic_denspop_cent[\"Long\"] = port_munic_denspop_cent['geometry'].x\n",
    "port_munic_denspop_cent[\"Lat\"] = port_munic_denspop_cent['geometry'].y\n",
    "port_munic_denspop_cent.head()"
   ]
  },
  {
   "attachments": {},
   "cell_type": "markdown",
   "metadata": {},
   "source": [
    "Create a map"
   ]
  },
  {
   "cell_type": "code",
   "execution_count": null,
   "metadata": {},
   "outputs": [],
   "source": [
    "m = folium.Map(location = [40, -9],\n",
    "               zoom_start = 6)\n",
    "m"
   ]
  },
  {
   "attachments": {},
   "cell_type": "markdown",
   "metadata": {},
   "source": [
    "Save to `html`"
   ]
  },
  {
   "cell_type": "code",
   "execution_count": 126,
   "metadata": {},
   "outputs": [],
   "source": [
    "m.save('my_map.html')"
   ]
  },
  {
   "attachments": {},
   "cell_type": "markdown",
   "metadata": {},
   "source": [
    "Create an interactive bubble plot map"
   ]
  },
  {
   "cell_type": "code",
   "execution_count": null,
   "metadata": {},
   "outputs": [],
   "source": [
    "import math\n",
    "\n",
    "m=folium.Map(\n",
    "    location=[port_munic_denspop_cent['Lat'].mean(), port_munic_denspop_cent['Long'].mean()],\n",
    "    zoom_start=8)\n",
    "\n",
    "def get_radius(pop):\n",
    "  return math.log(pop)*2\n",
    "\n",
    "port_munic_denspop_cent.apply(\n",
    "    lambda row: folium.CircleMarker(\n",
    "        location=[row['Lat'], row['Long']],\n",
    "        radius=get_radius(row['2021']),\n",
    "        popup=row['Concelho'], # information that you get by clicking on top of the bubble\n",
    "        tooltip='<h5>Click here for more info</h5>',\n",
    "        stroke=True,\n",
    "        weight=1,\n",
    "        color=\"#3186cc\",\n",
    "        fill=True,\n",
    "        fill_color=\"#3186cc\",\n",
    "        opacity=0.9,\n",
    "        fill_opacity=0.3,\n",
    "        ).add_to(m),\n",
    "    axis=1)\n",
    "m"
   ]
  },
  {
   "attachments": {},
   "cell_type": "markdown",
   "metadata": {},
   "source": [
    "Create a cloropleth map"
   ]
  },
  {
   "cell_type": "code",
   "execution_count": null,
   "metadata": {},
   "outputs": [],
   "source": [
    "m = folium.Map(location = [40, -9],\n",
    "               zoom_start = 6)\n",
    "\n",
    "folium.Choropleth(\n",
    "   \n",
    "      # geographical locations\n",
    "    geo_data = port_munic,                    \n",
    "    name = \"choropleth\",\n",
    "   \n",
    "      # the data set we are using\n",
    "    data = dens_pop,                       \n",
    "    columns = [\"Nome\", \"2021\"],    \n",
    "   \n",
    "      # YlGn refers to yellow and green\n",
    "    fill_color = \"YlGn\",                     \n",
    "    fill_opacity = 0.7,\n",
    "        key_on = \"feature.id\",\n",
    "    legend_name = \"Unemployment Rate (%)\",\n",
    ").add_to(m)                                \n",
    " \n",
    "m"
   ]
  },
  {
   "attachments": {},
   "cell_type": "markdown",
   "metadata": {},
   "source": [
    "### 3. Interactive geospatial visualization with `plotly`"
   ]
  },
  {
   "attachments": {},
   "cell_type": "markdown",
   "metadata": {},
   "source": [
    "`Plotly` also provides interactive geospatial visualization functionalities. It is especially usefull for generating a variety of geographical plots that are easy to built, debug and customize.\n",
    "\n",
    "We will use `plotly` to demonstrate generating different classes of geographcial plots with several publicly avaolable datasets from a variety of contexts.\n",
    "\n",
    "Let's start by a quick interactive map using `plotly express` (https://plotly.com/python/scatter-plots-on-maps/)"
   ]
  },
  {
   "cell_type": "code",
   "execution_count": null,
   "metadata": {},
   "outputs": [],
   "source": [
    "df = px.data.gapminder().query(\"year == 2007\")\n",
    "fig = px.scatter_geo(df, locations=\"iso_alpha\",\n",
    "                     size=\"pop\", # size of markers, \"pop\" is one of the columns of gapminder\n",
    "                     )\n",
    "fig.show()"
   ]
  },
  {
   "attachments": {},
   "cell_type": "markdown",
   "metadata": {},
   "source": [
    "#### 3.1 Create cloropleth maps (world renewable production and comsuption)"
   ]
  },
  {
   "cell_type": "code",
   "execution_count": 334,
   "metadata": {},
   "outputs": [],
   "source": [
    "import pandas as pd\n",
    "import plotly.express as px\n",
    "import seaborn as sns\n",
    "import matplotlib.pyplot as plt"
   ]
  },
  {
   "attachments": {},
   "cell_type": "markdown",
   "metadata": {},
   "source": [
    "Import the renewable energy production dataset"
   ]
  },
  {
   "cell_type": "code",
   "execution_count": null,
   "metadata": {},
   "outputs": [],
   "source": [
    "renewable_energy_prod_url = \"https://raw.githubusercontent.com/TrainingByPackt/Interactive-Data-Visualization-with-Python/master/datasets/share-of-electricity-production-from-renewable-sources.csv\"\n",
    "renewable_energy_prod_df = pd.read_csv(renewable_energy_prod_url)\n",
    "renewable_energy_prod_df.head()"
   ]
  },
  {
   "cell_type": "code",
   "execution_count": null,
   "metadata": {},
   "outputs": [],
   "source": [
    "# Sort the production DataFrame based on the feature 'Year'.\n",
    "renewable_energy_prod_df.sort_values(by=['Year'],inplace=True)\n",
    "renewable_energy_prod_df.head()"
   ]
  },
  {
   "cell_type": "code",
   "execution_count": 270,
   "metadata": {},
   "outputs": [],
   "source": [
    "# Generate a choropleth map using the plotly express module animated based on 'Year'.\n",
    "\n",
    "renewable_energy_prod = renewable_energy_prod_df.query('Year<2017 and Year>2007')\n",
    "fig = px.choropleth(renewable_energy_prod_df, locations=\"Code\",\n",
    "                    color=\"Renewable electricity (% electricity production)\",\n",
    "                    hover_name=\"Country\", \n",
    "                    animation_frame=\"Year\",\n",
    "                    color_continuous_scale='Greens')"
   ]
  },
  {
   "cell_type": "code",
   "execution_count": null,
   "metadata": {},
   "outputs": [],
   "source": [
    "#Update layout to include suitable title text and projection style and display figure.\n",
    "\n",
    "fig.update_layout(\n",
    "    # add a title text for the plot\n",
    "    title_text = 'Renewable energy production across the world (% of electricity production)',\n",
    "    # set projection style for the plot\n",
    "    geo = dict(projection={'type':'natural earth'}) # by default, projection type is set to 'equirectangular'\n",
    ")\n",
    "\n",
    "fig.show()"
   ]
  },
  {
   "attachments": {},
   "cell_type": "markdown",
   "metadata": {},
   "source": [
    "Now let's import the renewable energy consumption dataset"
   ]
  },
  {
   "cell_type": "code",
   "execution_count": null,
   "metadata": {},
   "outputs": [],
   "source": [
    "renewable_energy_cons_url = \"https://raw.githubusercontent.com/TrainingByPackt/Interactive-Data-Visualization-with-Python/master/datasets/renewable-energy-consumption-by-country.csv\"\n",
    "renewable_energy_cons_df = pd.read_csv(renewable_energy_cons_url)\n",
    "renewable_energy_cons_df.head()"
   ]
  },
  {
   "cell_type": "code",
   "execution_count": null,
   "metadata": {},
   "outputs": [],
   "source": [
    "#Convert the DataFrame to desired format.\n",
    "#renewable_energy_long_df = pd.wide_to_long(renewable_energy_df, stubnames='Consumption', i=['Country', 'Code','Year'], j='Energy_Source')\n",
    "#renewable_energy_long_df.head()\n",
    "renewable_energy_cons_df = pd.melt(renewable_energy_cons_df, \\\n",
    "                                   id_vars=['Country', 'Code','Year'], \\\n",
    "                                   var_name=\"Energy Source\", \\\n",
    "                                   value_name=\"Consumption (terrawatt-hours)\")\n",
    "renewable_energy_cons_df.head()"
   ]
  },
  {
   "cell_type": "code",
   "execution_count": null,
   "metadata": {},
   "outputs": [],
   "source": [
    "#Sort the consumption DataFrame based on the Year feature.\n",
    "\n",
    "renewable_energy_cons_df.sort_values(by=['Year'], inplace=True)\n",
    "renewable_energy_cons_df.head()"
   ]
  },
  {
   "cell_type": "code",
   "execution_count": 274,
   "metadata": {},
   "outputs": [],
   "source": [
    "#Generate a choropleth map for renewable energy consumption using the plotly express module animated based on 'Year'.\n",
    "\n",
    "import plotly.express as px\n",
    "\n",
    "renewable_energy_total_cons = renewable_energy_cons_df[renewable_energy_cons_df['Energy Source']=='Total'].query('Year<2017 and Year>2007')\n",
    "fig = px.choropleth(renewable_energy_total_cons, locations=\"Code\",\n",
    "                    color=\"Consumption (terrawatt-hours)\",\n",
    "                    hover_name=\"Country\", \n",
    "                    animation_frame=\"Year\",\n",
    "                    color_continuous_scale='Blues')"
   ]
  },
  {
   "cell_type": "code",
   "execution_count": null,
   "metadata": {},
   "outputs": [],
   "source": [
    "#Update layout of the consuption plot to include suitable title text and projection style.\n",
    "\n",
    "fig.update_layout(\n",
    "    # add a title text for the plot\n",
    "    title_text = 'Renewable energy consumption across the world (terrawatt-hours)',\n",
    "    # set projection style for the plot\n",
    "    geo = dict(projection={'type':'natural earth'}) # by default, projection type is set to 'equirectangular'\n",
    ")\n",
    "\n",
    "fig.show()"
   ]
  },
  {
   "attachments": {},
   "cell_type": "markdown",
   "metadata": {},
   "source": [
    "#### 3.2 Add animation into a cloropleth map\n",
    "\n",
    "The next example uses the worldwide use of the internet"
   ]
  },
  {
   "cell_type": "code",
   "execution_count": null,
   "metadata": {},
   "outputs": [],
   "source": [
    "#Read the data from the .csv file:\n",
    "internet_usage_url = \"https://raw.githubusercontent.com/TrainingByPackt/Interactive-Data-Visualization-with-Python/master/datasets/share-of-individuals-using-the-internet.csv\"\n",
    "internet_usage_df = pd.read_csv(internet_usage_url)\n",
    "internet_usage_df.head()"
   ]
  },
  {
   "cell_type": "code",
   "execution_count": 304,
   "metadata": {},
   "outputs": [],
   "source": [
    "#Subset the data to one specific year since the DataFrame contains records from multiple years:\n",
    "internet_usage_2016 = internet_usage_df.query(\"Year==2016\")"
   ]
  },
  {
   "cell_type": "code",
   "execution_count": null,
   "metadata": {},
   "outputs": [],
   "source": [
    "#Generate a world-wide choropleth map using plotly’s choropleth function:\n",
    "import plotly.express as px\n",
    "\n",
    "fig = px.choropleth(internet_usage_2016,\n",
    "                    locations=\"Code\", # colunm containing ISO 3166 country codes\n",
    "                    color=\"Individuals using the Internet (% of population)\", # column by which to color-code\n",
    "                    hover_name=\"Country\", # column to display in hover information\n",
    "                    color_continuous_scale=px.colors.sequential.Plasma)\n",
    "\n",
    "fig.show()"
   ]
  },
  {
   "cell_type": "code",
   "execution_count": null,
   "metadata": {},
   "outputs": [],
   "source": [
    "internet_usage_2016 = internet_usage_df.query(\"Year==2016\")\n",
    "\n",
    "#Add title text to the choropleth map\n",
    "import plotly.express as px\n",
    "fig = px.choropleth(internet_usage_2016,\n",
    "                    locations=\"Code\",\n",
    "                    color=\"Individuals using the Internet (% of population)\", # column by which to color-code\n",
    "                    hover_name=\"Country\", # column to display in hover information                    color_continuous_scale=px.colors.sequential.Plasma)\n",
    "                   )\n",
    "fig.update_layout(\n",
    "    # add a title text for the plot\n",
    "    title_text = 'Internet usage across the world (% population) - 2016'\n",
    ")\n",
    "\n",
    "fig.show()"
   ]
  },
  {
   "cell_type": "code",
   "execution_count": null,
   "metadata": {},
   "outputs": [],
   "source": [
    "#Set geo_scope to Europe in the update_layout function:\n",
    "import plotly.express as px\n",
    "fig = px.choropleth(internet_usage_2016,\n",
    "                    locations=\"Code\",\n",
    "                    color=\"Individuals using the Internet (% of population)\", # column by which to color-code\n",
    "                    hover_name=\"Country\", # column to display in hover information\n",
    "                    color_continuous_scale=px.colors.sequential.Plasma)\n",
    "\n",
    "fig.update_layout(\n",
    "    # add a title text for the plot\n",
    "    title_text = 'Internet usage across the European Continent (% population) - 2016',\n",
    "    geo_scope = 'europe' # can be set to north america | south america | africa | asia | europe | usa\n",
    ")\n",
    "\n",
    "fig.show()"
   ]
  },
  {
   "cell_type": "code",
   "execution_count": null,
   "metadata": {},
   "outputs": [],
   "source": [
    "#Set the projection type to natural earth:\n",
    "import plotly.express as px\n",
    "fig = px.choropleth(internet_usage_2016,\n",
    "                    locations=\"Code\",\n",
    "                    color=\"Individuals using the Internet (% of population)\", # column by which to color-code\n",
    "                    hover_name=\"Country\", # column to display in hover information\n",
    "                    color_continuous_scale=px.colors.sequential.Plasma)\n",
    "\n",
    "fig.update_layout(\n",
    "    # add a title text for the plot\n",
    "    title_text = 'Internet usage across the world (% population) - 2016',\n",
    "    # set projection style for the plot\n",
    "    geo = dict(projection={'type':'natural earth'}) # by default, projection type is set to 'equirectangular'\n",
    ")\n",
    "\n",
    "fig.show()"
   ]
  },
  {
   "cell_type": "code",
   "execution_count": null,
   "metadata": {},
   "outputs": [],
   "source": [
    "#Add animation to year column using animation_frame=year:\n",
    "import plotly.express as px\n",
    "fig = px.choropleth(internet_usage_df, locations=\"Code\",\n",
    "                    color=\"Individuals using the Internet (% of population)\", # lifeExp is a column of gapminder\n",
    "                    hover_name=\"Country\", # column to add to hover information\n",
    "                    animation_frame=\"Year\", # column on which to animate\n",
    "                    color_continuous_scale=px.colors.sequential.Plasma)\n",
    "                    \n",
    "fig.update_layout(\n",
    "    # add a title text for the plot\n",
    "    title_text = 'Internet usage across the world (% population)',\n",
    "    # set projection style for the plot\n",
    "    geo = dict(projection={'type':'natural earth'}) # by default, projection type is set to 'equirectangular'\n",
    ")\n",
    "\n",
    "fig.show()"
   ]
  },
  {
   "cell_type": "code",
   "execution_count": null,
   "metadata": {},
   "outputs": [],
   "source": [
    "#Sort the dataset by Year \n",
    "internet_usage_df.sort_values(by=[\"Year\"],inplace=True)\n",
    "internet_usage_df.head()"
   ]
  },
  {
   "cell_type": "code",
   "execution_count": null,
   "metadata": {},
   "outputs": [],
   "source": [
    "#Let’s generate the animated plot again now that the sorting is done\n",
    "\n",
    "fig = px.choropleth(internet_usage_df, locations=\"Code\",\n",
    "                    color=\"Individuals using the Internet (% of population)\", # lifeExp is a column of gapminder\n",
    "                    hover_name=\"Country\", # column to add to hover information\n",
    "                    animation_frame=\"Year\", # column on which to animate\n",
    "                    color_continuous_scale=px.colors.sequential.Plasma)\n",
    "                    \n",
    "fig.update_layout(\n",
    "    # add a title text for the plot\n",
    "    title_text = 'Internet usage across the world (% population)',\n",
    "    # set projection style for the plot\n",
    "    geo = dict(projection={'type':'natural earth'}) # by default, projection type is set to 'equirectangular'\n",
    ")\n",
    "\n",
    "fig.show()"
   ]
  },
  {
   "attachments": {},
   "cell_type": "markdown",
   "metadata": {},
   "source": [
    "### 3.3 Create bubble plots in a map"
   ]
  },
  {
   "cell_type": "code",
   "execution_count": null,
   "metadata": {},
   "outputs": [],
   "source": [
    "internet_users_url = \"https://raw.githubusercontent.com/TrainingByPackt/Interactive-Data-Visualization-with-Python/master/datasets/number-of-internet-users-by-country.csv\"\n",
    "internet_users_df = pd.read_csv(internet_users_url)\n",
    "internet_users_df.head()"
   ]
  },
  {
   "cell_type": "code",
   "execution_count": null,
   "metadata": {},
   "outputs": [],
   "source": [
    "#Learning from our previous experience, Let’s sort the DataFrame by the Year feature.\n",
    "internet_users_df.sort_values(by=['Year'],inplace=True)\n",
    "internet_users_df.head()"
   ]
  },
  {
   "cell_type": "code",
   "execution_count": null,
   "metadata": {},
   "outputs": [],
   "source": [
    "#Let's first plot the number of users using internet across the world in 2016.\n",
    "\n",
    "import plotly.express as px\n",
    "\n",
    "fig = px.scatter_geo(internet_users_df.query(\"Year==2016\"), \n",
    "                    locations=\"Code\", # name of column indicating country-codes\n",
    "                    size=\"Number of internet users (users)\", # name of column by which to size the bubble\n",
    "                    hover_name=\"Country\", # name of column to be displayed while hovering over the map\n",
    "                    size_max=80, # parameter to scale all bubble sizes\n",
    "                    color_continuous_scale=px.colors.sequential.Plasma)\n",
    "                    \n",
    "fig.update_layout(\n",
    "    # add a title text for the plot\n",
    "    title_text = 'Internet users across the world - 2016',\n",
    "    # set projection style for the plot\n",
    "    geo = dict(projection={'type':'natural earth'}) # by default, projection type is set to 'equirectangular'\n",
    ")\n",
    "\n",
    "fig.show()"
   ]
  },
  {
   "cell_type": "code",
   "execution_count": null,
   "metadata": {},
   "outputs": [],
   "source": [
    "#Now, Let’s animate the bubble plot to show increase in number of internet users across the years, by using the animation_frame parameter.\n",
    "import plotly.express as px\n",
    "\n",
    "fig = px.scatter_geo(internet_users_df, \n",
    "                    locations=\"Code\", # name of column indicating country-codes\n",
    "                    size=\"Number of internet users (users)\", # name of column by which to size the bubble\n",
    "                    hover_name=\"Country\", # name of column to be displayed while hovering over the map\n",
    "                    size_max=80, # parameter to scale all bubble size\n",
    "                    animation_frame=\"Year\",\n",
    "                    )\n",
    "                    \n",
    "fig.update_layout(\n",
    "    # add a title text for the plot\n",
    "    title_text = 'Internet users across the world',\n",
    "    # set projection style for the plot\n",
    "    geo = dict(projection={'type':'natural earth'}) # by default, projection type is set to 'equirectangular'\n",
    ")\n",
    "\n",
    "fig.show()"
   ]
  },
  {
   "attachments": {},
   "cell_type": "markdown",
   "metadata": {},
   "source": [
    "### 3.4 Create a line flow map\n",
    "\n",
    "In the next example we will show how to plot lines in a map with `plotly` using flight connections in the USA.\n",
    "\n",
    "Import airport locations"
   ]
  },
  {
   "cell_type": "code",
   "execution_count": null,
   "metadata": {},
   "outputs": [],
   "source": [
    "us_airports_url = \"https://raw.githubusercontent.com/TrainingByPackt/Interactive-Data-Visualization-with-Python/master/datasets/airports.csv\"\n",
    "us_airports_df = pd.read_csv(us_airports_url)\n",
    "us_airports_df.head()"
   ]
  },
  {
   "attachments": {},
   "cell_type": "markdown",
   "metadata": {},
   "source": [
    "Scatter plot on a map"
   ]
  },
  {
   "cell_type": "code",
   "execution_count": null,
   "metadata": {},
   "outputs": [],
   "source": [
    "#We can generate a scatter plot on the US map to indicate the locations of all airports in our dataset, using the graph_objects module.\n",
    "\n",
    "import plotly.graph_objects as go\n",
    "\n",
    "fig = go.Figure()\n",
    "\n",
    "fig.add_trace(go.Scattergeo(\n",
    "    locationmode = 'USA-states',\n",
    "    lon = us_airports_df['LONGITUDE'],\n",
    "    lat = us_airports_df['LATITUDE'],\n",
    "    hoverinfo = 'text',\n",
    "    text = us_airports_df['AIRPORT'],\n",
    "    mode = 'markers',\n",
    "    marker = dict(size = 5,color = 'black')))\n",
    "\n",
    "fig.update_layout(\n",
    "    title_text = 'Airports in USA',\n",
    "    showlegend = False,\n",
    "    geo = go.layout.Geo(\n",
    "        scope = 'usa'\n",
    "    ),\n",
    ")\n",
    "\n",
    "fig.show()"
   ]
  },
  {
   "attachments": {},
   "cell_type": "markdown",
   "metadata": {},
   "source": [
    "Flight records"
   ]
  },
  {
   "cell_type": "code",
   "execution_count": null,
   "metadata": {},
   "outputs": [],
   "source": [
    "#Now Let’s load the file containing flight records.\n",
    "new_year_2015_flights_url = \"https://raw.githubusercontent.com/TrainingByPackt/Interactive-Data-Visualization-with-Python/master/datasets/new_year_day_2015_delayed_flights.csv\"\n",
    "new_year_2015_flights_df = pd.read_csv(new_year_2015_flights_url)\n",
    "new_year_2015_flights_df.head()"
   ]
  },
  {
   "attachments": {},
   "cell_type": "markdown",
   "metadata": {},
   "source": [
    "Origin dataset"
   ]
  },
  {
   "cell_type": "code",
   "execution_count": null,
   "metadata": {},
   "outputs": [],
   "source": [
    "#Along with the source and destination airports for each flight, we need to have the longitude and latitude \n",
    "# information of the corresponding airports. To do this, we need to merge the DataFrames containing airport and \n",
    "# flight data. Let’s first merge to obtain longitude and latitudes for the origin airports of all flights.\n",
    "# merge the DataFrames on origin airport codes\n",
    "new_year_2015_flights_df = new_year_2015_flights_df.merge(us_airports_df[['IATA_CODE','LATITUDE','LONGITUDE']], \\\n",
    "                                                          left_on='ORIGIN_AIRPORT', \\\n",
    "                                                          right_on='IATA_CODE', \\\n",
    "                                                          how='inner')\n",
    "\n",
    "# drop the duplicate column containing airport code\n",
    "new_year_2015_flights_df.drop(columns=['IATA_CODE'],inplace=True)\n",
    "\n",
    "# rename the latitude and longitude columns to reflect that they correspond to the origin airport\n",
    "new_year_2015_flights_df.rename(columns={\"LATITUDE\":\"ORIGIN_AIRPORT_LATITUDE\", \"LONGITUDE\":\"ORIGIN_AIRPORT_LONGITUDE\"},inplace=True)\n",
    "new_year_2015_flights_df.head()"
   ]
  },
  {
   "attachments": {},
   "cell_type": "markdown",
   "metadata": {},
   "source": [
    "Destination dataset"
   ]
  },
  {
   "cell_type": "code",
   "execution_count": null,
   "metadata": {},
   "outputs": [],
   "source": [
    "#Now, we will perform a similar merging to get the latitude, longitude data for destination airports of all flights.\n",
    "# merge the DataFrames on desintation airport codes\n",
    "new_year_2015_flights_df = new_year_2015_flights_df.merge(us_airports_df[['IATA_CODE','LATITUDE','LONGITUDE']], \\\n",
    "                                                          left_on='DESTINATION_AIRPORT', \\\n",
    "                                                          right_on='IATA_CODE', \\\n",
    "                                                          how='inner')\n",
    "\n",
    "# drop the duplicate column containing airport code\n",
    "new_year_2015_flights_df.drop(columns=['IATA_CODE'],inplace=True)\n",
    "\n",
    "# rename the latitude and longitude columns to reflect that they correspond to the destination airport\n",
    "new_year_2015_flights_df.rename(columns={'LATITUDE':'DESTINATION_AIRPORT_LATITUDE', 'LONGITUDE':'DESTINATION_AIRPORT_LONGITUDE'},inplace=True)\n",
    "new_year_2015_flights_df.head()"
   ]
  },
  {
   "attachments": {},
   "cell_type": "markdown",
   "metadata": {},
   "source": [
    "Create line flow map"
   ]
  },
  {
   "cell_type": "code",
   "execution_count": null,
   "metadata": {},
   "outputs": [],
   "source": [
    "#Now, we will draw our line plots -- for each flight, we need to draw a line between the origin and destination airport. This is done by providing the latitude and longitude values of destination and origin airports to the lonand lat parameters of Scattergeo and setting mode to 'lines' instead of 'markers'. Also, notice that we are using another add_trace function here. It may take a few minutes for the plot to show the flight routes.\n",
    "\n",
    "for i in range(len(new_year_2015_flights_df)):\n",
    "    fig.add_trace(\n",
    "        go.Scattergeo(\n",
    "            locationmode = 'USA-states',\n",
    "            lon = [new_year_2015_flights_df['ORIGIN_AIRPORT_LONGITUDE'][i], new_year_2015_flights_df['DESTINATION_AIRPORT_LONGITUDE'][i]],\n",
    "            lat = [new_year_2015_flights_df['ORIGIN_AIRPORT_LATITUDE'][i], new_year_2015_flights_df['DESTINATION_AIRPORT_LATITUDE'][i]],\n",
    "            mode = 'lines',\n",
    "            line = dict(width = 1,color = 'red')\n",
    "        )\n",
    "    )\n",
    "    \n",
    "fig.update_layout(\n",
    "    title_text = 'Delayed flight on Jan 1, 2015 in USA',\n",
    "    showlegend = False,\n",
    "    geo = go.layout.Geo(\n",
    "        scope = 'usa'\n",
    "    ),\n",
    ")\n",
    "  \n",
    "fig.show()"
   ]
  },
  {
   "attachments": {},
   "cell_type": "markdown",
   "metadata": {},
   "source": [
    "## References\n",
    "\n",
    "Folium. https://python-visualization.github.io/folium/\n",
    "\n",
    "Geospatial Data in Python - Interactive Visualization. https://www.codementor.io/@abdelfettahbesbes/geospatial-data-in-python-interactive-visualization-1oti7dtr2v\n",
    "\n",
    "Interactive Data Visualization with Python. https://github.com/TrainingByPackt/Interactive-Data-Visualization-with-Python \n",
    "\n",
    "Introduction to GeoPandas https://geopandas.org/en/stable/getting_started/introduction.html"
   ]
  }
 ],
 "metadata": {
  "kernelspec": {
   "display_name": "Python 3",
   "language": "python",
   "name": "python3"
  },
  "language_info": {
   "codemirror_mode": {
    "name": "ipython",
    "version": 3
   },
   "file_extension": ".py",
   "mimetype": "text/x-python",
   "name": "python",
   "nbconvert_exporter": "python",
   "pygments_lexer": "ipython3",
   "version": "3.11.2"
  },
  "orig_nbformat": 4
 },
 "nbformat": 4,
 "nbformat_minor": 2
}
