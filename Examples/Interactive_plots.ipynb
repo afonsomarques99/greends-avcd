{
 "cells": [
  {
   "attachments": {},
   "cell_type": "markdown",
   "metadata": {},
   "source": [
    "# Analysis and Visualization of Complex Agro-Environmental Data\n",
    "---\n",
    "## Interactive visualization in python with `Bokeh`, `Plotly`, `Dash` and `Altair`\n",
    "\n",
    "### 1. Bokeh\n",
    "\n",
    "`Bokeh` is a Python's module for interactive da visualizations. The plots are created by stacking layers on top of each other. The first step is to create an empty figure, to which elements are added in layers. These elements are known as glyphs, which can be anything from lines to bars to circles. Attached to each glyph are properties such as color, size and coordinates."
   ]
  },
  {
   "cell_type": "code",
   "execution_count": 1,
   "metadata": {},
   "outputs": [],
   "source": [
    "import numpy as np\n",
    "import pandas as pd\n",
    "import matplotlib.pyplot as plt\n"
   ]
  },
  {
   "attachments": {},
   "cell_type": "markdown",
   "metadata": {},
   "source": [
    "#### 1.1 Data preparation\n",
    "\n",
    "Download 2 datasets: (1) CO2 emissions per person per year per country and (2) GDP per year per country:"
   ]
  },
  {
   "cell_type": "code",
   "execution_count": 2,
   "metadata": {},
   "outputs": [],
   "source": [
    "url_co2 = 'https://raw.githubusercontent.com/TrainingByPackt/Interactive-Data-Visualization-with-Python/master/datasets/co2.csv'\n",
    "co2 = pd.read_csv(url_co2)\n",
    "url_gm = 'https://raw.githubusercontent.com/TrainingByPackt/Interactive-Data-Visualization-with-Python/master/datasets/gapminder.csv'\n",
    "gm = pd.read_csv(url_gm)"
   ]
  },
  {
   "attachments": {},
   "cell_type": "markdown",
   "metadata": {},
   "source": [
    "Transform the dataset - intersect datasets"
   ]
  },
  {
   "cell_type": "code",
   "execution_count": null,
   "metadata": {},
   "outputs": [],
   "source": [
    "# Drop duplicates in gm\n",
    "df_gm = gm[['Country', 'region']].drop_duplicates()\n",
    "# Combine the 2 datasets (merge by country)\n",
    "df_w_regions = pd.merge(co2, df_gm, left_on ='country', right_on ='Country', how ='inner') # intersection of both keys, keep order from 'left'\n",
    "# Drop one Country column\n",
    "df_w_regions = df_w_regions.drop('Country', axis='columns')\n",
    "df_w_regions.head()"
   ]
  },
  {
   "attachments": {},
   "cell_type": "markdown",
   "metadata": {},
   "source": [
    "Transform the dataset - stack by year"
   ]
  },
  {
   "cell_type": "code",
   "execution_count": null,
   "metadata": {},
   "outputs": [],
   "source": [
    "# change the format of the DataFrame into one that has identifier variables of our choice (here, country and region).\n",
    "new_co2 = pd.melt(df_w_regions, id_vars=['country', 'region'])\n",
    "columns = ['country', 'region', 'year', 'co2']\n",
    "new_co2.columns = columns\n",
    "# Select data from 1964 onwards, sort by country and then year\n",
    "df_co2 = new_co2[new_co2['year'].astype('int64') > 1963]\n",
    "df_co2 = df_co2.sort_values(by=['country', 'year'])\n",
    "df_co2['year'] = df_co2['year'].astype('int64')\n",
    "df_co2.head()\n"
   ]
  },
  {
   "attachments": {},
   "cell_type": "markdown",
   "metadata": {},
   "source": [
    "Create similar table for GDP per year per country"
   ]
  },
  {
   "cell_type": "code",
   "execution_count": null,
   "metadata": {},
   "outputs": [],
   "source": [
    "df_gdp = gm[['Country', 'Year', 'gdp']]\n",
    "df_gdp.columns = ['country', 'year', 'gdp']\n",
    "df_gdp.head()"
   ]
  },
  {
   "attachments": {},
   "cell_type": "markdown",
   "metadata": {},
   "source": [
    "Merge datasets"
   ]
  },
  {
   "cell_type": "code",
   "execution_count": null,
   "metadata": {},
   "outputs": [],
   "source": [
    "data = pd.merge(df_co2, df_gdp, on=['country', 'year'], how='left')\n",
    "data = data.dropna()\n",
    "data.head()"
   ]
  },
  {
   "attachments": {},
   "cell_type": "markdown",
   "metadata": {},
   "source": [
    "#### 1.2 Running Bokeh\n",
    "\n",
    "Import Bokeh and functions"
   ]
  },
  {
   "cell_type": "code",
   "execution_count": 8,
   "metadata": {},
   "outputs": [],
   "source": [
    "from bokeh.io import curdoc, output_notebook\n",
    "from bokeh.plotting import figure, show\n",
    "from bokeh.models import HoverTool, ColumnDataSource, CategoricalColorMapper, Slider\n",
    "from bokeh.palettes import Spectral6\n",
    "from bokeh.layouts import column, row"
   ]
  },
  {
   "attachments": {},
   "cell_type": "markdown",
   "metadata": {},
   "source": [
    "#### Prepare base static plot"
   ]
  },
  {
   "cell_type": "code",
   "execution_count": 9,
   "metadata": {},
   "outputs": [
    {
     "data": {
      "text/html": [
       "<style>\n",
       "        .bk-notebook-logo {\n",
       "            display: block;\n",
       "            width: 20px;\n",
       "            height: 20px;\n",
       "            background-image: url(data:image/png;base64,iVBORw0KGgoAAAANSUhEUgAAABQAAAAUCAYAAACNiR0NAAAABHNCSVQICAgIfAhkiAAAAAlwSFlzAAALEgAACxIB0t1+/AAAABx0RVh0U29mdHdhcmUAQWRvYmUgRmlyZXdvcmtzIENTNui8sowAAAOkSURBVDiNjZRtaJVlGMd/1/08zzln5zjP1LWcU9N0NkN8m2CYjpgQYQXqSs0I84OLIC0hkEKoPtiH3gmKoiJDU7QpLgoLjLIQCpEsNJ1vqUOdO7ppbuec5+V+rj4ctwzd8IIbbi6u+8f1539dt3A78eXC7QizUF7gyV1fD1Yqg4JWz84yffhm0qkFqBogB9rM8tZdtwVsPUhWhGcFJngGeWrPzHm5oaMmkfEg1usvLFyc8jLRqDOMru7AyC8saQr7GG7f5fvDeH7Ej8CM66nIF+8yngt6HWaKh7k49Soy9nXurCi1o3qUbS3zWfrYeQDTB/Qj6kX6Ybhw4B+bOYoLKCC9H3Nu/leUTZ1JdRWkkn2ldcCamzrcf47KKXdAJllSlxAOkRgyHsGC/zRday5Qld9DyoM4/q/rUoy/CXh3jzOu3bHUVZeU+DEn8FInkPBFlu3+nW3Nw0mk6vCDiWg8CeJaxEwuHS3+z5RgY+YBR6V1Z1nxSOfoaPa4LASWxxdNp+VWTk7+4vzaou8v8PN+xo+KY2xsw6une2frhw05CTYOmQvsEhjhWjn0bmXPjpE1+kplmmkP3suftwTubK9Vq22qKmrBhpY4jvd5afdRA3wGjFAgcnTK2s4hY0/GPNIb0nErGMCRxWOOX64Z8RAC4oCXdklmEvcL8o0BfkNK4lUg9HTl+oPlQxdNo3Mg4Nv175e/1LDGzZen30MEjRUtmXSfiTVu1kK8W4txyV6BMKlbgk3lMwYCiusNy9fVfvvwMxv8Ynl6vxoByANLTWplvuj/nF9m2+PDtt1eiHPBr1oIfhCChQMBw6Aw0UulqTKZdfVvfG7VcfIqLG9bcldL/+pdWTLxLUy8Qq38heUIjh4XlzZxzQm19lLFlr8vdQ97rjZVOLf8nclzckbcD4wxXMidpX30sFd37Fv/GtwwhzhxGVAprjbg0gCAEeIgwCZyTV2Z1REEW8O4py0wsjeloKoMr6iCY6dP92H6Vw/oTyICIthibxjm/DfN9lVz8IqtqKYLUXfoKVMVQVVJOElGjrnnUt9T9wbgp8AyYKaGlqingHZU/uG2NTZSVqwHQTWkx9hxjkpWDaCg6Ckj5qebgBVbT3V3NNXMSiWSDdGV3hrtzla7J+duwPOToIg42ChPQOQjspnSlp1V+Gjdged7+8UN5CRAV7a5EdFNwCjEaBR27b3W890TE7g24NAP/mMDXRWrGoFPQI9ls/MWO2dWFAar/xcOIImbbpA3zgAAAABJRU5ErkJggg==);\n",
       "        }\n",
       "    </style>\n",
       "    <div>\n",
       "        <a href=\"https://bokeh.org\" target=\"_blank\" class=\"bk-notebook-logo\"></a>\n",
       "        <span id=\"p1001\">Loading BokehJS ...</span>\n",
       "    </div>\n"
      ]
     },
     "metadata": {},
     "output_type": "display_data"
    },
    {
     "data": {
      "application/javascript": "(function(root) {\n  function now() {\n    return new Date();\n  }\n\n  const force = true;\n\n  if (typeof root._bokeh_onload_callbacks === \"undefined\" || force === true) {\n    root._bokeh_onload_callbacks = [];\n    root._bokeh_is_loading = undefined;\n  }\n\nconst JS_MIME_TYPE = 'application/javascript';\n  const HTML_MIME_TYPE = 'text/html';\n  const EXEC_MIME_TYPE = 'application/vnd.bokehjs_exec.v0+json';\n  const CLASS_NAME = 'output_bokeh rendered_html';\n\n  /**\n   * Render data to the DOM node\n   */\n  function render(props, node) {\n    const script = document.createElement(\"script\");\n    node.appendChild(script);\n  }\n\n  /**\n   * Handle when an output is cleared or removed\n   */\n  function handleClearOutput(event, handle) {\n    const cell = handle.cell;\n\n    const id = cell.output_area._bokeh_element_id;\n    const server_id = cell.output_area._bokeh_server_id;\n    // Clean up Bokeh references\n    if (id != null && id in Bokeh.index) {\n      Bokeh.index[id].model.document.clear();\n      delete Bokeh.index[id];\n    }\n\n    if (server_id !== undefined) {\n      // Clean up Bokeh references\n      const cmd_clean = \"from bokeh.io.state import curstate; print(curstate().uuid_to_server['\" + server_id + \"'].get_sessions()[0].document.roots[0]._id)\";\n      cell.notebook.kernel.execute(cmd_clean, {\n        iopub: {\n          output: function(msg) {\n            const id = msg.content.text.trim();\n            if (id in Bokeh.index) {\n              Bokeh.index[id].model.document.clear();\n              delete Bokeh.index[id];\n            }\n          }\n        }\n      });\n      // Destroy server and session\n      const cmd_destroy = \"import bokeh.io.notebook as ion; ion.destroy_server('\" + server_id + \"')\";\n      cell.notebook.kernel.execute(cmd_destroy);\n    }\n  }\n\n  /**\n   * Handle when a new output is added\n   */\n  function handleAddOutput(event, handle) {\n    const output_area = handle.output_area;\n    const output = handle.output;\n\n    // limit handleAddOutput to display_data with EXEC_MIME_TYPE content only\n    if ((output.output_type != \"display_data\") || (!Object.prototype.hasOwnProperty.call(output.data, EXEC_MIME_TYPE))) {\n      return\n    }\n\n    const toinsert = output_area.element.find(\".\" + CLASS_NAME.split(' ')[0]);\n\n    if (output.metadata[EXEC_MIME_TYPE][\"id\"] !== undefined) {\n      toinsert[toinsert.length - 1].firstChild.textContent = output.data[JS_MIME_TYPE];\n      // store reference to embed id on output_area\n      output_area._bokeh_element_id = output.metadata[EXEC_MIME_TYPE][\"id\"];\n    }\n    if (output.metadata[EXEC_MIME_TYPE][\"server_id\"] !== undefined) {\n      const bk_div = document.createElement(\"div\");\n      bk_div.innerHTML = output.data[HTML_MIME_TYPE];\n      const script_attrs = bk_div.children[0].attributes;\n      for (let i = 0; i < script_attrs.length; i++) {\n        toinsert[toinsert.length - 1].firstChild.setAttribute(script_attrs[i].name, script_attrs[i].value);\n        toinsert[toinsert.length - 1].firstChild.textContent = bk_div.children[0].textContent\n      }\n      // store reference to server id on output_area\n      output_area._bokeh_server_id = output.metadata[EXEC_MIME_TYPE][\"server_id\"];\n    }\n  }\n\n  function register_renderer(events, OutputArea) {\n\n    function append_mime(data, metadata, element) {\n      // create a DOM node to render to\n      const toinsert = this.create_output_subarea(\n        metadata,\n        CLASS_NAME,\n        EXEC_MIME_TYPE\n      );\n      this.keyboard_manager.register_events(toinsert);\n      // Render to node\n      const props = {data: data, metadata: metadata[EXEC_MIME_TYPE]};\n      render(props, toinsert[toinsert.length - 1]);\n      element.append(toinsert);\n      return toinsert\n    }\n\n    /* Handle when an output is cleared or removed */\n    events.on('clear_output.CodeCell', handleClearOutput);\n    events.on('delete.Cell', handleClearOutput);\n\n    /* Handle when a new output is added */\n    events.on('output_added.OutputArea', handleAddOutput);\n\n    /**\n     * Register the mime type and append_mime function with output_area\n     */\n    OutputArea.prototype.register_mime_type(EXEC_MIME_TYPE, append_mime, {\n      /* Is output safe? */\n      safe: true,\n      /* Index of renderer in `output_area.display_order` */\n      index: 0\n    });\n  }\n\n  // register the mime type if in Jupyter Notebook environment and previously unregistered\n  if (root.Jupyter !== undefined) {\n    const events = require('base/js/events');\n    const OutputArea = require('notebook/js/outputarea').OutputArea;\n\n    if (OutputArea.prototype.mime_types().indexOf(EXEC_MIME_TYPE) == -1) {\n      register_renderer(events, OutputArea);\n    }\n  }\n  if (typeof (root._bokeh_timeout) === \"undefined\" || force === true) {\n    root._bokeh_timeout = Date.now() + 5000;\n    root._bokeh_failed_load = false;\n  }\n\n  const NB_LOAD_WARNING = {'data': {'text/html':\n     \"<div style='background-color: #fdd'>\\n\"+\n     \"<p>\\n\"+\n     \"BokehJS does not appear to have successfully loaded. If loading BokehJS from CDN, this \\n\"+\n     \"may be due to a slow or bad network connection. Possible fixes:\\n\"+\n     \"</p>\\n\"+\n     \"<ul>\\n\"+\n     \"<li>re-rerun `output_notebook()` to attempt to load from CDN again, or</li>\\n\"+\n     \"<li>use INLINE resources instead, as so:</li>\\n\"+\n     \"</ul>\\n\"+\n     \"<code>\\n\"+\n     \"from bokeh.resources import INLINE\\n\"+\n     \"output_notebook(resources=INLINE)\\n\"+\n     \"</code>\\n\"+\n     \"</div>\"}};\n\n  function display_loaded() {\n    const el = document.getElementById(\"p1001\");\n    if (el != null) {\n      el.textContent = \"BokehJS is loading...\";\n    }\n    if (root.Bokeh !== undefined) {\n      if (el != null) {\n        el.textContent = \"BokehJS \" + root.Bokeh.version + \" successfully loaded.\";\n      }\n    } else if (Date.now() < root._bokeh_timeout) {\n      setTimeout(display_loaded, 100)\n    }\n  }\n\n  function run_callbacks() {\n    try {\n      root._bokeh_onload_callbacks.forEach(function(callback) {\n        if (callback != null)\n          callback();\n      });\n    } finally {\n      delete root._bokeh_onload_callbacks\n    }\n    console.debug(\"Bokeh: all callbacks have finished\");\n  }\n\n  function load_libs(css_urls, js_urls, callback) {\n    if (css_urls == null) css_urls = [];\n    if (js_urls == null) js_urls = [];\n\n    root._bokeh_onload_callbacks.push(callback);\n    if (root._bokeh_is_loading > 0) {\n      console.debug(\"Bokeh: BokehJS is being loaded, scheduling callback at\", now());\n      return null;\n    }\n    if (js_urls == null || js_urls.length === 0) {\n      run_callbacks();\n      return null;\n    }\n    console.debug(\"Bokeh: BokehJS not loaded, scheduling load and callback at\", now());\n    root._bokeh_is_loading = css_urls.length + js_urls.length;\n\n    function on_load() {\n      root._bokeh_is_loading--;\n      if (root._bokeh_is_loading === 0) {\n        console.debug(\"Bokeh: all BokehJS libraries/stylesheets loaded\");\n        run_callbacks()\n      }\n    }\n\n    function on_error(url) {\n      console.error(\"failed to load \" + url);\n    }\n\n    for (let i = 0; i < css_urls.length; i++) {\n      const url = css_urls[i];\n      const element = document.createElement(\"link\");\n      element.onload = on_load;\n      element.onerror = on_error.bind(null, url);\n      element.rel = \"stylesheet\";\n      element.type = \"text/css\";\n      element.href = url;\n      console.debug(\"Bokeh: injecting link tag for BokehJS stylesheet: \", url);\n      document.body.appendChild(element);\n    }\n\n    for (let i = 0; i < js_urls.length; i++) {\n      const url = js_urls[i];\n      const element = document.createElement('script');\n      element.onload = on_load;\n      element.onerror = on_error.bind(null, url);\n      element.async = false;\n      element.src = url;\n      console.debug(\"Bokeh: injecting script tag for BokehJS library: \", url);\n      document.head.appendChild(element);\n    }\n  };\n\n  function inject_raw_css(css) {\n    const element = document.createElement(\"style\");\n    element.appendChild(document.createTextNode(css));\n    document.body.appendChild(element);\n  }\n\n  const js_urls = [\"https://cdn.bokeh.org/bokeh/release/bokeh-3.1.0.min.js\", \"https://cdn.bokeh.org/bokeh/release/bokeh-gl-3.1.0.min.js\", \"https://cdn.bokeh.org/bokeh/release/bokeh-widgets-3.1.0.min.js\", \"https://cdn.bokeh.org/bokeh/release/bokeh-tables-3.1.0.min.js\", \"https://cdn.bokeh.org/bokeh/release/bokeh-mathjax-3.1.0.min.js\"];\n  const css_urls = [];\n\n  const inline_js = [    function(Bokeh) {\n      Bokeh.set_log_level(\"info\");\n    },\nfunction(Bokeh) {\n    }\n  ];\n\n  function run_inline_js() {\n    if (root.Bokeh !== undefined || force === true) {\n          for (let i = 0; i < inline_js.length; i++) {\n      inline_js[i].call(root, root.Bokeh);\n    }\nif (force === true) {\n        display_loaded();\n      }} else if (Date.now() < root._bokeh_timeout) {\n      setTimeout(run_inline_js, 100);\n    } else if (!root._bokeh_failed_load) {\n      console.log(\"Bokeh: BokehJS failed to load within specified timeout.\");\n      root._bokeh_failed_load = true;\n    } else if (force !== true) {\n      const cell = $(document.getElementById(\"p1001\")).parents('.cell').data().cell;\n      cell.output_area.append_execute_result(NB_LOAD_WARNING)\n    }\n  }\n\n  if (root._bokeh_is_loading === 0) {\n    console.debug(\"Bokeh: BokehJS loaded, going straight to plotting\");\n    run_inline_js();\n  } else {\n    load_libs(css_urls, js_urls, function() {\n      console.debug(\"Bokeh: BokehJS plotting callback run at\", now());\n      run_inline_js();\n    });\n  }\n}(window));",
      "application/vnd.bokehjs_load.v0+json": ""
     },
     "metadata": {},
     "output_type": "display_data"
    }
   ],
   "source": [
    "# load BokehJS - enables the plot to be displayed within the notebook\n",
    "output_notebook()"
   ]
  },
  {
   "cell_type": "code",
   "execution_count": 24,
   "metadata": {},
   "outputs": [],
   "source": [
    "# create list of regions - to color the datapoints based on the region\n",
    "regions_list = data.region.unique().tolist()\n",
    "# assign colors to each region\n",
    "color_mapper = CategoricalColorMapper(factors=regions_list, palette=Spectral6)"
   ]
  },
  {
   "cell_type": "code",
   "execution_count": 25,
   "metadata": {},
   "outputs": [],
   "source": [
    "# make a data source for the plot\n",
    "source = ColumnDataSource(data={\n",
    "    'x': data.gdp[data['year'] == 1964],\n",
    "    'y': data.co2[data['year'] == 1964],\n",
    "    'country': data.country[data['year'] == 1964],\n",
    "    'region': data.region[data['year'] == 1964],\n",
    "})"
   ]
  },
  {
   "cell_type": "code",
   "execution_count": 26,
   "metadata": {},
   "outputs": [],
   "source": [
    "# Save the minimum and maximum values of the gdp column: xmin, xmax\n",
    "xmin, xmax = min(data.gdp), max(data.gdp)\n",
    "\n",
    "# Save the minimum and maximum values of the co2 column: ymin, ymax\n",
    "ymin, ymax = min(data.co2), max(data.co2)"
   ]
  },
  {
   "cell_type": "code",
   "execution_count": 27,
   "metadata": {},
   "outputs": [],
   "source": [
    "# Create the figure: plot\n",
    "plot = figure(title='CO2 Emissions vs GDP in 1964', \n",
    "              height=600, width=1000,\n",
    "              x_range=(xmin, xmax),\n",
    "              y_range=(ymin, ymax), y_axis_type='log')"
   ]
  },
  {
   "cell_type": "code",
   "execution_count": 28,
   "metadata": {},
   "outputs": [
    {
     "data": {
      "text/html": [
       "<div style=\"display: table;\"><div style=\"display: table-row;\"><div style=\"display: table-cell;\"><b title=\"bokeh.models.renderers.glyph_renderer.GlyphRenderer\">GlyphRenderer</b>(</div><div style=\"display: table-cell;\">id&nbsp;=&nbsp;'p2042', <span id=\"p2048\" style=\"cursor: pointer;\">&hellip;)</span></div></div><div class=\"p2047\" style=\"display: none;\"><div style=\"display: table-cell;\"></div><div style=\"display: table-cell;\">coordinates&nbsp;=&nbsp;None,</div></div><div class=\"p2047\" style=\"display: none;\"><div style=\"display: table-cell;\"></div><div style=\"display: table-cell;\">data_source&nbsp;=&nbsp;ColumnDataSource(id='p1986', ...),</div></div><div class=\"p2047\" style=\"display: none;\"><div style=\"display: table-cell;\"></div><div style=\"display: table-cell;\">glyph&nbsp;=&nbsp;Circle(id='p2039', ...),</div></div><div class=\"p2047\" style=\"display: none;\"><div style=\"display: table-cell;\"></div><div style=\"display: table-cell;\">group&nbsp;=&nbsp;None,</div></div><div class=\"p2047\" style=\"display: none;\"><div style=\"display: table-cell;\"></div><div style=\"display: table-cell;\">hover_glyph&nbsp;=&nbsp;None,</div></div><div class=\"p2047\" style=\"display: none;\"><div style=\"display: table-cell;\"></div><div style=\"display: table-cell;\">js_event_callbacks&nbsp;=&nbsp;{},</div></div><div class=\"p2047\" style=\"display: none;\"><div style=\"display: table-cell;\"></div><div style=\"display: table-cell;\">js_property_callbacks&nbsp;=&nbsp;{},</div></div><div class=\"p2047\" style=\"display: none;\"><div style=\"display: table-cell;\"></div><div style=\"display: table-cell;\">level&nbsp;=&nbsp;'glyph',</div></div><div class=\"p2047\" style=\"display: none;\"><div style=\"display: table-cell;\"></div><div style=\"display: table-cell;\">muted&nbsp;=&nbsp;False,</div></div><div class=\"p2047\" style=\"display: none;\"><div style=\"display: table-cell;\"></div><div style=\"display: table-cell;\">muted_glyph&nbsp;=&nbsp;Circle(id='p2041', ...),</div></div><div class=\"p2047\" style=\"display: none;\"><div style=\"display: table-cell;\"></div><div style=\"display: table-cell;\">name&nbsp;=&nbsp;None,</div></div><div class=\"p2047\" style=\"display: none;\"><div style=\"display: table-cell;\"></div><div style=\"display: table-cell;\">nonselection_glyph&nbsp;=&nbsp;Circle(id='p2040', ...),</div></div><div class=\"p2047\" style=\"display: none;\"><div style=\"display: table-cell;\"></div><div style=\"display: table-cell;\">propagate_hover&nbsp;=&nbsp;False,</div></div><div class=\"p2047\" style=\"display: none;\"><div style=\"display: table-cell;\"></div><div style=\"display: table-cell;\">selection_glyph&nbsp;=&nbsp;'auto',</div></div><div class=\"p2047\" style=\"display: none;\"><div style=\"display: table-cell;\"></div><div style=\"display: table-cell;\">subscribed_events&nbsp;=&nbsp;PropertyValueSet(),</div></div><div class=\"p2047\" style=\"display: none;\"><div style=\"display: table-cell;\"></div><div style=\"display: table-cell;\">syncable&nbsp;=&nbsp;True,</div></div><div class=\"p2047\" style=\"display: none;\"><div style=\"display: table-cell;\"></div><div style=\"display: table-cell;\">tags&nbsp;=&nbsp;[],</div></div><div class=\"p2047\" style=\"display: none;\"><div style=\"display: table-cell;\"></div><div style=\"display: table-cell;\">view&nbsp;=&nbsp;CDSView(id='p2043', ...),</div></div><div class=\"p2047\" style=\"display: none;\"><div style=\"display: table-cell;\"></div><div style=\"display: table-cell;\">visible&nbsp;=&nbsp;True,</div></div><div class=\"p2047\" style=\"display: none;\"><div style=\"display: table-cell;\"></div><div style=\"display: table-cell;\">x_range_name&nbsp;=&nbsp;'default',</div></div><div class=\"p2047\" style=\"display: none;\"><div style=\"display: table-cell;\"></div><div style=\"display: table-cell;\">y_range_name&nbsp;=&nbsp;'default')</div></div></div>\n",
       "<script>\n",
       "(function() {\n",
       "  let expanded = false;\n",
       "  const ellipsis = document.getElementById(\"p2048\");\n",
       "  ellipsis.addEventListener(\"click\", function() {\n",
       "    const rows = document.getElementsByClassName(\"p2047\");\n",
       "    for (let i = 0; i < rows.length; i++) {\n",
       "      const el = rows[i];\n",
       "      el.style.display = expanded ? \"none\" : \"table-row\";\n",
       "    }\n",
       "    ellipsis.innerHTML = expanded ? \"&hellip;)\" : \"&lsaquo;&lsaquo;&lsaquo;\";\n",
       "    expanded = !expanded;\n",
       "  });\n",
       "})();\n",
       "</script>\n"
      ],
      "text/plain": [
       "GlyphRenderer(id='p2042', ...)"
      ]
     },
     "execution_count": 28,
     "metadata": {},
     "output_type": "execute_result"
    }
   ],
   "source": [
    "# Add circle glyphs to the plot\n",
    "plot.circle(x='x', y='y', fill_alpha=0.8, source=source, legend_field='region',\n",
    "            color=dict(field='region', transform=color_mapper),\n",
    "            size=7)"
   ]
  },
  {
   "cell_type": "code",
   "execution_count": null,
   "metadata": {},
   "outputs": [],
   "source": [
    "# Set the legend.location attribute of the plot\n",
    "plot.legend.location = 'bottom_right'\n",
    "\n",
    "# Set the x-axis label\n",
    "plot.xaxis.axis_label = 'Income Per Person'\n",
    "\n",
    "# Set the y-axis label\n",
    "plot.yaxis.axis_label = 'CO2 Emissions (tons per person)'\n",
    "show(plot)"
   ]
  },
  {
   "attachments": {},
   "cell_type": "markdown",
   "metadata": {},
   "source": [
    "#### Adding a hover tool"
   ]
  },
  {
   "cell_type": "code",
   "execution_count": null,
   "metadata": {},
   "outputs": [],
   "source": [
    "# Create a HoverTool - will allow the user to hover above a datapoint to see the name of the country, CO2 emissions nd GDP\n",
    "hover = HoverTool(tooltips=[('Country', '@country'), ('GDP', '@x'), ('CO2 Emission', '@y')])\n",
    "\n",
    "# Add the HoverTool to the plot\n",
    "plot.add_tools(hover)\n",
    "\n",
    "show(plot)"
   ]
  },
  {
   "attachments": {},
   "cell_type": "markdown",
   "metadata": {},
   "source": [
    "#### Adding a slider to the static plot"
   ]
  },
  {
   "cell_type": "code",
   "execution_count": null,
   "metadata": {},
   "outputs": [],
   "source": [
    "# Make a slider object: slider\n",
    "# Set the start as the 1st year and the end as the last year in the year column\n",
    "# Set step as 1 and the value as the minimum value of the year column\n",
    "slider = Slider(start=min(data.year), end=max(data.year), step=1, value=min(data.year), title='Year')\n",
    "\n",
    "# create function that will update the plot every time the silider is moved\n",
    "def update_plot(attr, old, new):\n",
    "    # set the `yr` name to `slider.value` and `source.data = new_data`\n",
    "    yr = slider.value\n",
    "    new_data = {\n",
    "        'x': data.gdp[data['year'] == yr],\n",
    "        'y': data.co2[data['year'] == yr],\n",
    "        'country': data.country[data['year'] == yr],\n",
    "        'region': data.region[data['year'] == yr],\n",
    "    }\n",
    "    source.data = new_data\n",
    "    plot.title.text = 'CO2 Emissions vs GDP in %d' % yr\n",
    "\n",
    "# Attach the callback to the 'value' property of slider\n",
    "slider.on_change('value', update_plot)\n",
    "layout = column(slider, plot)\n",
    "curdoc().add_root(layout)\n",
    "\n",
    "show(plot)\n",
    "\n",
    "# ERROR!!! - no slider is shown"
   ]
  },
  {
   "attachments": {},
   "cell_type": "markdown",
   "metadata": {},
   "source": [
    "#### Creating a standalone HTML file"
   ]
  },
  {
   "cell_type": "code",
   "execution_count": null,
   "metadata": {},
   "outputs": [],
   "source": [
    "from bokeh.plotting import figure, output_file, save\n",
    "\n",
    "output_file(filename=\"custom_filename.html\", title=\"Static HTML file\")\n",
    "\n",
    "save(plot, \"bokeh_plot.html\") # save html plot\n",
    "\n",
    "show(plot) # show plot in the web browser"
   ]
  },
  {
   "attachments": {},
   "cell_type": "markdown",
   "metadata": {},
   "source": [
    "#### Slider example from https://www.geeksforgeeks.org/add-interactive-slider-to-bokeh-plots/"
   ]
  },
  {
   "cell_type": "code",
   "execution_count": null,
   "metadata": {},
   "outputs": [],
   "source": [
    "from bokeh.layouts import column\n",
    "from bokeh.models import ColumnDataSource, Slider, CustomJS\n",
    "from bokeh.plotting import figure, output_file, show\n",
    "import numpy as np\n",
    "  \n",
    "x2 = np.linspace(0, 10, 500)\n",
    "y2 = np.sin(x2)\n",
    "  \n",
    "source2 = ColumnDataSource(data=dict(x=x2, y=y2))\n",
    "  \n",
    "# Create plots and widgets\n",
    "plot = figure()\n",
    "  \n",
    "plot.line('x', 'y', source=source2, line_width=3, line_alpha=0.5)\n",
    "  \n",
    "# Create Slider object\n",
    "slider2 = Slider(start=0, end=6, value=2,\n",
    "                step=0.2, title='Number of points')\n",
    "  \n",
    "# Adding callback code\n",
    "callback = CustomJS(args=dict(source=source2, val=slider2),\n",
    "                    code=\"\"\"\n",
    "    const data = source.data;\n",
    "    const freq = val.value;\n",
    "    const x = data['x'];\n",
    "    const y = data['y'];\n",
    "   for (var i = 0; i < x.length; i++) {\n",
    "        y[i] = Math.sin(freq*x[i]);\n",
    "    }\n",
    "      \n",
    "    source.change.emit();\n",
    "\"\"\")\n",
    "  \n",
    "slider2.js_on_change('value', callback)\n",
    "  \n",
    "# Arrange plots and widgets in layouts\n",
    "layout2 = column(slider2, plot)\n",
    "  \n",
    "output_file('exam.html')\n",
    "  \n",
    "show(layout2)"
   ]
  },
  {
   "attachments": {},
   "cell_type": "markdown",
   "metadata": {},
   "source": [
    "### 2. Plotly\n",
    "\n",
    "`plotly` is a very popular Python module used to create interactive data visualizations. It is a JSON-based plotting tool, and so every plot is defined by 2 JSON objects - data and layout. \n",
    "\n",
    "A simplified and more user friendly version of `plotly` is `plotly express` which is provides a high-level wrapper around the base `plotly code, resulting in a minimized syntax abd commands.\n",
    "\n",
    "#### Creating an interactive scatter plot\n",
    "\n",
    "We will use the same dataset created for Bokeh in the previous example."
   ]
  },
  {
   "cell_type": "code",
   "execution_count": 18,
   "metadata": {},
   "outputs": [],
   "source": [
    "# Save the minimum and maximum values of the gdp column: xmin, xmax\n",
    "xmin, xmax = min(data.gdp), max(data.gdp)\n",
    "# Save the minimum and maximum values of the co2 column: ymin, ymax\n",
    "ymin, ymax = min(data.co2), max(data.co2)"
   ]
  },
  {
   "cell_type": "code",
   "execution_count": null,
   "metadata": {},
   "outputs": [],
   "source": [
    "import pandas as pd\n",
    "import plotly.express as px\n",
    "\n",
    "fig = px.scatter(data, x=\"gdp\", y=\"co2\", animation_frame=\"year\", animation_group=\"country\",\n",
    "           color=\"region\", hover_name=\"country\", facet_col=\"region\", width=1579, height=400,\n",
    "           log_x=True, size_max=45, range_x=[xmin,xmax], range_y=[ymin,ymax])\n",
    "\n",
    "fig.show()"
   ]
  },
  {
   "cell_type": "code",
   "execution_count": null,
   "metadata": {},
   "outputs": [],
   "source": [
    "# Aggregate in a single plot (by removing facet_col=\"region\") and add rug and boxplot.\n",
    "fig = px.scatter(data, x=\"gdp\", y=\"co2\", animation_frame=\"year\", \n",
    "        color=\"region\", hover_name=\"country\", width=1000, height=600,\n",
    "        size_max=45, range_x=[xmin,xmax], range_y=[ymin,ymax], \n",
    "        marginal_y = 'box', marginal_x = 'rug') # add a boxplot in the left side and rug plot on top\n",
    "\n",
    "fig.show()"
   ]
  },
  {
   "cell_type": "code",
   "execution_count": null,
   "metadata": {},
   "outputs": [],
   "source": [
    "# N0w using a density contour plot instead of a scatter plot\n",
    "fig = px.density_contour(data, x=\"gdp\", y=\"co2\", animation_frame=\"year\", \n",
    "        color=\"region\", hover_name=\"country\", width=1000, height=600,\n",
    "        range_x=[xmin,xmax], range_y=[ymin,ymax], \n",
    "        marginal_y = 'box', marginal_x = 'rug') # add a boxplot in the left side and rug plot on top\n",
    "\n",
    "fig.show()"
   ]
  },
  {
   "cell_type": "code",
   "execution_count": null,
   "metadata": {},
   "outputs": [],
   "source": [
    "fig = px.scatter(data, x=\"year\", y=\"co2\", color=\"region\", hover_name=\"country\", width=1000, height=500,\n",
    "           size_max=45, marginal_y = 'box')\n",
    "\n",
    "fig.show()"
   ]
  },
  {
   "attachments": {},
   "cell_type": "markdown",
   "metadata": {},
   "source": [
    "#### Visualizing an output of Principal Component Analysis\n",
    "\n",
    "##### Example using the `Iris` dataset"
   ]
  },
  {
   "cell_type": "code",
   "execution_count": 23,
   "metadata": {},
   "outputs": [],
   "source": [
    "import numpy as np\n",
    "import pandas as pd\n",
    "import matplotlib.pyplot as plt\n",
    "import plotly.express as px\n",
    "from sklearn.preprocessing import StandardScaler\n",
    "from sklearn.decomposition import PCA"
   ]
  },
  {
   "cell_type": "code",
   "execution_count": null,
   "metadata": {},
   "outputs": [],
   "source": [
    "# pairwise scatter plots\n",
    "df = px.data.iris()\n",
    "features = [\"sepal_width\", \"sepal_length\", \"petal_width\", \"petal_length\"]\n",
    "\n",
    "fig = px.scatter_matrix(\n",
    "    df,\n",
    "    dimensions=features,\n",
    "    color=\"species\",\n",
    "    width=800, height=700\n",
    ")\n",
    "\n",
    "fig.update_traces(diagonal_visible=False)\n",
    "fig.show()"
   ]
  },
  {
   "cell_type": "code",
   "execution_count": null,
   "metadata": {},
   "outputs": [],
   "source": [
    "# PCA plots\n",
    "pca = PCA()\n",
    "components = pca.fit_transform(df[features])\n",
    "labels = {\n",
    "    str(i): f\"PC {i+1} ({var:.1f}%)\"\n",
    "    for i, var in enumerate(pca.explained_variance_ratio_ * 100)\n",
    "}\n",
    "\n",
    "fig = px.scatter_matrix(\n",
    "    components,\n",
    "    labels=labels,\n",
    "    dimensions=range(4),\n",
    "    color=df[\"species\"],\n",
    "    width=800, height=700\n",
    ")\n",
    "fig.update_traces(diagonal_visible=False)\n",
    "\n",
    "fig.show()"
   ]
  },
  {
   "attachments": {},
   "cell_type": "markdown",
   "metadata": {},
   "source": [
    "##### Example using the `winequality` dataset"
   ]
  },
  {
   "cell_type": "code",
   "execution_count": null,
   "metadata": {},
   "outputs": [],
   "source": [
    "from sklearn.preprocessing import StandardScaler\n",
    "\n",
    "df_wine = pd.read_csv('winequality_red.csv')\n",
    "df_wine2 = df_wine.iloc[:, 0:11]\n",
    "wine_scaled = StandardScaler().fit_transform(df_wine2)\n",
    "df_scaled = pd.DataFrame(data=wine_scaled, columns=df_wine2.columns)\n",
    "\n",
    "\n",
    "pca = PCA()\n",
    "components = pca.fit_transform(df_scaled)\n",
    "labels = {\n",
    "    str(i): f\"PC {i+1} ({var:.1f}%)\"\n",
    "    for i, var in enumerate(pca.explained_variance_ratio_ * 100)\n",
    "}\n",
    "\n",
    "fig = px.scatter_matrix(\n",
    "    components,\n",
    "    labels=labels,\n",
    "    dimensions=range(5), # Try to change the number of PC's (from 2 to 11, in this case)\n",
    "    color=df_wine[\"quality\"],\n",
    "    width=1000, height=900\n",
    ")\n",
    "fig.update_traces(diagonal_visible=False)\n",
    "\n",
    "fig.show()"
   ]
  },
  {
   "attachments": {},
   "cell_type": "markdown",
   "metadata": {},
   "source": [
    "### 3. Dash\n",
    "\n",
    "Python's `dash` module offers a framework for building interactive data visualization interfaces. `dash` helps to build interactive web applications and dashboards to visualize data without requiring advanced web development knowledge.\n",
    "\n",
    "Bellow you can find a example of a `dash` interactive plot to visualize PCA plots with a user defined number of components. To run the app, copy the code into a new file named pca-visualization.py and type into your terminal the following code:\n",
    "\n",
    "> python pca-visualization.py\n",
    "\n",
    "Then, go to the http link by using 'ctr... + mouse click'.\n",
    "\n",
    "To exit: 'ctr + c'\n",
    "\n",
    "#### PCA with `Iris` Dataset"
   ]
  },
  {
   "cell_type": "code",
   "execution_count": null,
   "metadata": {},
   "outputs": [],
   "source": [
    "# Import modules\n",
    "# import Dash, dcc (stands for Dash Core Components - this module includes a Graph component called dcc.Graph, \n",
    "# which is used to render interactive graphs amd dcc.slider to render an interactive slider).\n",
    "# We also import sklearn.decomposition.PCA to run a PCA, the plotly.express library to build the interactive graphs, \n",
    "# and pandas to work with DataFrames.\n",
    "\n",
    "from dash import Dash, dcc, html, Input, Output\n",
    "from sklearn.decomposition import PCA\n",
    "import plotly.express as px\n",
    "import pandas as pd\n",
    "\n",
    "# Initialize the app\n",
    "# This line is known as the Dash constructor and is responsible for initializing your app. \n",
    "# It is almost always the same for any Dash app you create.\n",
    "app = Dash(__name__)\n",
    "\n",
    "# App layout\n",
    "# The app layout represents the app components that will be displayed in the web browser, \n",
    "# normally contained within a html.Div.\n",
    "app.layout = html.Div([\n",
    "    html.H4(\"Visualization of PCA's explained variance\", style={'textAlign':'center'}),\n",
    "    dcc.Graph(id=\"pca-visualization-x-graph\"),\n",
    "    html.P(\"Number of components:\"),\n",
    "    dcc.Slider(\n",
    "        id='pca-visualization-x-slider',\n",
    "        min=2, max=4, value=2, step=1)\n",
    "])\n",
    "\n",
    "# Add controls to build the interaction\n",
    "# The inputs and outputs of our app are the properties of a particular component. \n",
    "# The output is the figure property of the component with the ID \"pca-visualization-x-graph\"\n",
    "# THe input is the value property of the component that has the ID \"pca-visualization-x-slider\".\n",
    "# The callback function's argument 'n_components' refers to the component property of the input. \n",
    "# We build PCA plots inside the callback function, assigning the chosen value in the slider. \n",
    "# This means that every time the user selects the number of components with the slider, the figure is rebuilt\n",
    "# to add more or less components\n",
    "# Finally, we return the scatter plots at the end of the function. \n",
    "# This assigns the plots to the figure property of the dcc.Graph, thus displaying the figure in the app.\n",
    "@app.callback(\n",
    "    Output(component_id=\"pca-visualization-x-graph\", component_property=\"figure\"), \n",
    "    Input(component_id=\"pca-visualization-x-slider\", component_property=\"value\"))\n",
    "\n",
    "def run_and_plot(n_components):\n",
    "    df = px.data.iris().iloc[:,0:4]\n",
    "    pca = PCA(n_components=n_components) # defines the number of components in the PCA\n",
    "    components = pca.fit_transform(df) # fits a PCA\n",
    "    var = pca.explained_variance_ratio_.sum() * 100 # % of explained variance by each PC\n",
    "    labels = {str(i): f\"PC {i+1}\" for i in range(n_components)} # PC labels\n",
    "    labels['color'] = 'species'\n",
    "    fig = px.scatter_matrix(\n",
    "        components,\n",
    "        color=px.data.iris()[\"species\"],\n",
    "        dimensions=range(n_components),\n",
    "        labels=labels,\n",
    "        title=f'Total Explained Variance: {var:.2f}%')\n",
    "    fig.update_traces(diagonal_visible=False)\n",
    "    return fig\n",
    "\n",
    "# Run the app - These lines are for running your app, and they are almost always the same for any Dash app you create.\n",
    "if __name__ == \"__main__\":\n",
    "    app.run_server(debug=True)"
   ]
  },
  {
   "attachments": {},
   "cell_type": "markdown",
   "metadata": {},
   "source": [
    "#### PCA with `Wine` Dataset"
   ]
  },
  {
   "cell_type": "code",
   "execution_count": null,
   "metadata": {},
   "outputs": [],
   "source": [
    "# ATENTION: THIS CODE DOES NOT WORK IN JUPYTER NOTEBOOK! \n",
    "# Need to copy-paste to a *.py file and run in command line (see above).\n",
    "\n",
    "# Import modules\n",
    "# import Dash, dcc (stands for Dash Core Components - this module includes a Graph component called dcc.Graph, \n",
    "# which is used to render interactive graphs amd dcc.slider to render an interactive slider).\n",
    "# We also import sklearn.decomposition.PCA to run a PCA, the plotly.express library to build the interactive graphs, \n",
    "# and pandas to work with DataFrames.\n",
    "\n",
    "from dash import Dash, dcc, html, Input, Output\n",
    "from sklearn.decomposition import PCA\n",
    "import plotly.express as px\n",
    "import pandas as pd\n",
    "from sklearn.preprocessing import StandardScaler\n",
    "\n",
    "df_wine = pd.read_csv('winequality_red.csv')\n",
    "\n",
    "# Initialize the app\n",
    "# This line is known as the Dash constructor and is responsible for initializing your app. \n",
    "# It is almost always the same for any Dash app you create.\n",
    "app = Dash(__name__)\n",
    "\n",
    "# App layout\n",
    "# The app layout represents the app components that will be displayed in the web browser, \n",
    "# normally contained within a html.Div.\n",
    "app.layout = html.Div([\n",
    "    html.H1(\"Visualization of PCA's explained variance\", style={'textAlign':'center'}),\n",
    "    dcc.Graph(id=\"pca-visualization-x-graph\"),\n",
    "    html.P(\"Number of components:\"),\n",
    "    dcc.Slider(\n",
    "        id='pca-visualization-x-slider',\n",
    "        min=2, max=11, value=2, step=1)\n",
    "])\n",
    "\n",
    "# Add controls to build the interaction\n",
    "# The inputs and outputs of our app are the properties of a particular component. \n",
    "# The output is the figure property of the component with the ID \"pca-visualization-x-graph\"\n",
    "# THe input is the value property of the component that has the ID \"pca-visualization-x-slider\".\n",
    "# The callback function's argument 'n_components' refers to the component property of the input. \n",
    "# We build PCA plots inside the callback function, assigning the chosen value in the slider. \n",
    "# This means that every time the user selects the number of components with the slider, the figure is rebuilt\n",
    "# to add more or less components\n",
    "# Finally, we return the scatter plots at the end of the function. \n",
    "# This assigns the plots to the figure property of the dcc.Graph, thus displaying the figure in the app.\n",
    "@app.callback(\n",
    "    Output(component_id=\"pca-visualization-x-graph\", component_property=\"figure\"), \n",
    "    Input(component_id=\"pca-visualization-x-slider\", component_property=\"value\"))\n",
    "\n",
    "def run_and_plot(n_components):\n",
    "    df_wine = pd.read_csv('winequality_red.csv')\n",
    "    df_wine2 = df_wine.iloc[:, 0:11]\n",
    "    wine_scaled = StandardScaler().fit_transform(df_wine2)\n",
    "    df = pd.DataFrame(data=wine_scaled, columns=df_wine2.columns)\n",
    "    pca = PCA(n_components=n_components) # defines the number of components in the PCA\n",
    "    components = pca.fit_transform(df) # fits a PCA\n",
    "    var = pca.explained_variance_ratio_.sum() * 100 # % of explained variance by each PC\n",
    "    labels = {str(i): f\"PC {i+1}\" for i in range(n_components)} # PC labels\n",
    "    labels['color'] = 'quality'\n",
    "    fig = px.scatter_matrix(\n",
    "        components,\n",
    "        color=df_wine['quality'],\n",
    "        dimensions=range(n_components),\n",
    "        labels=labels,\n",
    "        title=f'Total Explained Variance: {var:.2f}%',\n",
    "        width=1400, height=1300\n",
    "        )\n",
    "    fig.update_traces(diagonal_visible=False)\n",
    "    return fig\n",
    "\n",
    "# Run the app - These lines are for running your app, and they are almost always the same for any Dash app you create.\n",
    "if __name__ == \"__main__\":\n",
    "    app.run_server(debug=True)"
   ]
  },
  {
   "attachments": {},
   "cell_type": "markdown",
   "metadata": {},
   "source": [
    "#### Variation of human population per country 1959-2007"
   ]
  },
  {
   "cell_type": "code",
   "execution_count": null,
   "metadata": {},
   "outputs": [],
   "source": [
    "from dash import Dash, html, dcc, callback, Output, Input\n",
    "import plotly.express as px\n",
    "import pandas as pd\n",
    "\n",
    "df = pd.read_csv('https://raw.githubusercontent.com/plotly/datasets/master/gapminder_unfiltered.csv')\n",
    "\n",
    "app = Dash(__name__)\n",
    "\n",
    "app.layout = html.Div([\n",
    "    html.H1(children='Human Population Size', style={'textAlign':'center'}),\n",
    "    dcc.Dropdown(df.country.unique(), 'Portugal', id='dropdown-selection'), # dropdown menu\n",
    "    dcc.Graph(id='graph-content') \n",
    "])\n",
    "\n",
    "@callback(\n",
    "    Output('graph-content', 'figure'),\n",
    "    Input('dropdown-selection', 'value')\n",
    ")\n",
    "def update_graph(value):\n",
    "    dff = df[df.country==value]\n",
    "    return px.line(dff, x='year', y='pop') # Line graph\n",
    "\n",
    "if __name__ == '__main__':\n",
    "    app.run_server(debug=True)"
   ]
  },
  {
   "attachments": {},
   "cell_type": "markdown",
   "metadata": {},
   "source": [
    "### 4. Altair\n",
    "\n",
    "`Altair` is a module designed specially to generating interactive plots. This module has some specific advantages over more multi-specific purpose libraries such as `plotly`, as ilustrated in the following examples.\n",
    "\n",
    "We will use the Happy Planet Index (HPI) http://happyplanetindex.org/ dataset to ilustrate some potentialities of `altair`to generate scatter and bar plots with a variety of interactive elements. The dataset shows *where people are using ecological resources more efficiently to live long, happy lives*.\n",
    "\n",
    "Import the necessary modules or functions:"
   ]
  },
  {
   "cell_type": "code",
   "execution_count": 87,
   "metadata": {},
   "outputs": [],
   "source": [
    "import seaborn as sns\n",
    "import matplotlib.pyplot as plt\n",
    "import pandas as pd\n",
    "import altair as alt"
   ]
  },
  {
   "attachments": {},
   "cell_type": "markdown",
   "metadata": {},
   "source": [
    "Download and check the dataset. Each line (datapoint) will correspond to a country."
   ]
  },
  {
   "cell_type": "code",
   "execution_count": null,
   "metadata": {},
   "outputs": [],
   "source": [
    "#Download the data from Github repo \n",
    "hpi_url = \"https://raw.githubusercontent.com/TrainingByPackt/Interactive-Data-Visualization-with-Python/master/datasets/hpi_data_countries.tsv\"\n",
    "\n",
    "# Once downloaded, read it into a dataframe using pandas\n",
    "hpi_df = pd.read_csv(hpi_url, sep='\\t')\n",
    "hpi_df.head()"
   ]
  },
  {
   "attachments": {},
   "cell_type": "markdown",
   "metadata": {},
   "source": [
    "Plot a static scatter plot with `matplotlib`"
   ]
  },
  {
   "cell_type": "code",
   "execution_count": null,
   "metadata": {},
   "outputs": [],
   "source": [
    "fig = plt.figure()\n",
    "ax = fig.add_subplot(111)\n",
    "ax = sns.scatterplot(x='Wellbeing (0-10)', y='Happy Planet Index', hue='Region', data=hpi_df)\n",
    "plt.show()"
   ]
  },
  {
   "attachments": {},
   "cell_type": "markdown",
   "metadata": {},
   "source": [
    "Add `zooming`"
   ]
  },
  {
   "cell_type": "code",
   "execution_count": null,
   "metadata": {},
   "outputs": [],
   "source": [
    "alt.Chart(hpi_df).mark_circle().encode( # mark_circle() denote datapoints using filled circles (use mark_points for empty circles)\n",
    "x='Wellbeing (0-10):Q', # with the encode function you specify the features on the x and y axes.\n",
    "y='Happy Planet Index:Q', # Q denotes quantitative features (helps altair to identify the type of features)\n",
    "color='Region:N', # N denotes nominal features\n",
    ").interactive() # makes the plot interactive for zooming (e.g. using the mouse wheel)"
   ]
  },
  {
   "attachments": {},
   "cell_type": "markdown",
   "metadata": {},
   "source": [
    "Add `hover`"
   ]
  },
  {
   "cell_type": "code",
   "execution_count": null,
   "metadata": {},
   "outputs": [],
   "source": [
    "selected_area = alt.selection_interval()\n",
    "alt.Chart(hpi_df).mark_circle().encode(\n",
    "x='Wellbeing (0-10):Q',\n",
    "y='Happy Planet Index:Q',\n",
    "color='Region:N',\n",
    "tooltip= ['Country', 'Region', 'Wellbeing (0-10)', 'Happy Planet Index', 'Life Expectancy (years)',] # add tooltip with the selected information\n",
    ")"
   ]
  },
  {
   "attachments": {},
   "cell_type": "markdown",
   "metadata": {},
   "source": [
    "`Hover` and `zooming`"
   ]
  },
  {
   "cell_type": "code",
   "execution_count": null,
   "metadata": {},
   "outputs": [],
   "source": [
    "selected_area = alt.selection_interval()\n",
    "alt.Chart(hpi_df).mark_circle().encode(\n",
    "x='Wellbeing (0-10):Q',\n",
    "y='Happy Planet Index:Q',\n",
    "color='Region:N',\n",
    "tooltip= ['Country', 'Region', 'Wellbeing (0-10)', 'Happy Planet Index', 'Life Expectancy (years)',] # add tooltip with the selected information\n",
    ").interactive()"
   ]
  },
  {
   "attachments": {},
   "cell_type": "markdown",
   "metadata": {},
   "source": [
    "`Select` and `highlight` functionality on a scatter plot"
   ]
  },
  {
   "cell_type": "code",
   "execution_count": null,
   "metadata": {},
   "outputs": [],
   "source": [
    "selected_area = alt.selection_interval() # define the selected area variable to store the selection interval\n",
    "\n",
    "alt.Chart(hpi_df).mark_circle().encode(\n",
    "x='Wellbeing (0-10):Q',\n",
    "y='Happy Planet Index:Q',\n",
    "color=alt.condition(selected_area, 'Region', alt. # condition to retain color only in points inside the selected area (try to click and drag to select a region)\n",
    "value('lightgray')),\n",
    "tooltip= ['Country', 'Region', 'Wellbeing (0-10)', 'Happy Planet Index', 'Life Expectancy (years)',]\n",
    ").add_params(selected_area)"
   ]
  },
  {
   "attachments": {},
   "cell_type": "markdown",
   "metadata": {},
   "source": [
    "Add hover, tooltip, select and highlight across multiple charts"
   ]
  },
  {
   "cell_type": "code",
   "execution_count": null,
   "metadata": {},
   "outputs": [],
   "source": [
    "# hover and tooltip across multiple charts\n",
    "selected_area = alt.selection_interval()\n",
    "\n",
    "chart = alt.Chart(hpi_df).mark_circle().encode(\n",
    "y='Happy Planet Index',\n",
    "color=alt.condition(selected_area, 'Region', alt.\n",
    "value('lightgray'))\n",
    ").add_params(selected_area)\n",
    "chart1 = chart.encode(x='Wellbeing (0-10)')\n",
    "chart2 = chart.encode(x='Life Expectancy (years)')\n",
    "chart1 | chart2"
   ]
  },
  {
   "attachments": {},
   "cell_type": "markdown",
   "metadata": {},
   "source": [
    "Selection based on values of a feature using a `dropdown menu`"
   ]
  },
  {
   "cell_type": "code",
   "execution_count": null,
   "metadata": {},
   "outputs": [],
   "source": [
    "selected_area = alt.selection_interval()\n",
    "\n",
    "input_dropdown = alt.binding_select(options=list(set(hpi_df.Region)))\n",
    "selected_points = alt.selection_single(fields=['Region'], bind=input_dropdown, name='Select')\n",
    "color = alt.condition(selected_points,\n",
    "alt.Color('Region:N'),\n",
    "alt.value('lightgray'))\n",
    "alt.Chart(hpi_df).mark_circle().encode(\n",
    "x='Wellbeing (0-10):Q',\n",
    "y='Happy Planet Index:Q',\n",
    "color=color,\n",
    "tooltip='Region:N'\n",
    ").add_params(selected_points)"
   ]
  },
  {
   "attachments": {},
   "cell_type": "markdown",
   "metadata": {},
   "source": [
    "Barplot with line representing the mean of the selected bars"
   ]
  },
  {
   "cell_type": "code",
   "execution_count": null,
   "metadata": {},
   "outputs": [],
   "source": [
    "selected_bars = alt.selection_interval(encodings=['x'])\n",
    "\n",
    "bars = alt.Chart(hpi_df).mark_bar().encode(\n",
    "x='Region:N',\n",
    "y='mean(Happy Planet Index):Q',\n",
    "opacity=alt.condition(selected_bars, alt.OpacityValue(1), alt.\n",
    "OpacityValue(0.7)),\n",
    ").properties(width=400).add_params(selected_bars)\n",
    "\n",
    "line = alt.Chart(hpi_df).mark_rule(color='firebrick').encode( # draw a line representing the mean \"Happy Planet Index\"\n",
    "y='mean(Happy Planet Index):Q',\n",
    "size=alt.SizeValue(3) # set line thickness\n",
    ").transform_filter(selected_bars) # condition to only consider the mean of the selected bars\n",
    "bars + line"
   ]
  },
  {
   "attachments": {},
   "cell_type": "markdown",
   "metadata": {},
   "source": [
    "Heatplot woth interactive zooming"
   ]
  },
  {
   "cell_type": "code",
   "execution_count": null,
   "metadata": {},
   "outputs": [],
   "source": [
    "alt.Chart(hpi_df).mark_rect().encode(\n",
    "alt.X('Happy Planet Index:Q', bin=True),\n",
    "alt.Y('Wellbeing (0-10):Q', bin=True),\n",
    "alt.Color('count()',\n",
    "scale=alt.Scale(scheme='greenblue'),\n",
    "legend=alt.Legend(title='Total Countries')\n",
    ")\n",
    ").interactive()"
   ]
  },
  {
   "attachments": {},
   "cell_type": "markdown",
   "metadata": {},
   "source": [
    "Dinamically linking a bar plot and a heatmap.\n",
    "\n",
    "Static plots"
   ]
  },
  {
   "cell_type": "code",
   "execution_count": null,
   "metadata": {},
   "outputs": [],
   "source": [
    "#Merge the code to place the bar chart and heatmap next to each other.\n",
    "bars = alt.Chart(hpi_df).mark_bar().encode(\n",
    "    x='Region:N',\n",
    "    y='count():Q',\n",
    ").properties(width=350)\n",
    "\n",
    "heatmap = alt.Chart(hpi_df).mark_rect().encode(\n",
    "    alt.X('Wellbeing (0-10):Q', bin=True),\n",
    "    alt.Y('Life Expectancy (years):Q', bin=True),\n",
    "    alt.Color('count()',\n",
    "        scale=alt.Scale(scheme='greenblue'),\n",
    "        legend=alt.Legend(title='Total Countries')\n",
    "    )\n",
    ").properties(width=350)\n",
    "\n",
    "bars | heatmap"
   ]
  },
  {
   "attachments": {},
   "cell_type": "markdown",
   "metadata": {},
   "source": [
    "Dynamic plots"
   ]
  },
  {
   "cell_type": "code",
   "execution_count": 181,
   "metadata": {},
   "outputs": [],
   "source": [
    "# Heatplot\n",
    "selected_region = alt.selection(type=\"single\", encodings=['x'])\n",
    "\n",
    "heatmap = alt.Chart(hpi_df).mark_rect().encode(\n",
    "    alt.X('Wellbeing (0-10):Q', bin=True),\n",
    "    alt.Y('Life Expectancy (years):Q', bin=True),\n",
    "    alt.Color('count()',\n",
    "        scale=alt.Scale(scheme='greenblue'),\n",
    "        legend=alt.Legend(title='Total Countries')\n",
    "    )\n",
    ").properties(width=350)"
   ]
  },
  {
   "cell_type": "code",
   "execution_count": 182,
   "metadata": {},
   "outputs": [],
   "source": [
    "# Place circles in the heatplot denoting the number of samples \n",
    "circles = heatmap.mark_point().encode(\n",
    "    alt.ColorValue('grey'),\n",
    "    alt.Size('count()',\n",
    "        legend=alt.Legend(title='Records in Selection')\n",
    "    )\n",
    ").transform_filter(selected_region)"
   ]
  },
  {
   "attachments": {},
   "cell_type": "markdown",
   "metadata": {},
   "source": [
    "After the following code try to click on top on each bar."
   ]
  },
  {
   "cell_type": "code",
   "execution_count": null,
   "metadata": {},
   "outputs": [],
   "source": [
    "#Place the bars\n",
    "bars = alt.Chart(hpi_df).mark_bar().encode(\n",
    "    x='Region:N',\n",
    "    y='count()',\n",
    "    color=alt.condition(selected_region, alt.ColorValue(\"steelblue\"), alt.ColorValue(\"grey\"))\n",
    ").properties(\n",
    "    width=350\n",
    ").add_params(selected_region)\n",
    "\n",
    "bars | heatmap + circles"
   ]
  },
  {
   "attachments": {},
   "cell_type": "markdown",
   "metadata": {},
   "source": [
    "## References\n",
    "\n",
    "Dash Python User Guide. https://dash.plotly.com/\n",
    "\n",
    "Dash in 20 Minutes. https://dash.plotly.com/tutorial\n",
    "\n",
    "Interactive Data Visualization with Python. https://github.com/TrainingByPackt/Interactive-Data-Visualization-with-Python \n",
    "\n",
    "PCA Visualization in Python. https://plotly.com/python/pca-visualization/\n",
    "\n",
    "Plotly Express in Python. https://plotly.com/python/plotly-express/\n",
    "\n",
    "Plotly Open Source Graphing Library for Python. https://plotly.com/python/\n",
    "\n",
    "3 Cool Features of Python Altair. https://towardsdatascience.com/3-cool-features-of-python-altair-deb3f432cc11"
   ]
  }
 ],
 "metadata": {
  "kernelspec": {
   "display_name": "Python 3",
   "language": "python",
   "name": "python3"
  },
  "language_info": {
   "codemirror_mode": {
    "name": "ipython",
    "version": 3
   },
   "file_extension": ".py",
   "mimetype": "text/x-python",
   "name": "python",
   "nbconvert_exporter": "python",
   "pygments_lexer": "ipython3",
   "version": "3.11.2"
  },
  "orig_nbformat": 4
 },
 "nbformat": 4,
 "nbformat_minor": 2
}
